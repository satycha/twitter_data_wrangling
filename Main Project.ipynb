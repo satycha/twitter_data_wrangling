{
 "cells": [
  {
   "cell_type": "markdown",
   "metadata": {},
   "source": [
    "# Project: Wrangling and Analyze Data"
   ]
  },
  {
   "cell_type": "markdown",
   "metadata": {},
   "source": [
    "# Table of Contents\n",
    "1. [Data Gathering](#dg)\n",
    "2. [Assessing Data](#ad)\n",
    "3. [Cleaning Data](#cd)\n",
    "4. [Storing Data](#sd)\n",
    "5. [Analyzing and Visualizing](#avd)"
   ]
  },
  {
   "cell_type": "markdown",
   "metadata": {},
   "source": [
    "## Data Gathering \n",
    "<a id=\"dg\"></a>\n",
    "In the cell below, gather **all** three pieces of data for this project and load them in the notebook. **Note:** the methods required to gather each data are different.\n",
    "1. Directly download the WeRateDogs Twitter archive data (twitter_archive_enhanced.csv)"
   ]
  },
  {
   "cell_type": "code",
   "execution_count": 2,
   "metadata": {},
   "outputs": [],
   "source": [
    "#importing packages\n",
    "import pandas as pd \n",
    "import numpy as np \n",
    "import requests\n",
    "import tweepy\n",
    "import seaborn as sns\n",
    "from timeit import default_timer as timer\n",
    "import json\n",
    "import matplotlib.pyplot as plt\n",
    "%matplotlib inline"
   ]
  },
  {
   "cell_type": "code",
   "execution_count": 3,
   "metadata": {},
   "outputs": [],
   "source": [
    "#gathering 'twitter-archive-enhanced.csv' provided by Udacity\n",
    "archive_enhanced = pd.read_csv('twitter-archive-enhanced.csv')"
   ]
  },
  {
   "cell_type": "markdown",
   "metadata": {},
   "source": [
    "2. Use the Requests library to download the tweet image prediction (image_predictions.tsv)"
   ]
  },
  {
   "cell_type": "code",
   "execution_count": 4,
   "metadata": {},
   "outputs": [
    {
     "name": "stdout",
     "output_type": "stream",
     "text": [
      "<Response [200]>\n"
     ]
    }
   ],
   "source": [
    "#utilizing the request package to download 'image-predictions.tsv'\n",
    "url = 'https://d17h27t6h515a5.cloudfront.net/topher/2017/August/599fd2ad_image-predictions/image-predictions.tsv'\n",
    "response = requests.get(url)\n",
    "print(response)\n",
    "with open (\"img-pred.tsv\", 'w') as file:\n",
    "    file.write(response.text)"
   ]
  },
  {
   "cell_type": "code",
   "execution_count": 5,
   "metadata": {},
   "outputs": [],
   "source": [
    "#reading the tsv content received from the above url \n",
    "img_pred = pd.read_csv('img-pred.tsv', sep = '\\t')"
   ]
  },
  {
   "cell_type": "code",
   "execution_count": 6,
   "metadata": {},
   "outputs": [],
   "source": [
    "#########################"
   ]
  },
  {
   "cell_type": "code",
   "execution_count": 7,
   "metadata": {},
   "outputs": [],
   "source": [
    "#initiating programmating pulling of twitter via API\n",
    "#storing twitter id into a variable to pull those tweets from twitter\n",
    "tweet_id = archive_enhanced['tweet_id']"
   ]
  },
  {
   "cell_type": "code",
   "execution_count": 8,
   "metadata": {},
   "outputs": [
    {
     "data": {
      "text/plain": [
       "array([892420643555336193, 892177421306343426, 891815181378084864, ...,\n",
       "       666033412701032449, 666029285002620928, 666020888022790149])"
      ]
     },
     "execution_count": 8,
     "metadata": {},
     "output_type": "execute_result"
    }
   ],
   "source": [
    "archive_enhanced.tweet_id.values"
   ]
  },
  {
   "cell_type": "code",
   "execution_count": 51,
   "metadata": {},
   "outputs": [],
   "source": [
    "r= requests.get(url)"
   ]
  },
  {
   "cell_type": "code",
   "execution_count": 9,
   "metadata": {},
   "outputs": [],
   "source": [
    "#removed consumer key and access key \n",
    "\n",
    "\n",
    "auth = tweepy.OAuthHandler(consumer_key, consumer_secret)\n",
    "auth.set_access_token(access_token, access_secret)\n",
    "\n",
    "api = tweepy.API(auth, wait_on_rate_limit=True)"
   ]
  },
  {
   "cell_type": "markdown",
   "metadata": {},
   "source": [
    "3. Use the Tweepy library to query additional data via the Twitter API (tweet_json.txt)"
   ]
  },
  {
   "cell_type": "code",
   "execution_count": 10,
   "metadata": {},
   "outputs": [],
   "source": [
    "#testing api pull for one tweet in below cells to figure out the steps \n",
    "start = timer()\n",
    "tweet = api.get_status(892420643555336193)\n",
    "tweet\n",
    "end = timer()\n",
    "time = end - start"
   ]
  },
  {
   "cell_type": "code",
   "execution_count": 11,
   "metadata": {},
   "outputs": [
    {
     "data": {
      "text/plain": [
       "0.236271416000001"
      ]
     },
     "execution_count": 11,
     "metadata": {},
     "output_type": "execute_result"
    }
   ],
   "source": [
    "time"
   ]
  },
  {
   "cell_type": "code",
   "execution_count": 12,
   "metadata": {},
   "outputs": [
    {
     "data": {
      "text/plain": [
       "tweepy.models.Status"
      ]
     },
     "execution_count": 12,
     "metadata": {},
     "output_type": "execute_result"
    }
   ],
   "source": [
    "type(tweet)"
   ]
  },
  {
   "cell_type": "code",
   "execution_count": 13,
   "metadata": {},
   "outputs": [],
   "source": [
    "j = json.dumps(tweet._json)"
   ]
  },
  {
   "cell_type": "code",
   "execution_count": 14,
   "metadata": {},
   "outputs": [],
   "source": [
    "with open('tweet.txt', 'w') as file:\n",
    "    tweet_data =json.dump(tweet._json, file)\n",
    "    file.close()"
   ]
  },
  {
   "cell_type": "code",
   "execution_count": 15,
   "metadata": {},
   "outputs": [
    {
     "name": "stdout",
     "output_type": "stream",
     "text": [
      "Fail\n",
      "Fail\n",
      "Fail\n",
      "Fail\n",
      "Fail\n",
      "Fail\n",
      "Fail\n",
      "Fail\n",
      "Fail\n",
      "Fail\n",
      "Fail\n",
      "Fail\n",
      "Fail\n",
      "Fail\n",
      "Fail\n",
      "Fail\n",
      "Fail\n",
      "Fail\n",
      "Fail\n",
      "Fail\n",
      "Fail\n",
      "Fail\n",
      "Fail\n",
      "Fail\n",
      "Fail\n",
      "Fail\n"
     ]
    },
    {
     "name": "stderr",
     "output_type": "stream",
     "text": [
      "Rate limit reached. Sleeping for: 703\n"
     ]
    },
    {
     "name": "stdout",
     "output_type": "stream",
     "text": [
      "Fail\n",
      "Fail\n"
     ]
    },
    {
     "name": "stderr",
     "output_type": "stream",
     "text": [
      "Rate limit reached. Sleeping for: 717\n"
     ]
    },
    {
     "name": "stdout",
     "output_type": "stream",
     "text": [
      "1892.7308950420002\n",
      "1\n"
     ]
    }
   ],
   "source": [
    "#pulling data for all the tweet ids from enhanced csv\n",
    "count = 0\n",
    "fails_dict = {}\n",
    "fai =[]\n",
    "fail_count = 0\n",
    "start =timer()\n",
    "with open('tweet.txt', 'w') as file:\n",
    "    for x in tweet_id:\n",
    "        count = +1\n",
    "        try:  \n",
    "            tweet = api.get_status(x)\n",
    "            tweet_data = json.dump(tweet._json, file)\n",
    "            file.write('\\n')\n",
    "        except:\n",
    "            print(\"Fail\")\n",
    "            fail_count = +1\n",
    "            fai = x\n",
    "            \n",
    "    file.close()\n",
    "end = timer()\n",
    "print(end-start)\n",
    "print(fail_count)"
   ]
  },
  {
   "cell_type": "code",
   "execution_count": 9,
   "metadata": {
    "scrolled": true
   },
   "outputs": [
    {
     "data": {
      "text/html": [
       "<div>\n",
       "<style scoped>\n",
       "    .dataframe tbody tr th:only-of-type {\n",
       "        vertical-align: middle;\n",
       "    }\n",
       "\n",
       "    .dataframe tbody tr th {\n",
       "        vertical-align: top;\n",
       "    }\n",
       "\n",
       "    .dataframe thead th {\n",
       "        text-align: right;\n",
       "    }\n",
       "</style>\n",
       "<table border=\"1\" class=\"dataframe\">\n",
       "  <thead>\n",
       "    <tr style=\"text-align: right;\">\n",
       "      <th></th>\n",
       "      <th>created_at</th>\n",
       "      <th>id</th>\n",
       "      <th>id_str</th>\n",
       "      <th>text</th>\n",
       "      <th>truncated</th>\n",
       "      <th>entities</th>\n",
       "      <th>extended_entities</th>\n",
       "      <th>source</th>\n",
       "      <th>in_reply_to_status_id</th>\n",
       "      <th>in_reply_to_status_id_str</th>\n",
       "      <th>...</th>\n",
       "      <th>favorite_count</th>\n",
       "      <th>favorited</th>\n",
       "      <th>retweeted</th>\n",
       "      <th>possibly_sensitive</th>\n",
       "      <th>possibly_sensitive_appealable</th>\n",
       "      <th>lang</th>\n",
       "      <th>retweeted_status</th>\n",
       "      <th>quoted_status_id</th>\n",
       "      <th>quoted_status_id_str</th>\n",
       "      <th>quoted_status</th>\n",
       "    </tr>\n",
       "  </thead>\n",
       "  <tbody>\n",
       "    <tr>\n",
       "      <th>0</th>\n",
       "      <td>2017-08-01 16:23:56+00:00</td>\n",
       "      <td>892420643555336193</td>\n",
       "      <td>892420643555336192</td>\n",
       "      <td>This is Phineas. He's a mystical boy. Only eve...</td>\n",
       "      <td>False</td>\n",
       "      <td>{'hashtags': [], 'symbols': [], 'user_mentions...</td>\n",
       "      <td>{'media': [{'id': 892420639486877696, 'id_str'...</td>\n",
       "      <td>&lt;a href=\"http://twitter.com/download/iphone\" r...</td>\n",
       "      <td>NaN</td>\n",
       "      <td>NaN</td>\n",
       "      <td>...</td>\n",
       "      <td>34362</td>\n",
       "      <td>False</td>\n",
       "      <td>False</td>\n",
       "      <td>0.0</td>\n",
       "      <td>0.0</td>\n",
       "      <td>en</td>\n",
       "      <td>NaN</td>\n",
       "      <td>NaN</td>\n",
       "      <td>NaN</td>\n",
       "      <td>NaN</td>\n",
       "    </tr>\n",
       "    <tr>\n",
       "      <th>1</th>\n",
       "      <td>2017-08-01 00:17:27+00:00</td>\n",
       "      <td>892177421306343426</td>\n",
       "      <td>892177421306343424</td>\n",
       "      <td>This is Tilly. She's just checking pup on you....</td>\n",
       "      <td>True</td>\n",
       "      <td>{'hashtags': [], 'symbols': [], 'user_mentions...</td>\n",
       "      <td>NaN</td>\n",
       "      <td>&lt;a href=\"http://twitter.com/download/iphone\" r...</td>\n",
       "      <td>NaN</td>\n",
       "      <td>NaN</td>\n",
       "      <td>...</td>\n",
       "      <td>29787</td>\n",
       "      <td>False</td>\n",
       "      <td>False</td>\n",
       "      <td>0.0</td>\n",
       "      <td>0.0</td>\n",
       "      <td>en</td>\n",
       "      <td>NaN</td>\n",
       "      <td>NaN</td>\n",
       "      <td>NaN</td>\n",
       "      <td>NaN</td>\n",
       "    </tr>\n",
       "    <tr>\n",
       "      <th>2</th>\n",
       "      <td>2017-07-31 00:18:03+00:00</td>\n",
       "      <td>891815181378084864</td>\n",
       "      <td>891815181378084864</td>\n",
       "      <td>This is Archie. He is a rare Norwegian Pouncin...</td>\n",
       "      <td>True</td>\n",
       "      <td>{'hashtags': [], 'symbols': [], 'user_mentions...</td>\n",
       "      <td>NaN</td>\n",
       "      <td>&lt;a href=\"http://twitter.com/download/iphone\" r...</td>\n",
       "      <td>NaN</td>\n",
       "      <td>NaN</td>\n",
       "      <td>...</td>\n",
       "      <td>22415</td>\n",
       "      <td>False</td>\n",
       "      <td>False</td>\n",
       "      <td>0.0</td>\n",
       "      <td>0.0</td>\n",
       "      <td>en</td>\n",
       "      <td>NaN</td>\n",
       "      <td>NaN</td>\n",
       "      <td>NaN</td>\n",
       "      <td>NaN</td>\n",
       "    </tr>\n",
       "    <tr>\n",
       "      <th>3</th>\n",
       "      <td>2017-07-30 15:58:51+00:00</td>\n",
       "      <td>891689557279858688</td>\n",
       "      <td>891689557279858688</td>\n",
       "      <td>This is Darla. She commenced a snooze mid meal...</td>\n",
       "      <td>False</td>\n",
       "      <td>{'hashtags': [], 'symbols': [], 'user_mentions...</td>\n",
       "      <td>{'media': [{'id': 891689552724799489, 'id_str'...</td>\n",
       "      <td>&lt;a href=\"http://twitter.com/download/iphone\" r...</td>\n",
       "      <td>NaN</td>\n",
       "      <td>NaN</td>\n",
       "      <td>...</td>\n",
       "      <td>37543</td>\n",
       "      <td>False</td>\n",
       "      <td>False</td>\n",
       "      <td>0.0</td>\n",
       "      <td>0.0</td>\n",
       "      <td>en</td>\n",
       "      <td>NaN</td>\n",
       "      <td>NaN</td>\n",
       "      <td>NaN</td>\n",
       "      <td>NaN</td>\n",
       "    </tr>\n",
       "    <tr>\n",
       "      <th>4</th>\n",
       "      <td>2017-07-29 16:00:24+00:00</td>\n",
       "      <td>891327558926688256</td>\n",
       "      <td>891327558926688256</td>\n",
       "      <td>This is Franklin. He would like you to stop ca...</td>\n",
       "      <td>True</td>\n",
       "      <td>{'hashtags': [], 'symbols': [], 'user_mentions...</td>\n",
       "      <td>NaN</td>\n",
       "      <td>&lt;a href=\"http://twitter.com/download/iphone\" r...</td>\n",
       "      <td>NaN</td>\n",
       "      <td>NaN</td>\n",
       "      <td>...</td>\n",
       "      <td>35863</td>\n",
       "      <td>False</td>\n",
       "      <td>False</td>\n",
       "      <td>0.0</td>\n",
       "      <td>0.0</td>\n",
       "      <td>en</td>\n",
       "      <td>NaN</td>\n",
       "      <td>NaN</td>\n",
       "      <td>NaN</td>\n",
       "      <td>NaN</td>\n",
       "    </tr>\n",
       "  </tbody>\n",
       "</table>\n",
       "<p>5 rows × 30 columns</p>\n",
       "</div>"
      ],
      "text/plain": [
       "                 created_at                  id              id_str  \\\n",
       "0 2017-08-01 16:23:56+00:00  892420643555336193  892420643555336192   \n",
       "1 2017-08-01 00:17:27+00:00  892177421306343426  892177421306343424   \n",
       "2 2017-07-31 00:18:03+00:00  891815181378084864  891815181378084864   \n",
       "3 2017-07-30 15:58:51+00:00  891689557279858688  891689557279858688   \n",
       "4 2017-07-29 16:00:24+00:00  891327558926688256  891327558926688256   \n",
       "\n",
       "                                                text  truncated  \\\n",
       "0  This is Phineas. He's a mystical boy. Only eve...      False   \n",
       "1  This is Tilly. She's just checking pup on you....       True   \n",
       "2  This is Archie. He is a rare Norwegian Pouncin...       True   \n",
       "3  This is Darla. She commenced a snooze mid meal...      False   \n",
       "4  This is Franklin. He would like you to stop ca...       True   \n",
       "\n",
       "                                            entities  \\\n",
       "0  {'hashtags': [], 'symbols': [], 'user_mentions...   \n",
       "1  {'hashtags': [], 'symbols': [], 'user_mentions...   \n",
       "2  {'hashtags': [], 'symbols': [], 'user_mentions...   \n",
       "3  {'hashtags': [], 'symbols': [], 'user_mentions...   \n",
       "4  {'hashtags': [], 'symbols': [], 'user_mentions...   \n",
       "\n",
       "                                   extended_entities  \\\n",
       "0  {'media': [{'id': 892420639486877696, 'id_str'...   \n",
       "1                                                NaN   \n",
       "2                                                NaN   \n",
       "3  {'media': [{'id': 891689552724799489, 'id_str'...   \n",
       "4                                                NaN   \n",
       "\n",
       "                                              source  in_reply_to_status_id  \\\n",
       "0  <a href=\"http://twitter.com/download/iphone\" r...                    NaN   \n",
       "1  <a href=\"http://twitter.com/download/iphone\" r...                    NaN   \n",
       "2  <a href=\"http://twitter.com/download/iphone\" r...                    NaN   \n",
       "3  <a href=\"http://twitter.com/download/iphone\" r...                    NaN   \n",
       "4  <a href=\"http://twitter.com/download/iphone\" r...                    NaN   \n",
       "\n",
       "   in_reply_to_status_id_str  ...  favorite_count  favorited retweeted  \\\n",
       "0                        NaN  ...           34362      False     False   \n",
       "1                        NaN  ...           29787      False     False   \n",
       "2                        NaN  ...           22415      False     False   \n",
       "3                        NaN  ...           37543      False     False   \n",
       "4                        NaN  ...           35863      False     False   \n",
       "\n",
       "  possibly_sensitive  possibly_sensitive_appealable  lang retweeted_status  \\\n",
       "0                0.0                            0.0    en              NaN   \n",
       "1                0.0                            0.0    en              NaN   \n",
       "2                0.0                            0.0    en              NaN   \n",
       "3                0.0                            0.0    en              NaN   \n",
       "4                0.0                            0.0    en              NaN   \n",
       "\n",
       "   quoted_status_id  quoted_status_id_str  quoted_status  \n",
       "0               NaN                   NaN            NaN  \n",
       "1               NaN                   NaN            NaN  \n",
       "2               NaN                   NaN            NaN  \n",
       "3               NaN                   NaN            NaN  \n",
       "4               NaN                   NaN            NaN  \n",
       "\n",
       "[5 rows x 30 columns]"
      ]
     },
     "execution_count": 9,
     "metadata": {},
     "output_type": "execute_result"
    }
   ],
   "source": [
    "#reading data received from twitter\n",
    "data = pd.read_json('tweet.txt', lines =True)\n",
    "data.head()"
   ]
  },
  {
   "cell_type": "markdown",
   "metadata": {},
   "source": [
    "### - At this point we have gathered all the data we need. We will initiate data assessment"
   ]
  },
  {
   "cell_type": "markdown",
   "metadata": {},
   "source": [
    "## Assessing Data\n",
    "<a id=\"ad\"></a>\n",
    "In this section, detect and document at least **eight (8) quality issues and two (2) tidiness issue**. You must use **both** visual assessment\n",
    "programmatic assessement to assess the data.\n",
    "\n",
    "**Note:** pay attention to the following key points when you access the data.\n",
    "\n",
    "* You only want original ratings (no retweets) that have images. Though there are 5000+ tweets in the dataset, not all are dog ratings and some are retweets.\n",
    "* Assessing and cleaning the entire dataset completely would require a lot of time, and is not necessary to practice and demonstrate your skills in data wrangling. Therefore, the requirements of this project are only to assess and clean at least 8 quality issues and at least 2 tidiness issues in this dataset.\n",
    "* The fact that the rating numerators are greater than the denominators does not need to be cleaned. This [unique rating system](http://knowyourmeme.com/memes/theyre-good-dogs-brent) is a big part of the popularity of WeRateDogs.\n",
    "* You do not need to gather the tweets beyond August 1st, 2017. You can, but note that you won't be able to gather the image predictions for these tweets since you don't have access to the algorithm used.\n",
    "\n"
   ]
  },
  {
   "cell_type": "code",
   "execution_count": 10,
   "metadata": {},
   "outputs": [
    {
     "data": {
      "text/html": [
       "<div>\n",
       "<style scoped>\n",
       "    .dataframe tbody tr th:only-of-type {\n",
       "        vertical-align: middle;\n",
       "    }\n",
       "\n",
       "    .dataframe tbody tr th {\n",
       "        vertical-align: top;\n",
       "    }\n",
       "\n",
       "    .dataframe thead th {\n",
       "        text-align: right;\n",
       "    }\n",
       "</style>\n",
       "<table border=\"1\" class=\"dataframe\">\n",
       "  <thead>\n",
       "    <tr style=\"text-align: right;\">\n",
       "      <th></th>\n",
       "      <th>tweet_id</th>\n",
       "      <th>in_reply_to_status_id</th>\n",
       "      <th>in_reply_to_user_id</th>\n",
       "      <th>timestamp</th>\n",
       "      <th>source</th>\n",
       "      <th>text</th>\n",
       "      <th>retweeted_status_id</th>\n",
       "      <th>retweeted_status_user_id</th>\n",
       "      <th>retweeted_status_timestamp</th>\n",
       "      <th>expanded_urls</th>\n",
       "      <th>rating_numerator</th>\n",
       "      <th>rating_denominator</th>\n",
       "      <th>name</th>\n",
       "      <th>doggo</th>\n",
       "      <th>floofer</th>\n",
       "      <th>pupper</th>\n",
       "      <th>puppo</th>\n",
       "    </tr>\n",
       "  </thead>\n",
       "  <tbody>\n",
       "    <tr>\n",
       "      <th>0</th>\n",
       "      <td>892420643555336193</td>\n",
       "      <td>NaN</td>\n",
       "      <td>NaN</td>\n",
       "      <td>2017-08-01 16:23:56 +0000</td>\n",
       "      <td>&lt;a href=\"http://twitter.com/download/iphone\" r...</td>\n",
       "      <td>This is Phineas. He's a mystical boy. Only eve...</td>\n",
       "      <td>NaN</td>\n",
       "      <td>NaN</td>\n",
       "      <td>NaN</td>\n",
       "      <td>https://twitter.com/dog_rates/status/892420643...</td>\n",
       "      <td>13</td>\n",
       "      <td>10</td>\n",
       "      <td>Phineas</td>\n",
       "      <td>None</td>\n",
       "      <td>None</td>\n",
       "      <td>None</td>\n",
       "      <td>None</td>\n",
       "    </tr>\n",
       "    <tr>\n",
       "      <th>1</th>\n",
       "      <td>892177421306343426</td>\n",
       "      <td>NaN</td>\n",
       "      <td>NaN</td>\n",
       "      <td>2017-08-01 00:17:27 +0000</td>\n",
       "      <td>&lt;a href=\"http://twitter.com/download/iphone\" r...</td>\n",
       "      <td>This is Tilly. She's just checking pup on you....</td>\n",
       "      <td>NaN</td>\n",
       "      <td>NaN</td>\n",
       "      <td>NaN</td>\n",
       "      <td>https://twitter.com/dog_rates/status/892177421...</td>\n",
       "      <td>13</td>\n",
       "      <td>10</td>\n",
       "      <td>Tilly</td>\n",
       "      <td>None</td>\n",
       "      <td>None</td>\n",
       "      <td>None</td>\n",
       "      <td>None</td>\n",
       "    </tr>\n",
       "  </tbody>\n",
       "</table>\n",
       "</div>"
      ],
      "text/plain": [
       "             tweet_id  in_reply_to_status_id  in_reply_to_user_id  \\\n",
       "0  892420643555336193                    NaN                  NaN   \n",
       "1  892177421306343426                    NaN                  NaN   \n",
       "\n",
       "                   timestamp  \\\n",
       "0  2017-08-01 16:23:56 +0000   \n",
       "1  2017-08-01 00:17:27 +0000   \n",
       "\n",
       "                                              source  \\\n",
       "0  <a href=\"http://twitter.com/download/iphone\" r...   \n",
       "1  <a href=\"http://twitter.com/download/iphone\" r...   \n",
       "\n",
       "                                                text  retweeted_status_id  \\\n",
       "0  This is Phineas. He's a mystical boy. Only eve...                  NaN   \n",
       "1  This is Tilly. She's just checking pup on you....                  NaN   \n",
       "\n",
       "   retweeted_status_user_id retweeted_status_timestamp  \\\n",
       "0                       NaN                        NaN   \n",
       "1                       NaN                        NaN   \n",
       "\n",
       "                                       expanded_urls  rating_numerator  \\\n",
       "0  https://twitter.com/dog_rates/status/892420643...                13   \n",
       "1  https://twitter.com/dog_rates/status/892177421...                13   \n",
       "\n",
       "   rating_denominator     name doggo floofer pupper puppo  \n",
       "0                  10  Phineas  None    None   None  None  \n",
       "1                  10    Tilly  None    None   None  None  "
      ]
     },
     "execution_count": 10,
     "metadata": {},
     "output_type": "execute_result"
    }
   ],
   "source": [
    "archive_enhanced.head(2)"
   ]
  },
  {
   "cell_type": "code",
   "execution_count": 11,
   "metadata": {},
   "outputs": [
    {
     "name": "stdout",
     "output_type": "stream",
     "text": [
      "<class 'pandas.core.frame.DataFrame'>\n",
      "RangeIndex: 2356 entries, 0 to 2355\n",
      "Data columns (total 17 columns):\n",
      " #   Column                      Non-Null Count  Dtype  \n",
      "---  ------                      --------------  -----  \n",
      " 0   tweet_id                    2356 non-null   int64  \n",
      " 1   in_reply_to_status_id       78 non-null     float64\n",
      " 2   in_reply_to_user_id         78 non-null     float64\n",
      " 3   timestamp                   2356 non-null   object \n",
      " 4   source                      2356 non-null   object \n",
      " 5   text                        2356 non-null   object \n",
      " 6   retweeted_status_id         181 non-null    float64\n",
      " 7   retweeted_status_user_id    181 non-null    float64\n",
      " 8   retweeted_status_timestamp  181 non-null    object \n",
      " 9   expanded_urls               2297 non-null   object \n",
      " 10  rating_numerator            2356 non-null   int64  \n",
      " 11  rating_denominator          2356 non-null   int64  \n",
      " 12  name                        2356 non-null   object \n",
      " 13  doggo                       2356 non-null   object \n",
      " 14  floofer                     2356 non-null   object \n",
      " 15  pupper                      2356 non-null   object \n",
      " 16  puppo                       2356 non-null   object \n",
      "dtypes: float64(4), int64(3), object(10)\n",
      "memory usage: 313.0+ KB\n"
     ]
    }
   ],
   "source": [
    "archive_enhanced.info()"
   ]
  },
  {
   "cell_type": "code",
   "execution_count": 12,
   "metadata": {},
   "outputs": [
    {
     "data": {
      "text/html": [
       "<div>\n",
       "<style scoped>\n",
       "    .dataframe tbody tr th:only-of-type {\n",
       "        vertical-align: middle;\n",
       "    }\n",
       "\n",
       "    .dataframe tbody tr th {\n",
       "        vertical-align: top;\n",
       "    }\n",
       "\n",
       "    .dataframe thead th {\n",
       "        text-align: right;\n",
       "    }\n",
       "</style>\n",
       "<table border=\"1\" class=\"dataframe\">\n",
       "  <thead>\n",
       "    <tr style=\"text-align: right;\">\n",
       "      <th></th>\n",
       "      <th>tweet_id</th>\n",
       "      <th>jpg_url</th>\n",
       "      <th>img_num</th>\n",
       "      <th>p1</th>\n",
       "      <th>p1_conf</th>\n",
       "      <th>p1_dog</th>\n",
       "      <th>p2</th>\n",
       "      <th>p2_conf</th>\n",
       "      <th>p2_dog</th>\n",
       "      <th>p3</th>\n",
       "      <th>p3_conf</th>\n",
       "      <th>p3_dog</th>\n",
       "    </tr>\n",
       "  </thead>\n",
       "  <tbody>\n",
       "    <tr>\n",
       "      <th>2073</th>\n",
       "      <td>892177421306343426</td>\n",
       "      <td>https://pbs.twimg.com/media/DGGmoV4XsAAUL6n.jpg</td>\n",
       "      <td>1</td>\n",
       "      <td>Chihuahua</td>\n",
       "      <td>0.323581</td>\n",
       "      <td>True</td>\n",
       "      <td>Pekinese</td>\n",
       "      <td>0.090647</td>\n",
       "      <td>True</td>\n",
       "      <td>papillon</td>\n",
       "      <td>0.068957</td>\n",
       "      <td>True</td>\n",
       "    </tr>\n",
       "    <tr>\n",
       "      <th>2074</th>\n",
       "      <td>892420643555336193</td>\n",
       "      <td>https://pbs.twimg.com/media/DGKD1-bXoAAIAUK.jpg</td>\n",
       "      <td>1</td>\n",
       "      <td>orange</td>\n",
       "      <td>0.097049</td>\n",
       "      <td>False</td>\n",
       "      <td>bagel</td>\n",
       "      <td>0.085851</td>\n",
       "      <td>False</td>\n",
       "      <td>banana</td>\n",
       "      <td>0.076110</td>\n",
       "      <td>False</td>\n",
       "    </tr>\n",
       "  </tbody>\n",
       "</table>\n",
       "</div>"
      ],
      "text/plain": [
       "                tweet_id                                          jpg_url  \\\n",
       "2073  892177421306343426  https://pbs.twimg.com/media/DGGmoV4XsAAUL6n.jpg   \n",
       "2074  892420643555336193  https://pbs.twimg.com/media/DGKD1-bXoAAIAUK.jpg   \n",
       "\n",
       "      img_num         p1   p1_conf  p1_dog        p2   p2_conf  p2_dog  \\\n",
       "2073        1  Chihuahua  0.323581    True  Pekinese  0.090647    True   \n",
       "2074        1     orange  0.097049   False     bagel  0.085851   False   \n",
       "\n",
       "            p3   p3_conf  p3_dog  \n",
       "2073  papillon  0.068957    True  \n",
       "2074    banana  0.076110   False  "
      ]
     },
     "execution_count": 12,
     "metadata": {},
     "output_type": "execute_result"
    }
   ],
   "source": [
    "img_pred.tail(2)"
   ]
  },
  {
   "cell_type": "code",
   "execution_count": 13,
   "metadata": {},
   "outputs": [],
   "source": [
    "img_pred.to_csv('img_pred.csv')"
   ]
  },
  {
   "cell_type": "code",
   "execution_count": 14,
   "metadata": {},
   "outputs": [
    {
     "data": {
      "text/plain": [
       "tweet_id    0\n",
       "jpg_url     0\n",
       "img_num     0\n",
       "p1          0\n",
       "p1_conf     0\n",
       "p1_dog      0\n",
       "p2          0\n",
       "p2_conf     0\n",
       "p2_dog      0\n",
       "p3          0\n",
       "p3_conf     0\n",
       "p3_dog      0\n",
       "dtype: int64"
      ]
     },
     "execution_count": 14,
     "metadata": {},
     "output_type": "execute_result"
    }
   ],
   "source": [
    "img_pred.isnull().sum()"
   ]
  },
  {
   "cell_type": "code",
   "execution_count": 15,
   "metadata": {},
   "outputs": [
    {
     "data": {
      "text/html": [
       "<div>\n",
       "<style scoped>\n",
       "    .dataframe tbody tr th:only-of-type {\n",
       "        vertical-align: middle;\n",
       "    }\n",
       "\n",
       "    .dataframe tbody tr th {\n",
       "        vertical-align: top;\n",
       "    }\n",
       "\n",
       "    .dataframe thead th {\n",
       "        text-align: right;\n",
       "    }\n",
       "</style>\n",
       "<table border=\"1\" class=\"dataframe\">\n",
       "  <thead>\n",
       "    <tr style=\"text-align: right;\">\n",
       "      <th></th>\n",
       "      <th>tweet_id</th>\n",
       "      <th>img_num</th>\n",
       "      <th>p1_conf</th>\n",
       "      <th>p2_conf</th>\n",
       "      <th>p3_conf</th>\n",
       "    </tr>\n",
       "  </thead>\n",
       "  <tbody>\n",
       "    <tr>\n",
       "      <th>count</th>\n",
       "      <td>2.075000e+03</td>\n",
       "      <td>2075.000000</td>\n",
       "      <td>2075.000000</td>\n",
       "      <td>2.075000e+03</td>\n",
       "      <td>2.075000e+03</td>\n",
       "    </tr>\n",
       "    <tr>\n",
       "      <th>mean</th>\n",
       "      <td>7.384514e+17</td>\n",
       "      <td>1.203855</td>\n",
       "      <td>0.594548</td>\n",
       "      <td>1.345886e-01</td>\n",
       "      <td>6.032417e-02</td>\n",
       "    </tr>\n",
       "    <tr>\n",
       "      <th>std</th>\n",
       "      <td>6.785203e+16</td>\n",
       "      <td>0.561875</td>\n",
       "      <td>0.271174</td>\n",
       "      <td>1.006657e-01</td>\n",
       "      <td>5.090593e-02</td>\n",
       "    </tr>\n",
       "    <tr>\n",
       "      <th>min</th>\n",
       "      <td>6.660209e+17</td>\n",
       "      <td>1.000000</td>\n",
       "      <td>0.044333</td>\n",
       "      <td>1.011300e-08</td>\n",
       "      <td>1.740170e-10</td>\n",
       "    </tr>\n",
       "    <tr>\n",
       "      <th>25%</th>\n",
       "      <td>6.764835e+17</td>\n",
       "      <td>1.000000</td>\n",
       "      <td>0.364412</td>\n",
       "      <td>5.388625e-02</td>\n",
       "      <td>1.622240e-02</td>\n",
       "    </tr>\n",
       "    <tr>\n",
       "      <th>50%</th>\n",
       "      <td>7.119988e+17</td>\n",
       "      <td>1.000000</td>\n",
       "      <td>0.588230</td>\n",
       "      <td>1.181810e-01</td>\n",
       "      <td>4.944380e-02</td>\n",
       "    </tr>\n",
       "    <tr>\n",
       "      <th>75%</th>\n",
       "      <td>7.932034e+17</td>\n",
       "      <td>1.000000</td>\n",
       "      <td>0.843855</td>\n",
       "      <td>1.955655e-01</td>\n",
       "      <td>9.180755e-02</td>\n",
       "    </tr>\n",
       "    <tr>\n",
       "      <th>max</th>\n",
       "      <td>8.924206e+17</td>\n",
       "      <td>4.000000</td>\n",
       "      <td>1.000000</td>\n",
       "      <td>4.880140e-01</td>\n",
       "      <td>2.734190e-01</td>\n",
       "    </tr>\n",
       "  </tbody>\n",
       "</table>\n",
       "</div>"
      ],
      "text/plain": [
       "           tweet_id      img_num      p1_conf       p2_conf       p3_conf\n",
       "count  2.075000e+03  2075.000000  2075.000000  2.075000e+03  2.075000e+03\n",
       "mean   7.384514e+17     1.203855     0.594548  1.345886e-01  6.032417e-02\n",
       "std    6.785203e+16     0.561875     0.271174  1.006657e-01  5.090593e-02\n",
       "min    6.660209e+17     1.000000     0.044333  1.011300e-08  1.740170e-10\n",
       "25%    6.764835e+17     1.000000     0.364412  5.388625e-02  1.622240e-02\n",
       "50%    7.119988e+17     1.000000     0.588230  1.181810e-01  4.944380e-02\n",
       "75%    7.932034e+17     1.000000     0.843855  1.955655e-01  9.180755e-02\n",
       "max    8.924206e+17     4.000000     1.000000  4.880140e-01  2.734190e-01"
      ]
     },
     "execution_count": 15,
     "metadata": {},
     "output_type": "execute_result"
    }
   ],
   "source": [
    "img_pred.describe()"
   ]
  },
  {
   "cell_type": "code",
   "execution_count": 16,
   "metadata": {},
   "outputs": [
    {
     "name": "stdout",
     "output_type": "stream",
     "text": [
      "<class 'pandas.core.frame.DataFrame'>\n",
      "RangeIndex: 2075 entries, 0 to 2074\n",
      "Data columns (total 12 columns):\n",
      " #   Column    Non-Null Count  Dtype  \n",
      "---  ------    --------------  -----  \n",
      " 0   tweet_id  2075 non-null   int64  \n",
      " 1   jpg_url   2075 non-null   object \n",
      " 2   img_num   2075 non-null   int64  \n",
      " 3   p1        2075 non-null   object \n",
      " 4   p1_conf   2075 non-null   float64\n",
      " 5   p1_dog    2075 non-null   bool   \n",
      " 6   p2        2075 non-null   object \n",
      " 7   p2_conf   2075 non-null   float64\n",
      " 8   p2_dog    2075 non-null   bool   \n",
      " 9   p3        2075 non-null   object \n",
      " 10  p3_conf   2075 non-null   float64\n",
      " 11  p3_dog    2075 non-null   bool   \n",
      "dtypes: bool(3), float64(3), int64(2), object(4)\n",
      "memory usage: 152.1+ KB\n"
     ]
    }
   ],
   "source": [
    "img_pred.info()"
   ]
  },
  {
   "cell_type": "code",
   "execution_count": 17,
   "metadata": {},
   "outputs": [
    {
     "name": "stdout",
     "output_type": "stream",
     "text": [
      "<class 'pandas.core.frame.DataFrame'>\n",
      "RangeIndex: 2356 entries, 0 to 2355\n",
      "Data columns (total 17 columns):\n",
      " #   Column                      Non-Null Count  Dtype  \n",
      "---  ------                      --------------  -----  \n",
      " 0   tweet_id                    2356 non-null   int64  \n",
      " 1   in_reply_to_status_id       78 non-null     float64\n",
      " 2   in_reply_to_user_id         78 non-null     float64\n",
      " 3   timestamp                   2356 non-null   object \n",
      " 4   source                      2356 non-null   object \n",
      " 5   text                        2356 non-null   object \n",
      " 6   retweeted_status_id         181 non-null    float64\n",
      " 7   retweeted_status_user_id    181 non-null    float64\n",
      " 8   retweeted_status_timestamp  181 non-null    object \n",
      " 9   expanded_urls               2297 non-null   object \n",
      " 10  rating_numerator            2356 non-null   int64  \n",
      " 11  rating_denominator          2356 non-null   int64  \n",
      " 12  name                        2356 non-null   object \n",
      " 13  doggo                       2356 non-null   object \n",
      " 14  floofer                     2356 non-null   object \n",
      " 15  pupper                      2356 non-null   object \n",
      " 16  puppo                       2356 non-null   object \n",
      "dtypes: float64(4), int64(3), object(10)\n",
      "memory usage: 313.0+ KB\n"
     ]
    }
   ],
   "source": [
    "archive_enhanced.info()"
   ]
  },
  {
   "cell_type": "code",
   "execution_count": 18,
   "metadata": {},
   "outputs": [
    {
     "name": "stdout",
     "output_type": "stream",
     "text": [
      "<class 'pandas.core.frame.DataFrame'>\n",
      "RangeIndex: 2328 entries, 0 to 2327\n",
      "Data columns (total 30 columns):\n",
      " #   Column                         Non-Null Count  Dtype              \n",
      "---  ------                         --------------  -----              \n",
      " 0   created_at                     2328 non-null   datetime64[ns, UTC]\n",
      " 1   id                             2328 non-null   int64              \n",
      " 2   id_str                         2328 non-null   int64              \n",
      " 3   text                           2328 non-null   object             \n",
      " 4   truncated                      2328 non-null   bool               \n",
      " 5   entities                       2328 non-null   object             \n",
      " 6   extended_entities              1815 non-null   object             \n",
      " 7   source                         2328 non-null   object             \n",
      " 8   in_reply_to_status_id          77 non-null     float64            \n",
      " 9   in_reply_to_status_id_str      77 non-null     float64            \n",
      " 10  in_reply_to_user_id            77 non-null     float64            \n",
      " 11  in_reply_to_user_id_str        77 non-null     float64            \n",
      " 12  in_reply_to_screen_name        77 non-null     object             \n",
      " 13  user                           2328 non-null   object             \n",
      " 14  geo                            0 non-null      float64            \n",
      " 15  coordinates                    0 non-null      float64            \n",
      " 16  place                          1 non-null      object             \n",
      " 17  contributors                   0 non-null      float64            \n",
      " 18  is_quote_status                2328 non-null   bool               \n",
      " 19  retweet_count                  2328 non-null   int64              \n",
      " 20  favorite_count                 2328 non-null   int64              \n",
      " 21  favorited                      2328 non-null   bool               \n",
      " 22  retweeted                      2328 non-null   bool               \n",
      " 23  possibly_sensitive             2196 non-null   float64            \n",
      " 24  possibly_sensitive_appealable  2196 non-null   float64            \n",
      " 25  lang                           2328 non-null   object             \n",
      " 26  retweeted_status               161 non-null    object             \n",
      " 27  quoted_status_id               26 non-null     float64            \n",
      " 28  quoted_status_id_str           26 non-null     float64            \n",
      " 29  quoted_status                  24 non-null     object             \n",
      "dtypes: bool(4), datetime64[ns, UTC](1), float64(11), int64(4), object(10)\n",
      "memory usage: 482.1+ KB\n"
     ]
    }
   ],
   "source": [
    "data.info()"
   ]
  },
  {
   "cell_type": "code",
   "execution_count": 19,
   "metadata": {},
   "outputs": [
    {
     "data": {
      "text/plain": [
       "(2328, 30)"
      ]
     },
     "execution_count": 19,
     "metadata": {},
     "output_type": "execute_result"
    }
   ],
   "source": [
    "data.shape"
   ]
  },
  {
   "cell_type": "code",
   "execution_count": 20,
   "metadata": {},
   "outputs": [
    {
     "data": {
      "text/html": [
       "<div>\n",
       "<style scoped>\n",
       "    .dataframe tbody tr th:only-of-type {\n",
       "        vertical-align: middle;\n",
       "    }\n",
       "\n",
       "    .dataframe tbody tr th {\n",
       "        vertical-align: top;\n",
       "    }\n",
       "\n",
       "    .dataframe thead th {\n",
       "        text-align: right;\n",
       "    }\n",
       "</style>\n",
       "<table border=\"1\" class=\"dataframe\">\n",
       "  <thead>\n",
       "    <tr style=\"text-align: right;\">\n",
       "      <th></th>\n",
       "      <th>created_at</th>\n",
       "      <th>id</th>\n",
       "      <th>id_str</th>\n",
       "      <th>text</th>\n",
       "      <th>truncated</th>\n",
       "      <th>entities</th>\n",
       "      <th>extended_entities</th>\n",
       "      <th>source</th>\n",
       "      <th>in_reply_to_status_id</th>\n",
       "      <th>in_reply_to_status_id_str</th>\n",
       "      <th>...</th>\n",
       "      <th>favorite_count</th>\n",
       "      <th>favorited</th>\n",
       "      <th>retweeted</th>\n",
       "      <th>possibly_sensitive</th>\n",
       "      <th>possibly_sensitive_appealable</th>\n",
       "      <th>lang</th>\n",
       "      <th>retweeted_status</th>\n",
       "      <th>quoted_status_id</th>\n",
       "      <th>quoted_status_id_str</th>\n",
       "      <th>quoted_status</th>\n",
       "    </tr>\n",
       "  </thead>\n",
       "  <tbody>\n",
       "    <tr>\n",
       "      <th>0</th>\n",
       "      <td>2017-08-01 16:23:56+00:00</td>\n",
       "      <td>892420643555336193</td>\n",
       "      <td>892420643555336192</td>\n",
       "      <td>This is Phineas. He's a mystical boy. Only eve...</td>\n",
       "      <td>False</td>\n",
       "      <td>{'hashtags': [], 'symbols': [], 'user_mentions...</td>\n",
       "      <td>{'media': [{'id': 892420639486877696, 'id_str'...</td>\n",
       "      <td>&lt;a href=\"http://twitter.com/download/iphone\" r...</td>\n",
       "      <td>NaN</td>\n",
       "      <td>NaN</td>\n",
       "      <td>...</td>\n",
       "      <td>34362</td>\n",
       "      <td>False</td>\n",
       "      <td>False</td>\n",
       "      <td>0.0</td>\n",
       "      <td>0.0</td>\n",
       "      <td>en</td>\n",
       "      <td>NaN</td>\n",
       "      <td>NaN</td>\n",
       "      <td>NaN</td>\n",
       "      <td>NaN</td>\n",
       "    </tr>\n",
       "    <tr>\n",
       "      <th>1</th>\n",
       "      <td>2017-08-01 00:17:27+00:00</td>\n",
       "      <td>892177421306343426</td>\n",
       "      <td>892177421306343424</td>\n",
       "      <td>This is Tilly. She's just checking pup on you....</td>\n",
       "      <td>True</td>\n",
       "      <td>{'hashtags': [], 'symbols': [], 'user_mentions...</td>\n",
       "      <td>NaN</td>\n",
       "      <td>&lt;a href=\"http://twitter.com/download/iphone\" r...</td>\n",
       "      <td>NaN</td>\n",
       "      <td>NaN</td>\n",
       "      <td>...</td>\n",
       "      <td>29787</td>\n",
       "      <td>False</td>\n",
       "      <td>False</td>\n",
       "      <td>0.0</td>\n",
       "      <td>0.0</td>\n",
       "      <td>en</td>\n",
       "      <td>NaN</td>\n",
       "      <td>NaN</td>\n",
       "      <td>NaN</td>\n",
       "      <td>NaN</td>\n",
       "    </tr>\n",
       "    <tr>\n",
       "      <th>2</th>\n",
       "      <td>2017-07-31 00:18:03+00:00</td>\n",
       "      <td>891815181378084864</td>\n",
       "      <td>891815181378084864</td>\n",
       "      <td>This is Archie. He is a rare Norwegian Pouncin...</td>\n",
       "      <td>True</td>\n",
       "      <td>{'hashtags': [], 'symbols': [], 'user_mentions...</td>\n",
       "      <td>NaN</td>\n",
       "      <td>&lt;a href=\"http://twitter.com/download/iphone\" r...</td>\n",
       "      <td>NaN</td>\n",
       "      <td>NaN</td>\n",
       "      <td>...</td>\n",
       "      <td>22415</td>\n",
       "      <td>False</td>\n",
       "      <td>False</td>\n",
       "      <td>0.0</td>\n",
       "      <td>0.0</td>\n",
       "      <td>en</td>\n",
       "      <td>NaN</td>\n",
       "      <td>NaN</td>\n",
       "      <td>NaN</td>\n",
       "      <td>NaN</td>\n",
       "    </tr>\n",
       "  </tbody>\n",
       "</table>\n",
       "<p>3 rows × 30 columns</p>\n",
       "</div>"
      ],
      "text/plain": [
       "                 created_at                  id              id_str  \\\n",
       "0 2017-08-01 16:23:56+00:00  892420643555336193  892420643555336192   \n",
       "1 2017-08-01 00:17:27+00:00  892177421306343426  892177421306343424   \n",
       "2 2017-07-31 00:18:03+00:00  891815181378084864  891815181378084864   \n",
       "\n",
       "                                                text  truncated  \\\n",
       "0  This is Phineas. He's a mystical boy. Only eve...      False   \n",
       "1  This is Tilly. She's just checking pup on you....       True   \n",
       "2  This is Archie. He is a rare Norwegian Pouncin...       True   \n",
       "\n",
       "                                            entities  \\\n",
       "0  {'hashtags': [], 'symbols': [], 'user_mentions...   \n",
       "1  {'hashtags': [], 'symbols': [], 'user_mentions...   \n",
       "2  {'hashtags': [], 'symbols': [], 'user_mentions...   \n",
       "\n",
       "                                   extended_entities  \\\n",
       "0  {'media': [{'id': 892420639486877696, 'id_str'...   \n",
       "1                                                NaN   \n",
       "2                                                NaN   \n",
       "\n",
       "                                              source  in_reply_to_status_id  \\\n",
       "0  <a href=\"http://twitter.com/download/iphone\" r...                    NaN   \n",
       "1  <a href=\"http://twitter.com/download/iphone\" r...                    NaN   \n",
       "2  <a href=\"http://twitter.com/download/iphone\" r...                    NaN   \n",
       "\n",
       "   in_reply_to_status_id_str  ...  favorite_count  favorited retweeted  \\\n",
       "0                        NaN  ...           34362      False     False   \n",
       "1                        NaN  ...           29787      False     False   \n",
       "2                        NaN  ...           22415      False     False   \n",
       "\n",
       "  possibly_sensitive  possibly_sensitive_appealable  lang retweeted_status  \\\n",
       "0                0.0                            0.0    en              NaN   \n",
       "1                0.0                            0.0    en              NaN   \n",
       "2                0.0                            0.0    en              NaN   \n",
       "\n",
       "   quoted_status_id  quoted_status_id_str  quoted_status  \n",
       "0               NaN                   NaN            NaN  \n",
       "1               NaN                   NaN            NaN  \n",
       "2               NaN                   NaN            NaN  \n",
       "\n",
       "[3 rows x 30 columns]"
      ]
     },
     "execution_count": 20,
     "metadata": {},
     "output_type": "execute_result"
    }
   ],
   "source": [
    "data.head(3)"
   ]
  },
  {
   "cell_type": "code",
   "execution_count": 21,
   "metadata": {},
   "outputs": [],
   "source": [
    "#creating copy of the data obtained from twitter api \n",
    "twitter_data = data.copy()"
   ]
  },
  {
   "cell_type": "code",
   "execution_count": 22,
   "metadata": {},
   "outputs": [],
   "source": [
    "#storing the data as csv\n",
    "twitter_data.to_csv(\"twitter_data.csv\")"
   ]
  },
  {
   "cell_type": "code",
   "execution_count": 23,
   "metadata": {},
   "outputs": [
    {
     "data": {
      "text/html": [
       "<div>\n",
       "<style scoped>\n",
       "    .dataframe tbody tr th:only-of-type {\n",
       "        vertical-align: middle;\n",
       "    }\n",
       "\n",
       "    .dataframe tbody tr th {\n",
       "        vertical-align: top;\n",
       "    }\n",
       "\n",
       "    .dataframe thead th {\n",
       "        text-align: right;\n",
       "    }\n",
       "</style>\n",
       "<table border=\"1\" class=\"dataframe\">\n",
       "  <thead>\n",
       "    <tr style=\"text-align: right;\">\n",
       "      <th></th>\n",
       "      <th>created_at</th>\n",
       "      <th>id</th>\n",
       "      <th>id_str</th>\n",
       "      <th>text</th>\n",
       "      <th>truncated</th>\n",
       "      <th>entities</th>\n",
       "      <th>extended_entities</th>\n",
       "      <th>source</th>\n",
       "      <th>in_reply_to_status_id</th>\n",
       "      <th>in_reply_to_status_id_str</th>\n",
       "      <th>...</th>\n",
       "      <th>favorite_count</th>\n",
       "      <th>favorited</th>\n",
       "      <th>retweeted</th>\n",
       "      <th>possibly_sensitive</th>\n",
       "      <th>possibly_sensitive_appealable</th>\n",
       "      <th>lang</th>\n",
       "      <th>retweeted_status</th>\n",
       "      <th>quoted_status_id</th>\n",
       "      <th>quoted_status_id_str</th>\n",
       "      <th>quoted_status</th>\n",
       "    </tr>\n",
       "  </thead>\n",
       "  <tbody>\n",
       "    <tr>\n",
       "      <th>0</th>\n",
       "      <td>2017-08-01 16:23:56+00:00</td>\n",
       "      <td>892420643555336193</td>\n",
       "      <td>892420643555336192</td>\n",
       "      <td>This is Phineas. He's a mystical boy. Only eve...</td>\n",
       "      <td>False</td>\n",
       "      <td>{'hashtags': [], 'symbols': [], 'user_mentions...</td>\n",
       "      <td>{'media': [{'id': 892420639486877696, 'id_str'...</td>\n",
       "      <td>&lt;a href=\"http://twitter.com/download/iphone\" r...</td>\n",
       "      <td>NaN</td>\n",
       "      <td>NaN</td>\n",
       "      <td>...</td>\n",
       "      <td>34362</td>\n",
       "      <td>False</td>\n",
       "      <td>False</td>\n",
       "      <td>0.0</td>\n",
       "      <td>0.0</td>\n",
       "      <td>en</td>\n",
       "      <td>NaN</td>\n",
       "      <td>NaN</td>\n",
       "      <td>NaN</td>\n",
       "      <td>NaN</td>\n",
       "    </tr>\n",
       "  </tbody>\n",
       "</table>\n",
       "<p>1 rows × 30 columns</p>\n",
       "</div>"
      ],
      "text/plain": [
       "                 created_at                  id              id_str  \\\n",
       "0 2017-08-01 16:23:56+00:00  892420643555336193  892420643555336192   \n",
       "\n",
       "                                                text  truncated  \\\n",
       "0  This is Phineas. He's a mystical boy. Only eve...      False   \n",
       "\n",
       "                                            entities  \\\n",
       "0  {'hashtags': [], 'symbols': [], 'user_mentions...   \n",
       "\n",
       "                                   extended_entities  \\\n",
       "0  {'media': [{'id': 892420639486877696, 'id_str'...   \n",
       "\n",
       "                                              source  in_reply_to_status_id  \\\n",
       "0  <a href=\"http://twitter.com/download/iphone\" r...                    NaN   \n",
       "\n",
       "   in_reply_to_status_id_str  ...  favorite_count  favorited retweeted  \\\n",
       "0                        NaN  ...           34362      False     False   \n",
       "\n",
       "  possibly_sensitive  possibly_sensitive_appealable  lang retweeted_status  \\\n",
       "0                0.0                            0.0    en              NaN   \n",
       "\n",
       "   quoted_status_id  quoted_status_id_str  quoted_status  \n",
       "0               NaN                   NaN            NaN  \n",
       "\n",
       "[1 rows x 30 columns]"
      ]
     },
     "execution_count": 23,
     "metadata": {},
     "output_type": "execute_result"
    }
   ],
   "source": [
    "twitter_data.head(1)"
   ]
  },
  {
   "cell_type": "markdown",
   "metadata": {},
   "source": [
    "### Quality issues\n",
    "\n",
    "Dataset - Twitter_data \n",
    "\n",
    "\n",
    "1. Remove unwanted columns \n",
    "2. has follower data in json format in one of the columns, we need to extract that information to create a separate column\n",
    "3. We need to create bins to categorize and analyze followership of the account\n",
    "4. The twitter_data has tweet id named as id we need to rename it to tweet_id so as to merge the data\n",
    "\n",
    "Dataset - Twitter Archive Data - we rate dog\n",
    "\n",
    "6. Remove retweet related rows \n",
    "7. Remove unwanted columns\n",
    "8. The timestamp column has erroneous datatype\n",
    "9. Fix Dog stages to readable format\n",
    "    \n",
    "Dataset - Image Predictions\n",
    "\n",
    "8. Drop unwanted columns \n",
    "9. Fix column headers for prediction column to make it more relevant \n",
    "10. Improve consistency for dog breeds"
   ]
  },
  {
   "cell_type": "markdown",
   "metadata": {},
   "source": [
    "### Tidiness issues\n",
    "1. This project involves three datasets we will combine them to create one dataset\n",
    "2. Combining the 4 columns ( dog stages to create one column)"
   ]
  },
  {
   "cell_type": "markdown",
   "metadata": {},
   "source": [
    "## Cleaning Data\n",
    "<a id=\"cd\"></a>\n",
    "In this section, clean **all** of the issues you documented while assessing. \n",
    "\n",
    "**Note:** Make a copy of the original data before cleaning. Cleaning includes merging individual pieces of data according to the rules of [tidy data](https://cran.r-project.org/web/packages/tidyr/vignettes/tidy-data.html). The result should be a high-quality and tidy master pandas DataFrame (or DataFrames, if appropriate)."
   ]
  },
  {
   "cell_type": "markdown",
   "metadata": {},
   "source": [
    "### Data Set - twitter_data ( Data pulled programmatically from twitter via API\n",
    "### Issue #1:\n",
    "#### Define: Removing unwanted columns to create relevant datasets"
   ]
  },
  {
   "cell_type": "markdown",
   "metadata": {},
   "source": [
    "#### Code"
   ]
  },
  {
   "cell_type": "code",
   "execution_count": 24,
   "metadata": {},
   "outputs": [],
   "source": [
    "#Drop unwanted columns in all three data sets and create a master data set with chosen columns \n",
    "twitter_chosen = pd.DataFrame(twitter_data[['id','user','retweet_count', 'favorite_count']])"
   ]
  },
  {
   "cell_type": "markdown",
   "metadata": {},
   "source": [
    "#### Test"
   ]
  },
  {
   "cell_type": "code",
   "execution_count": 25,
   "metadata": {},
   "outputs": [
    {
     "data": {
      "text/html": [
       "<div>\n",
       "<style scoped>\n",
       "    .dataframe tbody tr th:only-of-type {\n",
       "        vertical-align: middle;\n",
       "    }\n",
       "\n",
       "    .dataframe tbody tr th {\n",
       "        vertical-align: top;\n",
       "    }\n",
       "\n",
       "    .dataframe thead th {\n",
       "        text-align: right;\n",
       "    }\n",
       "</style>\n",
       "<table border=\"1\" class=\"dataframe\">\n",
       "  <thead>\n",
       "    <tr style=\"text-align: right;\">\n",
       "      <th></th>\n",
       "      <th>id</th>\n",
       "      <th>user</th>\n",
       "      <th>retweet_count</th>\n",
       "      <th>favorite_count</th>\n",
       "    </tr>\n",
       "  </thead>\n",
       "  <tbody>\n",
       "    <tr>\n",
       "      <th>0</th>\n",
       "      <td>892420643555336193</td>\n",
       "      <td>{'id': 4196983835, 'id_str': '4196983835', 'na...</td>\n",
       "      <td>7142</td>\n",
       "      <td>34362</td>\n",
       "    </tr>\n",
       "    <tr>\n",
       "      <th>1</th>\n",
       "      <td>892177421306343426</td>\n",
       "      <td>{'id': 4196983835, 'id_str': '4196983835', 'na...</td>\n",
       "      <td>5374</td>\n",
       "      <td>29787</td>\n",
       "    </tr>\n",
       "    <tr>\n",
       "      <th>2</th>\n",
       "      <td>891815181378084864</td>\n",
       "      <td>{'id': 4196983835, 'id_str': '4196983835', 'na...</td>\n",
       "      <td>3541</td>\n",
       "      <td>22415</td>\n",
       "    </tr>\n",
       "  </tbody>\n",
       "</table>\n",
       "</div>"
      ],
      "text/plain": [
       "                   id                                               user  \\\n",
       "0  892420643555336193  {'id': 4196983835, 'id_str': '4196983835', 'na...   \n",
       "1  892177421306343426  {'id': 4196983835, 'id_str': '4196983835', 'na...   \n",
       "2  891815181378084864  {'id': 4196983835, 'id_str': '4196983835', 'na...   \n",
       "\n",
       "   retweet_count  favorite_count  \n",
       "0           7142           34362  \n",
       "1           5374           29787  \n",
       "2           3541           22415  "
      ]
     },
     "execution_count": 25,
     "metadata": {},
     "output_type": "execute_result"
    }
   ],
   "source": [
    "twitter_chosen.head(3)"
   ]
  },
  {
   "cell_type": "markdown",
   "metadata": {},
   "source": [
    "### Issue #2:\n",
    "#### Define: The twitter_data has follower in json format in one of the column, we need to extract that information to create a separate column"
   ]
  },
  {
   "cell_type": "markdown",
   "metadata": {},
   "source": [
    "#### Code"
   ]
  },
  {
   "cell_type": "code",
   "execution_count": 26,
   "metadata": {},
   "outputs": [
    {
     "data": {
      "text/plain": [
       "9100211"
      ]
     },
     "execution_count": 26,
     "metadata": {},
     "output_type": "execute_result"
    }
   ],
   "source": [
    "#testing to pull out the follower with one row\n",
    "twitter_chosen['user'][0]['followers_count']"
   ]
  },
  {
   "cell_type": "code",
   "execution_count": 27,
   "metadata": {},
   "outputs": [],
   "source": [
    "#testing by creating a new column\n",
    "twitter_chosen['followers'] =  twitter_chosen['user'][0]['followers_count']"
   ]
  },
  {
   "cell_type": "code",
   "execution_count": 28,
   "metadata": {},
   "outputs": [
    {
     "name": "stderr",
     "output_type": "stream",
     "text": [
      "<ipython-input-28-e617cfb067c9>:6: SettingWithCopyWarning: \n",
      "A value is trying to be set on a copy of a slice from a DataFrame\n",
      "\n",
      "See the caveats in the documentation: https://pandas.pydata.org/pandas-docs/stable/user_guide/indexing.html#returning-a-view-versus-a-copy\n",
      "  twitter_chosen['followers'][y] = twitter_chosen['user'][x]['followers_count']\n"
     ]
    }
   ],
   "source": [
    "#writing a loop to extract the followers \n",
    "user = twitter_chosen['user']\n",
    "x=0\n",
    "y=0\n",
    "for followers in user:\n",
    "    twitter_chosen['followers'][y] = twitter_chosen['user'][x]['followers_count']\n",
    "    x += 1\n",
    "    y += 1\n",
    "#     if x == 2328:\n",
    "#         break  "
   ]
  },
  {
   "cell_type": "markdown",
   "metadata": {},
   "source": [
    "#### Test"
   ]
  },
  {
   "cell_type": "code",
   "execution_count": 29,
   "metadata": {},
   "outputs": [
    {
     "data": {
      "text/html": [
       "<div>\n",
       "<style scoped>\n",
       "    .dataframe tbody tr th:only-of-type {\n",
       "        vertical-align: middle;\n",
       "    }\n",
       "\n",
       "    .dataframe tbody tr th {\n",
       "        vertical-align: top;\n",
       "    }\n",
       "\n",
       "    .dataframe thead th {\n",
       "        text-align: right;\n",
       "    }\n",
       "</style>\n",
       "<table border=\"1\" class=\"dataframe\">\n",
       "  <thead>\n",
       "    <tr style=\"text-align: right;\">\n",
       "      <th></th>\n",
       "      <th>id</th>\n",
       "      <th>user</th>\n",
       "      <th>retweet_count</th>\n",
       "      <th>favorite_count</th>\n",
       "      <th>followers</th>\n",
       "    </tr>\n",
       "  </thead>\n",
       "  <tbody>\n",
       "    <tr>\n",
       "      <th>133</th>\n",
       "      <td>865359393868664832</td>\n",
       "      <td>{'id': 4196983835, 'id_str': '4196983835', 'na...</td>\n",
       "      <td>4372</td>\n",
       "      <td>23995</td>\n",
       "      <td>9100212</td>\n",
       "    </tr>\n",
       "    <tr>\n",
       "      <th>1426</th>\n",
       "      <td>695629776980148225</td>\n",
       "      <td>{'id': 4196983835, 'id_str': '4196983835', 'na...</td>\n",
       "      <td>1941</td>\n",
       "      <td>4287</td>\n",
       "      <td>9100216</td>\n",
       "    </tr>\n",
       "    <tr>\n",
       "      <th>629</th>\n",
       "      <td>793120401413079041</td>\n",
       "      <td>{'id': 4196983835, 'id_str': '4196983835', 'na...</td>\n",
       "      <td>3742</td>\n",
       "      <td>12224</td>\n",
       "      <td>9100213</td>\n",
       "    </tr>\n",
       "    <tr>\n",
       "      <th>2257</th>\n",
       "      <td>667188689915760640</td>\n",
       "      <td>{'id': 4196983835, 'id_str': '4196983835', 'na...</td>\n",
       "      <td>346</td>\n",
       "      <td>661</td>\n",
       "      <td>9100215</td>\n",
       "    </tr>\n",
       "  </tbody>\n",
       "</table>\n",
       "</div>"
      ],
      "text/plain": [
       "                      id                                               user  \\\n",
       "133   865359393868664832  {'id': 4196983835, 'id_str': '4196983835', 'na...   \n",
       "1426  695629776980148225  {'id': 4196983835, 'id_str': '4196983835', 'na...   \n",
       "629   793120401413079041  {'id': 4196983835, 'id_str': '4196983835', 'na...   \n",
       "2257  667188689915760640  {'id': 4196983835, 'id_str': '4196983835', 'na...   \n",
       "\n",
       "      retweet_count  favorite_count  followers  \n",
       "133            4372           23995    9100212  \n",
       "1426           1941            4287    9100216  \n",
       "629            3742           12224    9100213  \n",
       "2257            346             661    9100215  "
      ]
     },
     "execution_count": 29,
     "metadata": {},
     "output_type": "execute_result"
    }
   ],
   "source": [
    "twitter_chosen.sample(4)"
   ]
  },
  {
   "cell_type": "markdown",
   "metadata": {},
   "source": [
    "### Issue #3:\n",
    "#### Define: Create bins to analyze and catagorize the followship of the account "
   ]
  },
  {
   "cell_type": "markdown",
   "metadata": {},
   "source": [
    "#### Code"
   ]
  },
  {
   "cell_type": "code",
   "execution_count": 30,
   "metadata": {},
   "outputs": [
    {
     "data": {
      "text/plain": [
       "dtype('int64')"
      ]
     },
     "execution_count": 30,
     "metadata": {},
     "output_type": "execute_result"
    }
   ],
   "source": [
    "twitter_chosen.followers.dtypes"
   ]
  },
  {
   "cell_type": "code",
   "execution_count": 31,
   "metadata": {},
   "outputs": [
    {
     "data": {
      "text/plain": [
       "count    2.328000e+03\n",
       "mean     9.100222e+06\n",
       "std      6.009347e+01\n",
       "min      9.100211e+06\n",
       "25%      9.100213e+06\n",
       "50%      9.100214e+06\n",
       "75%      9.100215e+06\n",
       "max      9.100680e+06\n",
       "Name: followers, dtype: float64"
      ]
     },
     "execution_count": 31,
     "metadata": {},
     "output_type": "execute_result"
    }
   ],
   "source": [
    "twitter_chosen['followers'].describe()"
   ]
  },
  {
   "cell_type": "code",
   "execution_count": 32,
   "metadata": {},
   "outputs": [],
   "source": [
    "x = pd.DataFrame(twitter_chosen['followers'].describe())"
   ]
  },
  {
   "cell_type": "code",
   "execution_count": 33,
   "metadata": {},
   "outputs": [],
   "source": [
    "x = x.astype({'followers':'int'})"
   ]
  },
  {
   "cell_type": "code",
   "execution_count": 34,
   "metadata": {},
   "outputs": [
    {
     "data": {
      "text/html": [
       "<div>\n",
       "<style scoped>\n",
       "    .dataframe tbody tr th:only-of-type {\n",
       "        vertical-align: middle;\n",
       "    }\n",
       "\n",
       "    .dataframe tbody tr th {\n",
       "        vertical-align: top;\n",
       "    }\n",
       "\n",
       "    .dataframe thead th {\n",
       "        text-align: right;\n",
       "    }\n",
       "</style>\n",
       "<table border=\"1\" class=\"dataframe\">\n",
       "  <thead>\n",
       "    <tr style=\"text-align: right;\">\n",
       "      <th></th>\n",
       "      <th>followers</th>\n",
       "    </tr>\n",
       "  </thead>\n",
       "  <tbody>\n",
       "    <tr>\n",
       "      <th>count</th>\n",
       "      <td>2328</td>\n",
       "    </tr>\n",
       "    <tr>\n",
       "      <th>mean</th>\n",
       "      <td>9100222</td>\n",
       "    </tr>\n",
       "    <tr>\n",
       "      <th>std</th>\n",
       "      <td>60</td>\n",
       "    </tr>\n",
       "    <tr>\n",
       "      <th>min</th>\n",
       "      <td>9100211</td>\n",
       "    </tr>\n",
       "    <tr>\n",
       "      <th>25%</th>\n",
       "      <td>9100213</td>\n",
       "    </tr>\n",
       "    <tr>\n",
       "      <th>50%</th>\n",
       "      <td>9100214</td>\n",
       "    </tr>\n",
       "    <tr>\n",
       "      <th>75%</th>\n",
       "      <td>9100215</td>\n",
       "    </tr>\n",
       "    <tr>\n",
       "      <th>max</th>\n",
       "      <td>9100680</td>\n",
       "    </tr>\n",
       "  </tbody>\n",
       "</table>\n",
       "</div>"
      ],
      "text/plain": [
       "       followers\n",
       "count       2328\n",
       "mean     9100222\n",
       "std           60\n",
       "min      9100211\n",
       "25%      9100213\n",
       "50%      9100214\n",
       "75%      9100215\n",
       "max      9100680"
      ]
     },
     "execution_count": 34,
     "metadata": {},
     "output_type": "execute_result"
    }
   ],
   "source": [
    "x"
   ]
  },
  {
   "cell_type": "code",
   "execution_count": 35,
   "metadata": {},
   "outputs": [],
   "source": [
    "# Bin edges that will be used to \"cut\" the data into groups\n",
    "bin_edges = [9100211,9100213,9100214,9100215,9100680]"
   ]
  },
  {
   "cell_type": "code",
   "execution_count": 36,
   "metadata": {},
   "outputs": [],
   "source": [
    "# Labels for the four followership categories\n",
    "bin_names = [\"Min\",\"Medium\",'High','Max']"
   ]
  },
  {
   "cell_type": "code",
   "execution_count": 37,
   "metadata": {},
   "outputs": [],
   "source": [
    "twitter_chosen['followership'] = pd.cut(twitter_chosen['followers'], bin_edges, labels = bin_names)"
   ]
  },
  {
   "cell_type": "markdown",
   "metadata": {},
   "source": [
    "#### Test"
   ]
  },
  {
   "cell_type": "code",
   "execution_count": 38,
   "metadata": {},
   "outputs": [
    {
     "data": {
      "text/html": [
       "<div>\n",
       "<style scoped>\n",
       "    .dataframe tbody tr th:only-of-type {\n",
       "        vertical-align: middle;\n",
       "    }\n",
       "\n",
       "    .dataframe tbody tr th {\n",
       "        vertical-align: top;\n",
       "    }\n",
       "\n",
       "    .dataframe thead th {\n",
       "        text-align: right;\n",
       "    }\n",
       "</style>\n",
       "<table border=\"1\" class=\"dataframe\">\n",
       "  <thead>\n",
       "    <tr style=\"text-align: right;\">\n",
       "      <th></th>\n",
       "      <th>id</th>\n",
       "      <th>user</th>\n",
       "      <th>retweet_count</th>\n",
       "      <th>favorite_count</th>\n",
       "      <th>followers</th>\n",
       "      <th>followership</th>\n",
       "    </tr>\n",
       "  </thead>\n",
       "  <tbody>\n",
       "    <tr>\n",
       "      <th>463</th>\n",
       "      <td>815736392542261248</td>\n",
       "      <td>{'id': 4196983835, 'id_str': '4196983835', 'na...</td>\n",
       "      <td>2154</td>\n",
       "      <td>9471</td>\n",
       "      <td>9100213</td>\n",
       "      <td>Min</td>\n",
       "    </tr>\n",
       "    <tr>\n",
       "      <th>1178</th>\n",
       "      <td>715928423106027520</td>\n",
       "      <td>{'id': 4196983835, 'id_str': '4196983835', 'na...</td>\n",
       "      <td>812</td>\n",
       "      <td>2991</td>\n",
       "      <td>9100214</td>\n",
       "      <td>Medium</td>\n",
       "    </tr>\n",
       "  </tbody>\n",
       "</table>\n",
       "</div>"
      ],
      "text/plain": [
       "                      id                                               user  \\\n",
       "463   815736392542261248  {'id': 4196983835, 'id_str': '4196983835', 'na...   \n",
       "1178  715928423106027520  {'id': 4196983835, 'id_str': '4196983835', 'na...   \n",
       "\n",
       "      retweet_count  favorite_count  followers followership  \n",
       "463            2154            9471    9100213          Min  \n",
       "1178            812            2991    9100214       Medium  "
      ]
     },
     "execution_count": 38,
     "metadata": {},
     "output_type": "execute_result"
    }
   ],
   "source": [
    "twitter_chosen.sample(2)"
   ]
  },
  {
   "cell_type": "markdown",
   "metadata": {},
   "source": [
    "### Issue #4:\n",
    "#### Define: The twitter_data has tweet id named as id we need to rename it to tweet_id so as to merge the data "
   ]
  },
  {
   "cell_type": "markdown",
   "metadata": {},
   "source": [
    "#### Code"
   ]
  },
  {
   "cell_type": "code",
   "execution_count": 39,
   "metadata": {},
   "outputs": [],
   "source": [
    "#renaming the columns\n",
    "twitter_chosen.rename(columns={'id': 'tweet_id'}, inplace=True)"
   ]
  },
  {
   "cell_type": "markdown",
   "metadata": {},
   "source": [
    "#### Test"
   ]
  },
  {
   "cell_type": "code",
   "execution_count": 40,
   "metadata": {},
   "outputs": [
    {
     "data": {
      "text/html": [
       "<div>\n",
       "<style scoped>\n",
       "    .dataframe tbody tr th:only-of-type {\n",
       "        vertical-align: middle;\n",
       "    }\n",
       "\n",
       "    .dataframe tbody tr th {\n",
       "        vertical-align: top;\n",
       "    }\n",
       "\n",
       "    .dataframe thead th {\n",
       "        text-align: right;\n",
       "    }\n",
       "</style>\n",
       "<table border=\"1\" class=\"dataframe\">\n",
       "  <thead>\n",
       "    <tr style=\"text-align: right;\">\n",
       "      <th></th>\n",
       "      <th>tweet_id</th>\n",
       "      <th>user</th>\n",
       "      <th>retweet_count</th>\n",
       "      <th>favorite_count</th>\n",
       "      <th>followers</th>\n",
       "      <th>followership</th>\n",
       "    </tr>\n",
       "  </thead>\n",
       "  <tbody>\n",
       "    <tr>\n",
       "      <th>0</th>\n",
       "      <td>892420643555336193</td>\n",
       "      <td>{'id': 4196983835, 'id_str': '4196983835', 'na...</td>\n",
       "      <td>7142</td>\n",
       "      <td>34362</td>\n",
       "      <td>9100211</td>\n",
       "      <td>NaN</td>\n",
       "    </tr>\n",
       "    <tr>\n",
       "      <th>1</th>\n",
       "      <td>892177421306343426</td>\n",
       "      <td>{'id': 4196983835, 'id_str': '4196983835', 'na...</td>\n",
       "      <td>5374</td>\n",
       "      <td>29787</td>\n",
       "      <td>9100211</td>\n",
       "      <td>NaN</td>\n",
       "    </tr>\n",
       "  </tbody>\n",
       "</table>\n",
       "</div>"
      ],
      "text/plain": [
       "             tweet_id                                               user  \\\n",
       "0  892420643555336193  {'id': 4196983835, 'id_str': '4196983835', 'na...   \n",
       "1  892177421306343426  {'id': 4196983835, 'id_str': '4196983835', 'na...   \n",
       "\n",
       "   retweet_count  favorite_count  followers followership  \n",
       "0           7142           34362    9100211          NaN  \n",
       "1           5374           29787    9100211          NaN  "
      ]
     },
     "execution_count": 40,
     "metadata": {},
     "output_type": "execute_result"
    }
   ],
   "source": [
    "twitter_chosen.head(2)"
   ]
  },
  {
   "cell_type": "markdown",
   "metadata": {},
   "source": [
    "### Data Set - archive_enhanced\n",
    "### Issue #5:\n",
    "#### Define: Remove unwanted rows (retweets)"
   ]
  },
  {
   "cell_type": "markdown",
   "metadata": {},
   "source": [
    "#### Code"
   ]
  },
  {
   "cell_type": "code",
   "execution_count": 41,
   "metadata": {},
   "outputs": [
    {
     "data": {
      "text/plain": [
       "(2356, 17)"
      ]
     },
     "execution_count": 41,
     "metadata": {},
     "output_type": "execute_result"
    }
   ],
   "source": [
    "#checking the shape of the dataset\n",
    "archive_enhanced.shape"
   ]
  },
  {
   "cell_type": "code",
   "execution_count": 42,
   "metadata": {},
   "outputs": [
    {
     "data": {
      "text/plain": [
       "Index(['tweet_id', 'in_reply_to_status_id', 'in_reply_to_user_id', 'timestamp',\n",
       "       'source', 'text', 'retweeted_status_id', 'retweeted_status_user_id',\n",
       "       'retweeted_status_timestamp', 'expanded_urls', 'rating_numerator',\n",
       "       'rating_denominator', 'name', 'doggo', 'floofer', 'pupper', 'puppo'],\n",
       "      dtype='object')"
      ]
     },
     "execution_count": 42,
     "metadata": {},
     "output_type": "execute_result"
    }
   ],
   "source": [
    "archive_enhanced.columns"
   ]
  },
  {
   "cell_type": "code",
   "execution_count": 43,
   "metadata": {},
   "outputs": [],
   "source": [
    "#removing the retweets\n",
    "archive_enhanced_chosen = archive_enhanced[archive_enhanced.retweeted_status_user_id.isnull()]\n",
    "archive_enhanced_chosen = archive_enhanced[archive_enhanced.retweeted_status_user_id.isnull()]\n",
    "archive_enhanced_chosen = archive_enhanced[archive_enhanced.retweeted_status_timestamp.isnull()]"
   ]
  },
  {
   "cell_type": "code",
   "execution_count": 44,
   "metadata": {},
   "outputs": [
    {
     "data": {
      "text/plain": [
       "(2175, 17)"
      ]
     },
     "execution_count": 44,
     "metadata": {},
     "output_type": "execute_result"
    }
   ],
   "source": [
    "#Checking the shape of new dataset \n",
    "archive_enhanced_chosen.shape"
   ]
  },
  {
   "cell_type": "markdown",
   "metadata": {},
   "source": [
    "#### Test "
   ]
  },
  {
   "cell_type": "code",
   "execution_count": 45,
   "metadata": {},
   "outputs": [
    {
     "data": {
      "text/plain": [
       "Series([], Name: retweeted_status_user_id, dtype: int64)"
      ]
     },
     "execution_count": 45,
     "metadata": {},
     "output_type": "execute_result"
    }
   ],
   "source": [
    "archive_enhanced_chosen['retweeted_status_user_id'].value_counts()"
   ]
  },
  {
   "cell_type": "markdown",
   "metadata": {},
   "source": [
    "### Issue #6:\n",
    "#### Define: Remove unwanted columns"
   ]
  },
  {
   "cell_type": "markdown",
   "metadata": {},
   "source": [
    "#### Code"
   ]
  },
  {
   "cell_type": "code",
   "execution_count": 46,
   "metadata": {},
   "outputs": [],
   "source": [
    "archive_enhanced_chosen = pd.DataFrame(archive_enhanced[['tweet_id','timestamp','source', 'text','name', 'doggo', 'floofer', 'pupper','puppo']])"
   ]
  },
  {
   "cell_type": "markdown",
   "metadata": {},
   "source": [
    "#### Test"
   ]
  },
  {
   "cell_type": "code",
   "execution_count": 47,
   "metadata": {},
   "outputs": [
    {
     "data": {
      "text/html": [
       "<div>\n",
       "<style scoped>\n",
       "    .dataframe tbody tr th:only-of-type {\n",
       "        vertical-align: middle;\n",
       "    }\n",
       "\n",
       "    .dataframe tbody tr th {\n",
       "        vertical-align: top;\n",
       "    }\n",
       "\n",
       "    .dataframe thead th {\n",
       "        text-align: right;\n",
       "    }\n",
       "</style>\n",
       "<table border=\"1\" class=\"dataframe\">\n",
       "  <thead>\n",
       "    <tr style=\"text-align: right;\">\n",
       "      <th></th>\n",
       "      <th>tweet_id</th>\n",
       "      <th>timestamp</th>\n",
       "      <th>source</th>\n",
       "      <th>text</th>\n",
       "      <th>name</th>\n",
       "      <th>doggo</th>\n",
       "      <th>floofer</th>\n",
       "      <th>pupper</th>\n",
       "      <th>puppo</th>\n",
       "    </tr>\n",
       "  </thead>\n",
       "  <tbody>\n",
       "    <tr>\n",
       "      <th>0</th>\n",
       "      <td>892420643555336193</td>\n",
       "      <td>2017-08-01 16:23:56 +0000</td>\n",
       "      <td>&lt;a href=\"http://twitter.com/download/iphone\" r...</td>\n",
       "      <td>This is Phineas. He's a mystical boy. Only eve...</td>\n",
       "      <td>Phineas</td>\n",
       "      <td>None</td>\n",
       "      <td>None</td>\n",
       "      <td>None</td>\n",
       "      <td>None</td>\n",
       "    </tr>\n",
       "    <tr>\n",
       "      <th>1</th>\n",
       "      <td>892177421306343426</td>\n",
       "      <td>2017-08-01 00:17:27 +0000</td>\n",
       "      <td>&lt;a href=\"http://twitter.com/download/iphone\" r...</td>\n",
       "      <td>This is Tilly. She's just checking pup on you....</td>\n",
       "      <td>Tilly</td>\n",
       "      <td>None</td>\n",
       "      <td>None</td>\n",
       "      <td>None</td>\n",
       "      <td>None</td>\n",
       "    </tr>\n",
       "    <tr>\n",
       "      <th>2</th>\n",
       "      <td>891815181378084864</td>\n",
       "      <td>2017-07-31 00:18:03 +0000</td>\n",
       "      <td>&lt;a href=\"http://twitter.com/download/iphone\" r...</td>\n",
       "      <td>This is Archie. He is a rare Norwegian Pouncin...</td>\n",
       "      <td>Archie</td>\n",
       "      <td>None</td>\n",
       "      <td>None</td>\n",
       "      <td>None</td>\n",
       "      <td>None</td>\n",
       "    </tr>\n",
       "    <tr>\n",
       "      <th>3</th>\n",
       "      <td>891689557279858688</td>\n",
       "      <td>2017-07-30 15:58:51 +0000</td>\n",
       "      <td>&lt;a href=\"http://twitter.com/download/iphone\" r...</td>\n",
       "      <td>This is Darla. She commenced a snooze mid meal...</td>\n",
       "      <td>Darla</td>\n",
       "      <td>None</td>\n",
       "      <td>None</td>\n",
       "      <td>None</td>\n",
       "      <td>None</td>\n",
       "    </tr>\n",
       "    <tr>\n",
       "      <th>4</th>\n",
       "      <td>891327558926688256</td>\n",
       "      <td>2017-07-29 16:00:24 +0000</td>\n",
       "      <td>&lt;a href=\"http://twitter.com/download/iphone\" r...</td>\n",
       "      <td>This is Franklin. He would like you to stop ca...</td>\n",
       "      <td>Franklin</td>\n",
       "      <td>None</td>\n",
       "      <td>None</td>\n",
       "      <td>None</td>\n",
       "      <td>None</td>\n",
       "    </tr>\n",
       "  </tbody>\n",
       "</table>\n",
       "</div>"
      ],
      "text/plain": [
       "             tweet_id                  timestamp  \\\n",
       "0  892420643555336193  2017-08-01 16:23:56 +0000   \n",
       "1  892177421306343426  2017-08-01 00:17:27 +0000   \n",
       "2  891815181378084864  2017-07-31 00:18:03 +0000   \n",
       "3  891689557279858688  2017-07-30 15:58:51 +0000   \n",
       "4  891327558926688256  2017-07-29 16:00:24 +0000   \n",
       "\n",
       "                                              source  \\\n",
       "0  <a href=\"http://twitter.com/download/iphone\" r...   \n",
       "1  <a href=\"http://twitter.com/download/iphone\" r...   \n",
       "2  <a href=\"http://twitter.com/download/iphone\" r...   \n",
       "3  <a href=\"http://twitter.com/download/iphone\" r...   \n",
       "4  <a href=\"http://twitter.com/download/iphone\" r...   \n",
       "\n",
       "                                                text      name doggo floofer  \\\n",
       "0  This is Phineas. He's a mystical boy. Only eve...   Phineas  None    None   \n",
       "1  This is Tilly. She's just checking pup on you....     Tilly  None    None   \n",
       "2  This is Archie. He is a rare Norwegian Pouncin...    Archie  None    None   \n",
       "3  This is Darla. She commenced a snooze mid meal...     Darla  None    None   \n",
       "4  This is Franklin. He would like you to stop ca...  Franklin  None    None   \n",
       "\n",
       "  pupper puppo  \n",
       "0   None  None  \n",
       "1   None  None  \n",
       "2   None  None  \n",
       "3   None  None  \n",
       "4   None  None  "
      ]
     },
     "execution_count": 47,
     "metadata": {},
     "output_type": "execute_result"
    }
   ],
   "source": [
    "archive_enhanced_chosen.head()"
   ]
  },
  {
   "cell_type": "markdown",
   "metadata": {},
   "source": [
    "### Issue #6:\n",
    "#### Define: The timestamp column has erroroneous data type"
   ]
  },
  {
   "cell_type": "markdown",
   "metadata": {},
   "source": [
    "#### Code"
   ]
  },
  {
   "cell_type": "code",
   "execution_count": 48,
   "metadata": {},
   "outputs": [],
   "source": [
    "archive_enhanced_chosen['timestamp'] = pd.to_datetime(archive_enhanced_chosen['timestamp'])"
   ]
  },
  {
   "cell_type": "markdown",
   "metadata": {},
   "source": [
    "#### Test"
   ]
  },
  {
   "cell_type": "code",
   "execution_count": 49,
   "metadata": {},
   "outputs": [
    {
     "name": "stdout",
     "output_type": "stream",
     "text": [
      "<class 'pandas.core.frame.DataFrame'>\n",
      "RangeIndex: 2356 entries, 0 to 2355\n",
      "Data columns (total 9 columns):\n",
      " #   Column     Non-Null Count  Dtype              \n",
      "---  ------     --------------  -----              \n",
      " 0   tweet_id   2356 non-null   int64              \n",
      " 1   timestamp  2356 non-null   datetime64[ns, UTC]\n",
      " 2   source     2356 non-null   object             \n",
      " 3   text       2356 non-null   object             \n",
      " 4   name       2356 non-null   object             \n",
      " 5   doggo      2356 non-null   object             \n",
      " 6   floofer    2356 non-null   object             \n",
      " 7   pupper     2356 non-null   object             \n",
      " 8   puppo      2356 non-null   object             \n",
      "dtypes: datetime64[ns, UTC](1), int64(1), object(7)\n",
      "memory usage: 165.8+ KB\n"
     ]
    }
   ],
   "source": [
    "archive_enhanced_chosen.info()"
   ]
  },
  {
   "cell_type": "code",
   "execution_count": 50,
   "metadata": {},
   "outputs": [
    {
     "data": {
      "text/html": [
       "<div>\n",
       "<style scoped>\n",
       "    .dataframe tbody tr th:only-of-type {\n",
       "        vertical-align: middle;\n",
       "    }\n",
       "\n",
       "    .dataframe tbody tr th {\n",
       "        vertical-align: top;\n",
       "    }\n",
       "\n",
       "    .dataframe thead th {\n",
       "        text-align: right;\n",
       "    }\n",
       "</style>\n",
       "<table border=\"1\" class=\"dataframe\">\n",
       "  <thead>\n",
       "    <tr style=\"text-align: right;\">\n",
       "      <th></th>\n",
       "      <th>tweet_id</th>\n",
       "      <th>timestamp</th>\n",
       "      <th>source</th>\n",
       "      <th>text</th>\n",
       "      <th>name</th>\n",
       "      <th>doggo</th>\n",
       "      <th>floofer</th>\n",
       "      <th>pupper</th>\n",
       "      <th>puppo</th>\n",
       "    </tr>\n",
       "  </thead>\n",
       "  <tbody>\n",
       "    <tr>\n",
       "      <th>0</th>\n",
       "      <td>892420643555336193</td>\n",
       "      <td>2017-08-01 16:23:56+00:00</td>\n",
       "      <td>&lt;a href=\"http://twitter.com/download/iphone\" r...</td>\n",
       "      <td>This is Phineas. He's a mystical boy. Only eve...</td>\n",
       "      <td>Phineas</td>\n",
       "      <td>None</td>\n",
       "      <td>None</td>\n",
       "      <td>None</td>\n",
       "      <td>None</td>\n",
       "    </tr>\n",
       "    <tr>\n",
       "      <th>1</th>\n",
       "      <td>892177421306343426</td>\n",
       "      <td>2017-08-01 00:17:27+00:00</td>\n",
       "      <td>&lt;a href=\"http://twitter.com/download/iphone\" r...</td>\n",
       "      <td>This is Tilly. She's just checking pup on you....</td>\n",
       "      <td>Tilly</td>\n",
       "      <td>None</td>\n",
       "      <td>None</td>\n",
       "      <td>None</td>\n",
       "      <td>None</td>\n",
       "    </tr>\n",
       "    <tr>\n",
       "      <th>2</th>\n",
       "      <td>891815181378084864</td>\n",
       "      <td>2017-07-31 00:18:03+00:00</td>\n",
       "      <td>&lt;a href=\"http://twitter.com/download/iphone\" r...</td>\n",
       "      <td>This is Archie. He is a rare Norwegian Pouncin...</td>\n",
       "      <td>Archie</td>\n",
       "      <td>None</td>\n",
       "      <td>None</td>\n",
       "      <td>None</td>\n",
       "      <td>None</td>\n",
       "    </tr>\n",
       "  </tbody>\n",
       "</table>\n",
       "</div>"
      ],
      "text/plain": [
       "             tweet_id                 timestamp  \\\n",
       "0  892420643555336193 2017-08-01 16:23:56+00:00   \n",
       "1  892177421306343426 2017-08-01 00:17:27+00:00   \n",
       "2  891815181378084864 2017-07-31 00:18:03+00:00   \n",
       "\n",
       "                                              source  \\\n",
       "0  <a href=\"http://twitter.com/download/iphone\" r...   \n",
       "1  <a href=\"http://twitter.com/download/iphone\" r...   \n",
       "2  <a href=\"http://twitter.com/download/iphone\" r...   \n",
       "\n",
       "                                                text     name doggo floofer  \\\n",
       "0  This is Phineas. He's a mystical boy. Only eve...  Phineas  None    None   \n",
       "1  This is Tilly. She's just checking pup on you....    Tilly  None    None   \n",
       "2  This is Archie. He is a rare Norwegian Pouncin...   Archie  None    None   \n",
       "\n",
       "  pupper puppo  \n",
       "0   None  None  \n",
       "1   None  None  \n",
       "2   None  None  "
      ]
     },
     "execution_count": 50,
     "metadata": {},
     "output_type": "execute_result"
    }
   ],
   "source": [
    "archive_enhanced_chosen.head(3)"
   ]
  },
  {
   "cell_type": "markdown",
   "metadata": {},
   "source": [
    "### Issue #8:\n",
    "#### Define: Extract year column from timestamp column"
   ]
  },
  {
   "cell_type": "markdown",
   "metadata": {},
   "source": [
    "#### Code"
   ]
  },
  {
   "cell_type": "code",
   "execution_count": 51,
   "metadata": {},
   "outputs": [],
   "source": [
    "archive_enhanced_chosen['year'] = pd.DatetimeIndex(archive_enhanced_chosen['timestamp']).year"
   ]
  },
  {
   "cell_type": "markdown",
   "metadata": {},
   "source": [
    "#### Test"
   ]
  },
  {
   "cell_type": "code",
   "execution_count": 52,
   "metadata": {},
   "outputs": [
    {
     "data": {
      "text/html": [
       "<div>\n",
       "<style scoped>\n",
       "    .dataframe tbody tr th:only-of-type {\n",
       "        vertical-align: middle;\n",
       "    }\n",
       "\n",
       "    .dataframe tbody tr th {\n",
       "        vertical-align: top;\n",
       "    }\n",
       "\n",
       "    .dataframe thead th {\n",
       "        text-align: right;\n",
       "    }\n",
       "</style>\n",
       "<table border=\"1\" class=\"dataframe\">\n",
       "  <thead>\n",
       "    <tr style=\"text-align: right;\">\n",
       "      <th></th>\n",
       "      <th>tweet_id</th>\n",
       "      <th>timestamp</th>\n",
       "      <th>source</th>\n",
       "      <th>text</th>\n",
       "      <th>name</th>\n",
       "      <th>doggo</th>\n",
       "      <th>floofer</th>\n",
       "      <th>pupper</th>\n",
       "      <th>puppo</th>\n",
       "      <th>year</th>\n",
       "    </tr>\n",
       "  </thead>\n",
       "  <tbody>\n",
       "    <tr>\n",
       "      <th>0</th>\n",
       "      <td>892420643555336193</td>\n",
       "      <td>2017-08-01 16:23:56+00:00</td>\n",
       "      <td>&lt;a href=\"http://twitter.com/download/iphone\" r...</td>\n",
       "      <td>This is Phineas. He's a mystical boy. Only eve...</td>\n",
       "      <td>Phineas</td>\n",
       "      <td>None</td>\n",
       "      <td>None</td>\n",
       "      <td>None</td>\n",
       "      <td>None</td>\n",
       "      <td>2017</td>\n",
       "    </tr>\n",
       "    <tr>\n",
       "      <th>1</th>\n",
       "      <td>892177421306343426</td>\n",
       "      <td>2017-08-01 00:17:27+00:00</td>\n",
       "      <td>&lt;a href=\"http://twitter.com/download/iphone\" r...</td>\n",
       "      <td>This is Tilly. She's just checking pup on you....</td>\n",
       "      <td>Tilly</td>\n",
       "      <td>None</td>\n",
       "      <td>None</td>\n",
       "      <td>None</td>\n",
       "      <td>None</td>\n",
       "      <td>2017</td>\n",
       "    </tr>\n",
       "  </tbody>\n",
       "</table>\n",
       "</div>"
      ],
      "text/plain": [
       "             tweet_id                 timestamp  \\\n",
       "0  892420643555336193 2017-08-01 16:23:56+00:00   \n",
       "1  892177421306343426 2017-08-01 00:17:27+00:00   \n",
       "\n",
       "                                              source  \\\n",
       "0  <a href=\"http://twitter.com/download/iphone\" r...   \n",
       "1  <a href=\"http://twitter.com/download/iphone\" r...   \n",
       "\n",
       "                                                text     name doggo floofer  \\\n",
       "0  This is Phineas. He's a mystical boy. Only eve...  Phineas  None    None   \n",
       "1  This is Tilly. She's just checking pup on you....    Tilly  None    None   \n",
       "\n",
       "  pupper puppo  year  \n",
       "0   None  None  2017  \n",
       "1   None  None  2017  "
      ]
     },
     "execution_count": 52,
     "metadata": {},
     "output_type": "execute_result"
    }
   ],
   "source": [
    "archive_enhanced_chosen.head(2)"
   ]
  },
  {
   "cell_type": "markdown",
   "metadata": {},
   "source": [
    "### Data Set - Image Predictions\n",
    "### Issue #9:\n",
    "#### Define: Drop unwanted columns"
   ]
  },
  {
   "cell_type": "markdown",
   "metadata": {},
   "source": [
    "#### Code"
   ]
  },
  {
   "cell_type": "code",
   "execution_count": 53,
   "metadata": {},
   "outputs": [],
   "source": [
    "img_pred_chosen = pd.DataFrame(img_pred.drop(['img_num'], axis =1))"
   ]
  },
  {
   "cell_type": "markdown",
   "metadata": {},
   "source": [
    "#### Test"
   ]
  },
  {
   "cell_type": "code",
   "execution_count": 54,
   "metadata": {},
   "outputs": [
    {
     "data": {
      "text/html": [
       "<div>\n",
       "<style scoped>\n",
       "    .dataframe tbody tr th:only-of-type {\n",
       "        vertical-align: middle;\n",
       "    }\n",
       "\n",
       "    .dataframe tbody tr th {\n",
       "        vertical-align: top;\n",
       "    }\n",
       "\n",
       "    .dataframe thead th {\n",
       "        text-align: right;\n",
       "    }\n",
       "</style>\n",
       "<table border=\"1\" class=\"dataframe\">\n",
       "  <thead>\n",
       "    <tr style=\"text-align: right;\">\n",
       "      <th></th>\n",
       "      <th>tweet_id</th>\n",
       "      <th>jpg_url</th>\n",
       "      <th>p1</th>\n",
       "      <th>p1_conf</th>\n",
       "      <th>p1_dog</th>\n",
       "      <th>p2</th>\n",
       "      <th>p2_conf</th>\n",
       "      <th>p2_dog</th>\n",
       "      <th>p3</th>\n",
       "      <th>p3_conf</th>\n",
       "      <th>p3_dog</th>\n",
       "    </tr>\n",
       "  </thead>\n",
       "  <tbody>\n",
       "    <tr>\n",
       "      <th>0</th>\n",
       "      <td>666020888022790149</td>\n",
       "      <td>https://pbs.twimg.com/media/CT4udn0WwAA0aMy.jpg</td>\n",
       "      <td>Welsh_springer_spaniel</td>\n",
       "      <td>0.465074</td>\n",
       "      <td>True</td>\n",
       "      <td>collie</td>\n",
       "      <td>0.156665</td>\n",
       "      <td>True</td>\n",
       "      <td>Shetland_sheepdog</td>\n",
       "      <td>0.061428</td>\n",
       "      <td>True</td>\n",
       "    </tr>\n",
       "    <tr>\n",
       "      <th>1</th>\n",
       "      <td>666029285002620928</td>\n",
       "      <td>https://pbs.twimg.com/media/CT42GRgUYAA5iDo.jpg</td>\n",
       "      <td>redbone</td>\n",
       "      <td>0.506826</td>\n",
       "      <td>True</td>\n",
       "      <td>miniature_pinscher</td>\n",
       "      <td>0.074192</td>\n",
       "      <td>True</td>\n",
       "      <td>Rhodesian_ridgeback</td>\n",
       "      <td>0.072010</td>\n",
       "      <td>True</td>\n",
       "    </tr>\n",
       "  </tbody>\n",
       "</table>\n",
       "</div>"
      ],
      "text/plain": [
       "             tweet_id                                          jpg_url  \\\n",
       "0  666020888022790149  https://pbs.twimg.com/media/CT4udn0WwAA0aMy.jpg   \n",
       "1  666029285002620928  https://pbs.twimg.com/media/CT42GRgUYAA5iDo.jpg   \n",
       "\n",
       "                       p1   p1_conf  p1_dog                  p2   p2_conf  \\\n",
       "0  Welsh_springer_spaniel  0.465074    True              collie  0.156665   \n",
       "1                 redbone  0.506826    True  miniature_pinscher  0.074192   \n",
       "\n",
       "   p2_dog                   p3   p3_conf  p3_dog  \n",
       "0    True    Shetland_sheepdog  0.061428    True  \n",
       "1    True  Rhodesian_ridgeback  0.072010    True  "
      ]
     },
     "execution_count": 54,
     "metadata": {},
     "output_type": "execute_result"
    }
   ],
   "source": [
    "img_pred_chosen.head(2)"
   ]
  },
  {
   "cell_type": "markdown",
   "metadata": {},
   "source": [
    "### Issue #11:\n",
    "#### Define: Fix the column headers for prediction columns to make it more relevant"
   ]
  },
  {
   "cell_type": "markdown",
   "metadata": {},
   "source": [
    "#### Code"
   ]
  },
  {
   "cell_type": "code",
   "execution_count": 55,
   "metadata": {},
   "outputs": [],
   "source": [
    "img_pred_chosen.rename(columns={'p1':'first_prediction', 'p1_conf': 'first_confidence', 'p1_dog': 'first_dog',\n",
    "                                  'p2': 'second_prediction', 'p2_conf': 'second_confidence', 'p2_dog': 'second_dog',\n",
    "                                  'p3': 'third_prediction', 'p3_conf': 'third_confidence', 'p3_dog': 'third_dog'}, inplace = True)"
   ]
  },
  {
   "cell_type": "markdown",
   "metadata": {},
   "source": [
    "#### Test"
   ]
  },
  {
   "cell_type": "code",
   "execution_count": 56,
   "metadata": {},
   "outputs": [
    {
     "data": {
      "text/html": [
       "<div>\n",
       "<style scoped>\n",
       "    .dataframe tbody tr th:only-of-type {\n",
       "        vertical-align: middle;\n",
       "    }\n",
       "\n",
       "    .dataframe tbody tr th {\n",
       "        vertical-align: top;\n",
       "    }\n",
       "\n",
       "    .dataframe thead th {\n",
       "        text-align: right;\n",
       "    }\n",
       "</style>\n",
       "<table border=\"1\" class=\"dataframe\">\n",
       "  <thead>\n",
       "    <tr style=\"text-align: right;\">\n",
       "      <th></th>\n",
       "      <th>tweet_id</th>\n",
       "      <th>jpg_url</th>\n",
       "      <th>first_prediction</th>\n",
       "      <th>first_confidence</th>\n",
       "      <th>first_dog</th>\n",
       "      <th>second_prediction</th>\n",
       "      <th>second_confidence</th>\n",
       "      <th>second_dog</th>\n",
       "      <th>third_prediction</th>\n",
       "      <th>third_confidence</th>\n",
       "      <th>third_dog</th>\n",
       "    </tr>\n",
       "  </thead>\n",
       "  <tbody>\n",
       "    <tr>\n",
       "      <th>0</th>\n",
       "      <td>666020888022790149</td>\n",
       "      <td>https://pbs.twimg.com/media/CT4udn0WwAA0aMy.jpg</td>\n",
       "      <td>Welsh_springer_spaniel</td>\n",
       "      <td>0.465074</td>\n",
       "      <td>True</td>\n",
       "      <td>collie</td>\n",
       "      <td>0.156665</td>\n",
       "      <td>True</td>\n",
       "      <td>Shetland_sheepdog</td>\n",
       "      <td>0.061428</td>\n",
       "      <td>True</td>\n",
       "    </tr>\n",
       "    <tr>\n",
       "      <th>1</th>\n",
       "      <td>666029285002620928</td>\n",
       "      <td>https://pbs.twimg.com/media/CT42GRgUYAA5iDo.jpg</td>\n",
       "      <td>redbone</td>\n",
       "      <td>0.506826</td>\n",
       "      <td>True</td>\n",
       "      <td>miniature_pinscher</td>\n",
       "      <td>0.074192</td>\n",
       "      <td>True</td>\n",
       "      <td>Rhodesian_ridgeback</td>\n",
       "      <td>0.072010</td>\n",
       "      <td>True</td>\n",
       "    </tr>\n",
       "  </tbody>\n",
       "</table>\n",
       "</div>"
      ],
      "text/plain": [
       "             tweet_id                                          jpg_url  \\\n",
       "0  666020888022790149  https://pbs.twimg.com/media/CT4udn0WwAA0aMy.jpg   \n",
       "1  666029285002620928  https://pbs.twimg.com/media/CT42GRgUYAA5iDo.jpg   \n",
       "\n",
       "         first_prediction  first_confidence  first_dog   second_prediction  \\\n",
       "0  Welsh_springer_spaniel          0.465074       True              collie   \n",
       "1                 redbone          0.506826       True  miniature_pinscher   \n",
       "\n",
       "   second_confidence  second_dog     third_prediction  third_confidence  \\\n",
       "0           0.156665        True    Shetland_sheepdog          0.061428   \n",
       "1           0.074192        True  Rhodesian_ridgeback          0.072010   \n",
       "\n",
       "   third_dog  \n",
       "0       True  \n",
       "1       True  "
      ]
     },
     "execution_count": 56,
     "metadata": {},
     "output_type": "execute_result"
    }
   ],
   "source": [
    "img_pred_chosen.head(2)"
   ]
  },
  {
   "cell_type": "markdown",
   "metadata": {},
   "source": [
    "### Issue #12:\n",
    "#### Define: Improve consistency for dog breeds"
   ]
  },
  {
   "cell_type": "markdown",
   "metadata": {},
   "source": [
    "#### Code"
   ]
  },
  {
   "cell_type": "code",
   "execution_count": 57,
   "metadata": {},
   "outputs": [],
   "source": [
    "img_pred_chosen['first_prediction'] = img_pred_chosen.first_prediction.str.capitalize()\n",
    "img_pred_chosen['second_prediction'] = img_pred_chosen.second_prediction.str.capitalize()\n",
    "img_pred_chosen['third_prediction'] = img_pred_chosen.third_prediction.str.capitalize();"
   ]
  },
  {
   "cell_type": "markdown",
   "metadata": {},
   "source": [
    "#### Test"
   ]
  },
  {
   "cell_type": "code",
   "execution_count": 58,
   "metadata": {},
   "outputs": [
    {
     "data": {
      "text/html": [
       "<div>\n",
       "<style scoped>\n",
       "    .dataframe tbody tr th:only-of-type {\n",
       "        vertical-align: middle;\n",
       "    }\n",
       "\n",
       "    .dataframe tbody tr th {\n",
       "        vertical-align: top;\n",
       "    }\n",
       "\n",
       "    .dataframe thead th {\n",
       "        text-align: right;\n",
       "    }\n",
       "</style>\n",
       "<table border=\"1\" class=\"dataframe\">\n",
       "  <thead>\n",
       "    <tr style=\"text-align: right;\">\n",
       "      <th></th>\n",
       "      <th>tweet_id</th>\n",
       "      <th>jpg_url</th>\n",
       "      <th>first_prediction</th>\n",
       "      <th>first_confidence</th>\n",
       "      <th>first_dog</th>\n",
       "      <th>second_prediction</th>\n",
       "      <th>second_confidence</th>\n",
       "      <th>second_dog</th>\n",
       "      <th>third_prediction</th>\n",
       "      <th>third_confidence</th>\n",
       "      <th>third_dog</th>\n",
       "    </tr>\n",
       "  </thead>\n",
       "  <tbody>\n",
       "    <tr>\n",
       "      <th>0</th>\n",
       "      <td>666020888022790149</td>\n",
       "      <td>https://pbs.twimg.com/media/CT4udn0WwAA0aMy.jpg</td>\n",
       "      <td>Welsh_springer_spaniel</td>\n",
       "      <td>0.465074</td>\n",
       "      <td>True</td>\n",
       "      <td>Collie</td>\n",
       "      <td>0.156665</td>\n",
       "      <td>True</td>\n",
       "      <td>Shetland_sheepdog</td>\n",
       "      <td>0.061428</td>\n",
       "      <td>True</td>\n",
       "    </tr>\n",
       "    <tr>\n",
       "      <th>1</th>\n",
       "      <td>666029285002620928</td>\n",
       "      <td>https://pbs.twimg.com/media/CT42GRgUYAA5iDo.jpg</td>\n",
       "      <td>Redbone</td>\n",
       "      <td>0.506826</td>\n",
       "      <td>True</td>\n",
       "      <td>Miniature_pinscher</td>\n",
       "      <td>0.074192</td>\n",
       "      <td>True</td>\n",
       "      <td>Rhodesian_ridgeback</td>\n",
       "      <td>0.072010</td>\n",
       "      <td>True</td>\n",
       "    </tr>\n",
       "    <tr>\n",
       "      <th>2</th>\n",
       "      <td>666033412701032449</td>\n",
       "      <td>https://pbs.twimg.com/media/CT4521TWwAEvMyu.jpg</td>\n",
       "      <td>German_shepherd</td>\n",
       "      <td>0.596461</td>\n",
       "      <td>True</td>\n",
       "      <td>Malinois</td>\n",
       "      <td>0.138584</td>\n",
       "      <td>True</td>\n",
       "      <td>Bloodhound</td>\n",
       "      <td>0.116197</td>\n",
       "      <td>True</td>\n",
       "    </tr>\n",
       "  </tbody>\n",
       "</table>\n",
       "</div>"
      ],
      "text/plain": [
       "             tweet_id                                          jpg_url  \\\n",
       "0  666020888022790149  https://pbs.twimg.com/media/CT4udn0WwAA0aMy.jpg   \n",
       "1  666029285002620928  https://pbs.twimg.com/media/CT42GRgUYAA5iDo.jpg   \n",
       "2  666033412701032449  https://pbs.twimg.com/media/CT4521TWwAEvMyu.jpg   \n",
       "\n",
       "         first_prediction  first_confidence  first_dog   second_prediction  \\\n",
       "0  Welsh_springer_spaniel          0.465074       True              Collie   \n",
       "1                 Redbone          0.506826       True  Miniature_pinscher   \n",
       "2         German_shepherd          0.596461       True            Malinois   \n",
       "\n",
       "   second_confidence  second_dog     third_prediction  third_confidence  \\\n",
       "0           0.156665        True    Shetland_sheepdog          0.061428   \n",
       "1           0.074192        True  Rhodesian_ridgeback          0.072010   \n",
       "2           0.138584        True           Bloodhound          0.116197   \n",
       "\n",
       "   third_dog  \n",
       "0       True  \n",
       "1       True  \n",
       "2       True  "
      ]
     },
     "execution_count": 58,
     "metadata": {},
     "output_type": "execute_result"
    }
   ],
   "source": [
    "img_pred_chosen.head(3)"
   ]
  },
  {
   "cell_type": "markdown",
   "metadata": {},
   "source": [
    "### Tidiness Issues \n",
    "### Issue #1\n",
    "#### Define: This project involves three datasets we will combine them to create one dataset "
   ]
  },
  {
   "cell_type": "markdown",
   "metadata": {},
   "source": [
    "#### Code"
   ]
  },
  {
   "cell_type": "code",
   "execution_count": 59,
   "metadata": {},
   "outputs": [],
   "source": [
    "master_data = pd.merge(twitter_chosen, img_pred_chosen, how = 'left', on = ['tweet_id'])\n",
    "master_data = master_data[master_data['jpg_url'].notnull()]"
   ]
  },
  {
   "cell_type": "code",
   "execution_count": 60,
   "metadata": {},
   "outputs": [
    {
     "data": {
      "text/html": [
       "<div>\n",
       "<style scoped>\n",
       "    .dataframe tbody tr th:only-of-type {\n",
       "        vertical-align: middle;\n",
       "    }\n",
       "\n",
       "    .dataframe tbody tr th {\n",
       "        vertical-align: top;\n",
       "    }\n",
       "\n",
       "    .dataframe thead th {\n",
       "        text-align: right;\n",
       "    }\n",
       "</style>\n",
       "<table border=\"1\" class=\"dataframe\">\n",
       "  <thead>\n",
       "    <tr style=\"text-align: right;\">\n",
       "      <th></th>\n",
       "      <th>tweet_id</th>\n",
       "      <th>user</th>\n",
       "      <th>retweet_count</th>\n",
       "      <th>favorite_count</th>\n",
       "      <th>followers</th>\n",
       "      <th>followership</th>\n",
       "      <th>jpg_url</th>\n",
       "      <th>first_prediction</th>\n",
       "      <th>first_confidence</th>\n",
       "      <th>first_dog</th>\n",
       "      <th>second_prediction</th>\n",
       "      <th>second_confidence</th>\n",
       "      <th>second_dog</th>\n",
       "      <th>third_prediction</th>\n",
       "      <th>third_confidence</th>\n",
       "      <th>third_dog</th>\n",
       "    </tr>\n",
       "  </thead>\n",
       "  <tbody>\n",
       "    <tr>\n",
       "      <th>0</th>\n",
       "      <td>892420643555336193</td>\n",
       "      <td>{'id': 4196983835, 'id_str': '4196983835', 'na...</td>\n",
       "      <td>7142</td>\n",
       "      <td>34362</td>\n",
       "      <td>9100211</td>\n",
       "      <td>NaN</td>\n",
       "      <td>https://pbs.twimg.com/media/DGKD1-bXoAAIAUK.jpg</td>\n",
       "      <td>Orange</td>\n",
       "      <td>0.097049</td>\n",
       "      <td>False</td>\n",
       "      <td>Bagel</td>\n",
       "      <td>0.085851</td>\n",
       "      <td>False</td>\n",
       "      <td>Banana</td>\n",
       "      <td>0.076110</td>\n",
       "      <td>False</td>\n",
       "    </tr>\n",
       "    <tr>\n",
       "      <th>1</th>\n",
       "      <td>892177421306343426</td>\n",
       "      <td>{'id': 4196983835, 'id_str': '4196983835', 'na...</td>\n",
       "      <td>5374</td>\n",
       "      <td>29787</td>\n",
       "      <td>9100211</td>\n",
       "      <td>NaN</td>\n",
       "      <td>https://pbs.twimg.com/media/DGGmoV4XsAAUL6n.jpg</td>\n",
       "      <td>Chihuahua</td>\n",
       "      <td>0.323581</td>\n",
       "      <td>True</td>\n",
       "      <td>Pekinese</td>\n",
       "      <td>0.090647</td>\n",
       "      <td>True</td>\n",
       "      <td>Papillon</td>\n",
       "      <td>0.068957</td>\n",
       "      <td>True</td>\n",
       "    </tr>\n",
       "  </tbody>\n",
       "</table>\n",
       "</div>"
      ],
      "text/plain": [
       "             tweet_id                                               user  \\\n",
       "0  892420643555336193  {'id': 4196983835, 'id_str': '4196983835', 'na...   \n",
       "1  892177421306343426  {'id': 4196983835, 'id_str': '4196983835', 'na...   \n",
       "\n",
       "   retweet_count  favorite_count  followers followership  \\\n",
       "0           7142           34362    9100211          NaN   \n",
       "1           5374           29787    9100211          NaN   \n",
       "\n",
       "                                           jpg_url first_prediction  \\\n",
       "0  https://pbs.twimg.com/media/DGKD1-bXoAAIAUK.jpg           Orange   \n",
       "1  https://pbs.twimg.com/media/DGGmoV4XsAAUL6n.jpg        Chihuahua   \n",
       "\n",
       "   first_confidence first_dog second_prediction  second_confidence second_dog  \\\n",
       "0          0.097049     False             Bagel           0.085851      False   \n",
       "1          0.323581      True          Pekinese           0.090647       True   \n",
       "\n",
       "  third_prediction  third_confidence third_dog  \n",
       "0           Banana          0.076110     False  \n",
       "1         Papillon          0.068957      True  "
      ]
     },
     "execution_count": 60,
     "metadata": {},
     "output_type": "execute_result"
    }
   ],
   "source": [
    "master_data.head(2)"
   ]
  },
  {
   "cell_type": "code",
   "execution_count": 61,
   "metadata": {},
   "outputs": [],
   "source": [
    "# master_data = pd.merge(twitter_chosen,archive_enhanced_chosen, on = 'tweet_id')\n",
    "master_data = pd.merge(master_data, archive_enhanced_chosen, on = 'tweet_id')"
   ]
  },
  {
   "cell_type": "markdown",
   "metadata": {},
   "source": [
    "#### Test"
   ]
  },
  {
   "cell_type": "code",
   "execution_count": 62,
   "metadata": {},
   "outputs": [
    {
     "data": {
      "text/html": [
       "<div>\n",
       "<style scoped>\n",
       "    .dataframe tbody tr th:only-of-type {\n",
       "        vertical-align: middle;\n",
       "    }\n",
       "\n",
       "    .dataframe tbody tr th {\n",
       "        vertical-align: top;\n",
       "    }\n",
       "\n",
       "    .dataframe thead th {\n",
       "        text-align: right;\n",
       "    }\n",
       "</style>\n",
       "<table border=\"1\" class=\"dataframe\">\n",
       "  <thead>\n",
       "    <tr style=\"text-align: right;\">\n",
       "      <th></th>\n",
       "      <th>tweet_id</th>\n",
       "      <th>user</th>\n",
       "      <th>retweet_count</th>\n",
       "      <th>favorite_count</th>\n",
       "      <th>followers</th>\n",
       "      <th>followership</th>\n",
       "      <th>jpg_url</th>\n",
       "      <th>first_prediction</th>\n",
       "      <th>first_confidence</th>\n",
       "      <th>first_dog</th>\n",
       "      <th>...</th>\n",
       "      <th>third_dog</th>\n",
       "      <th>timestamp</th>\n",
       "      <th>source</th>\n",
       "      <th>text</th>\n",
       "      <th>name</th>\n",
       "      <th>doggo</th>\n",
       "      <th>floofer</th>\n",
       "      <th>pupper</th>\n",
       "      <th>puppo</th>\n",
       "      <th>year</th>\n",
       "    </tr>\n",
       "  </thead>\n",
       "  <tbody>\n",
       "    <tr>\n",
       "      <th>2056</th>\n",
       "      <td>666029285002620928</td>\n",
       "      <td>{'id': 4196983835, 'id_str': '4196983835', 'na...</td>\n",
       "      <td>39</td>\n",
       "      <td>115</td>\n",
       "      <td>9100585</td>\n",
       "      <td>Max</td>\n",
       "      <td>https://pbs.twimg.com/media/CT42GRgUYAA5iDo.jpg</td>\n",
       "      <td>Redbone</td>\n",
       "      <td>0.506826</td>\n",
       "      <td>True</td>\n",
       "      <td>...</td>\n",
       "      <td>True</td>\n",
       "      <td>2015-11-15 23:05:30+00:00</td>\n",
       "      <td>&lt;a href=\"http://twitter.com/download/iphone\" r...</td>\n",
       "      <td>This is a western brown Mitsubishi terrier. Up...</td>\n",
       "      <td>a</td>\n",
       "      <td>None</td>\n",
       "      <td>None</td>\n",
       "      <td>None</td>\n",
       "      <td>None</td>\n",
       "      <td>2015</td>\n",
       "    </tr>\n",
       "    <tr>\n",
       "      <th>2057</th>\n",
       "      <td>666020888022790149</td>\n",
       "      <td>{'id': 4196983835, 'id_str': '4196983835', 'na...</td>\n",
       "      <td>431</td>\n",
       "      <td>2315</td>\n",
       "      <td>9100214</td>\n",
       "      <td>Medium</td>\n",
       "      <td>https://pbs.twimg.com/media/CT4udn0WwAA0aMy.jpg</td>\n",
       "      <td>Welsh_springer_spaniel</td>\n",
       "      <td>0.465074</td>\n",
       "      <td>True</td>\n",
       "      <td>...</td>\n",
       "      <td>True</td>\n",
       "      <td>2015-11-15 22:32:08+00:00</td>\n",
       "      <td>&lt;a href=\"http://twitter.com/download/iphone\" r...</td>\n",
       "      <td>Here we have a Japanese Irish Setter. Lost eye...</td>\n",
       "      <td>None</td>\n",
       "      <td>None</td>\n",
       "      <td>None</td>\n",
       "      <td>None</td>\n",
       "      <td>None</td>\n",
       "      <td>2015</td>\n",
       "    </tr>\n",
       "  </tbody>\n",
       "</table>\n",
       "<p>2 rows × 25 columns</p>\n",
       "</div>"
      ],
      "text/plain": [
       "                tweet_id                                               user  \\\n",
       "2056  666029285002620928  {'id': 4196983835, 'id_str': '4196983835', 'na...   \n",
       "2057  666020888022790149  {'id': 4196983835, 'id_str': '4196983835', 'na...   \n",
       "\n",
       "      retweet_count  favorite_count  followers followership  \\\n",
       "2056             39             115    9100585          Max   \n",
       "2057            431            2315    9100214       Medium   \n",
       "\n",
       "                                              jpg_url        first_prediction  \\\n",
       "2056  https://pbs.twimg.com/media/CT42GRgUYAA5iDo.jpg                 Redbone   \n",
       "2057  https://pbs.twimg.com/media/CT4udn0WwAA0aMy.jpg  Welsh_springer_spaniel   \n",
       "\n",
       "      first_confidence first_dog  ... third_dog                 timestamp  \\\n",
       "2056          0.506826      True  ...      True 2015-11-15 23:05:30+00:00   \n",
       "2057          0.465074      True  ...      True 2015-11-15 22:32:08+00:00   \n",
       "\n",
       "                                                 source  \\\n",
       "2056  <a href=\"http://twitter.com/download/iphone\" r...   \n",
       "2057  <a href=\"http://twitter.com/download/iphone\" r...   \n",
       "\n",
       "                                                   text  name doggo floofer  \\\n",
       "2056  This is a western brown Mitsubishi terrier. Up...     a  None    None   \n",
       "2057  Here we have a Japanese Irish Setter. Lost eye...  None  None    None   \n",
       "\n",
       "     pupper puppo  year  \n",
       "2056   None  None  2015  \n",
       "2057   None  None  2015  \n",
       "\n",
       "[2 rows x 25 columns]"
      ]
     },
     "execution_count": 62,
     "metadata": {},
     "output_type": "execute_result"
    }
   ],
   "source": [
    "master_data.tail(2)"
   ]
  },
  {
   "cell_type": "code",
   "execution_count": 63,
   "metadata": {},
   "outputs": [
    {
     "name": "stdout",
     "output_type": "stream",
     "text": [
      "<class 'pandas.core.frame.DataFrame'>\n",
      "Int64Index: 2058 entries, 0 to 2057\n",
      "Data columns (total 25 columns):\n",
      " #   Column             Non-Null Count  Dtype              \n",
      "---  ------             --------------  -----              \n",
      " 0   tweet_id           2058 non-null   int64              \n",
      " 1   user               2058 non-null   object             \n",
      " 2   retweet_count      2058 non-null   int64              \n",
      " 3   favorite_count     2058 non-null   int64              \n",
      " 4   followers          2058 non-null   int64              \n",
      " 5   followership       2007 non-null   category           \n",
      " 6   jpg_url            2058 non-null   object             \n",
      " 7   first_prediction   2058 non-null   object             \n",
      " 8   first_confidence   2058 non-null   float64            \n",
      " 9   first_dog          2058 non-null   object             \n",
      " 10  second_prediction  2058 non-null   object             \n",
      " 11  second_confidence  2058 non-null   float64            \n",
      " 12  second_dog         2058 non-null   object             \n",
      " 13  third_prediction   2058 non-null   object             \n",
      " 14  third_confidence   2058 non-null   float64            \n",
      " 15  third_dog          2058 non-null   object             \n",
      " 16  timestamp          2058 non-null   datetime64[ns, UTC]\n",
      " 17  source             2058 non-null   object             \n",
      " 18  text               2058 non-null   object             \n",
      " 19  name               2058 non-null   object             \n",
      " 20  doggo              2058 non-null   object             \n",
      " 21  floofer            2058 non-null   object             \n",
      " 22  pupper             2058 non-null   object             \n",
      " 23  puppo              2058 non-null   object             \n",
      " 24  year               2058 non-null   int64              \n",
      "dtypes: category(1), datetime64[ns, UTC](1), float64(3), int64(5), object(15)\n",
      "memory usage: 404.2+ KB\n"
     ]
    }
   ],
   "source": [
    "master_data.info()"
   ]
  },
  {
   "cell_type": "markdown",
   "metadata": {},
   "source": [
    "### Issue #2:\n",
    "#### Define: Combining Dog Stages to create one column"
   ]
  },
  {
   "cell_type": "markdown",
   "metadata": {},
   "source": [
    "#### Code"
   ]
  },
  {
   "cell_type": "code",
   "execution_count": 64,
   "metadata": {},
   "outputs": [],
   "source": [
    "#replacing none to \"\"\n",
    "master_data.replace(to_replace= \"None\", value = '', inplace = True)\n",
    "master_data.replace(to_replace= \"none\", value = '', inplace = True)"
   ]
  },
  {
   "cell_type": "code",
   "execution_count": 65,
   "metadata": {},
   "outputs": [],
   "source": [
    "#combing the dog stages to one column \n",
    "master_data['dog_stages'] = master_data.doggo.str.cat(master_data.floofer).str.cat(master_data.pupper).str.cat(master_data.puppo)"
   ]
  },
  {
   "cell_type": "code",
   "execution_count": 66,
   "metadata": {},
   "outputs": [],
   "source": [
    "#dropping redundent columns\n",
    "master_data.drop(columns = ['doggo','floofer','pupper','puppo'], axis = 1, inplace =True)"
   ]
  },
  {
   "cell_type": "markdown",
   "metadata": {},
   "source": [
    "#### Test"
   ]
  },
  {
   "cell_type": "code",
   "execution_count": 67,
   "metadata": {},
   "outputs": [
    {
     "data": {
      "text/html": [
       "<div>\n",
       "<style scoped>\n",
       "    .dataframe tbody tr th:only-of-type {\n",
       "        vertical-align: middle;\n",
       "    }\n",
       "\n",
       "    .dataframe tbody tr th {\n",
       "        vertical-align: top;\n",
       "    }\n",
       "\n",
       "    .dataframe thead th {\n",
       "        text-align: right;\n",
       "    }\n",
       "</style>\n",
       "<table border=\"1\" class=\"dataframe\">\n",
       "  <thead>\n",
       "    <tr style=\"text-align: right;\">\n",
       "      <th></th>\n",
       "      <th>tweet_id</th>\n",
       "      <th>user</th>\n",
       "      <th>retweet_count</th>\n",
       "      <th>favorite_count</th>\n",
       "      <th>followers</th>\n",
       "      <th>followership</th>\n",
       "      <th>jpg_url</th>\n",
       "      <th>first_prediction</th>\n",
       "      <th>first_confidence</th>\n",
       "      <th>first_dog</th>\n",
       "      <th>...</th>\n",
       "      <th>second_dog</th>\n",
       "      <th>third_prediction</th>\n",
       "      <th>third_confidence</th>\n",
       "      <th>third_dog</th>\n",
       "      <th>timestamp</th>\n",
       "      <th>source</th>\n",
       "      <th>text</th>\n",
       "      <th>name</th>\n",
       "      <th>year</th>\n",
       "      <th>dog_stages</th>\n",
       "    </tr>\n",
       "  </thead>\n",
       "  <tbody>\n",
       "    <tr>\n",
       "      <th>0</th>\n",
       "      <td>892420643555336193</td>\n",
       "      <td>{'id': 4196983835, 'id_str': '4196983835', 'na...</td>\n",
       "      <td>7142</td>\n",
       "      <td>34362</td>\n",
       "      <td>9100211</td>\n",
       "      <td>NaN</td>\n",
       "      <td>https://pbs.twimg.com/media/DGKD1-bXoAAIAUK.jpg</td>\n",
       "      <td>Orange</td>\n",
       "      <td>0.097049</td>\n",
       "      <td>False</td>\n",
       "      <td>...</td>\n",
       "      <td>False</td>\n",
       "      <td>Banana</td>\n",
       "      <td>0.076110</td>\n",
       "      <td>False</td>\n",
       "      <td>2017-08-01 16:23:56+00:00</td>\n",
       "      <td>&lt;a href=\"http://twitter.com/download/iphone\" r...</td>\n",
       "      <td>This is Phineas. He's a mystical boy. Only eve...</td>\n",
       "      <td>Phineas</td>\n",
       "      <td>2017</td>\n",
       "      <td></td>\n",
       "    </tr>\n",
       "    <tr>\n",
       "      <th>1</th>\n",
       "      <td>892177421306343426</td>\n",
       "      <td>{'id': 4196983835, 'id_str': '4196983835', 'na...</td>\n",
       "      <td>5374</td>\n",
       "      <td>29787</td>\n",
       "      <td>9100211</td>\n",
       "      <td>NaN</td>\n",
       "      <td>https://pbs.twimg.com/media/DGGmoV4XsAAUL6n.jpg</td>\n",
       "      <td>Chihuahua</td>\n",
       "      <td>0.323581</td>\n",
       "      <td>True</td>\n",
       "      <td>...</td>\n",
       "      <td>True</td>\n",
       "      <td>Papillon</td>\n",
       "      <td>0.068957</td>\n",
       "      <td>True</td>\n",
       "      <td>2017-08-01 00:17:27+00:00</td>\n",
       "      <td>&lt;a href=\"http://twitter.com/download/iphone\" r...</td>\n",
       "      <td>This is Tilly. She's just checking pup on you....</td>\n",
       "      <td>Tilly</td>\n",
       "      <td>2017</td>\n",
       "      <td></td>\n",
       "    </tr>\n",
       "  </tbody>\n",
       "</table>\n",
       "<p>2 rows × 22 columns</p>\n",
       "</div>"
      ],
      "text/plain": [
       "             tweet_id                                               user  \\\n",
       "0  892420643555336193  {'id': 4196983835, 'id_str': '4196983835', 'na...   \n",
       "1  892177421306343426  {'id': 4196983835, 'id_str': '4196983835', 'na...   \n",
       "\n",
       "   retweet_count  favorite_count  followers followership  \\\n",
       "0           7142           34362    9100211          NaN   \n",
       "1           5374           29787    9100211          NaN   \n",
       "\n",
       "                                           jpg_url first_prediction  \\\n",
       "0  https://pbs.twimg.com/media/DGKD1-bXoAAIAUK.jpg           Orange   \n",
       "1  https://pbs.twimg.com/media/DGGmoV4XsAAUL6n.jpg        Chihuahua   \n",
       "\n",
       "   first_confidence  first_dog  ... second_dog  third_prediction  \\\n",
       "0          0.097049      False  ...      False            Banana   \n",
       "1          0.323581       True  ...       True          Papillon   \n",
       "\n",
       "   third_confidence third_dog                 timestamp  \\\n",
       "0          0.076110     False 2017-08-01 16:23:56+00:00   \n",
       "1          0.068957      True 2017-08-01 00:17:27+00:00   \n",
       "\n",
       "                                              source  \\\n",
       "0  <a href=\"http://twitter.com/download/iphone\" r...   \n",
       "1  <a href=\"http://twitter.com/download/iphone\" r...   \n",
       "\n",
       "                                                text     name  year dog_stages  \n",
       "0  This is Phineas. He's a mystical boy. Only eve...  Phineas  2017             \n",
       "1  This is Tilly. She's just checking pup on you....    Tilly  2017             \n",
       "\n",
       "[2 rows x 22 columns]"
      ]
     },
     "execution_count": 67,
     "metadata": {},
     "output_type": "execute_result"
    }
   ],
   "source": [
    "master_data.head(2)"
   ]
  },
  {
   "cell_type": "code",
   "execution_count": 68,
   "metadata": {},
   "outputs": [
    {
     "data": {
      "text/plain": [
       "Index(['tweet_id', 'user', 'retweet_count', 'favorite_count', 'followers',\n",
       "       'followership', 'jpg_url', 'first_prediction', 'first_confidence',\n",
       "       'first_dog', 'second_prediction', 'second_confidence', 'second_dog',\n",
       "       'third_prediction', 'third_confidence', 'third_dog', 'timestamp',\n",
       "       'source', 'text', 'name', 'year', 'dog_stages'],\n",
       "      dtype='object')"
      ]
     },
     "execution_count": 68,
     "metadata": {},
     "output_type": "execute_result"
    }
   ],
   "source": [
    "master_data.columns"
   ]
  },
  {
   "cell_type": "markdown",
   "metadata": {},
   "source": [
    "### Issue #3:\n",
    "#### Define: Fixing dog stages "
   ]
  },
  {
   "cell_type": "markdown",
   "metadata": {},
   "source": [
    "#### Code"
   ]
  },
  {
   "cell_type": "code",
   "execution_count": 71,
   "metadata": {},
   "outputs": [
    {
     "data": {
      "text/plain": [
       "                1740\n",
       "pupper           210\n",
       "doggo             65\n",
       "puppo             23\n",
       "doggopupper       11\n",
       "floofer            7\n",
       "doggopuppo         1\n",
       "doggofloofer       1\n",
       "Name: dog_stages, dtype: int64"
      ]
     },
     "execution_count": 71,
     "metadata": {},
     "output_type": "execute_result"
    }
   ],
   "source": [
    "master_data['dog_stages'].value_counts()"
   ]
  },
  {
   "cell_type": "code",
   "execution_count": 72,
   "metadata": {},
   "outputs": [],
   "source": [
    "master_data.loc[master_data.dog_stages == 'doggopupper','dog_stages'] = 'doggo, pupper'\n",
    "master_data.loc[master_data.dog_stages == 'doggopuppo','dog_stages'] = 'doggo, puppo'\n",
    "master_data.loc[master_data.dog_stages == 'doggofloofer','dog_stages'] = 'doggo, floofer'"
   ]
  },
  {
   "cell_type": "markdown",
   "metadata": {},
   "source": [
    "#### Test"
   ]
  },
  {
   "cell_type": "code",
   "execution_count": 73,
   "metadata": {},
   "outputs": [
    {
     "data": {
      "text/plain": [
       "                  1740\n",
       "pupper             210\n",
       "doggo               65\n",
       "puppo               23\n",
       "doggo, pupper       11\n",
       "floofer              7\n",
       "doggo, floofer       1\n",
       "doggo, puppo         1\n",
       "Name: dog_stages, dtype: int64"
      ]
     },
     "execution_count": 73,
     "metadata": {},
     "output_type": "execute_result"
    }
   ],
   "source": [
    "#testing the values\n",
    "master_data['dog_stages'].value_counts()"
   ]
  },
  {
   "cell_type": "markdown",
   "metadata": {},
   "source": [
    "## Storing the Data\n",
    "<a id=\"sd\"></a>"
   ]
  },
  {
   "cell_type": "code",
   "execution_count": 75,
   "metadata": {},
   "outputs": [],
   "source": [
    "#store the master dataframe to a csv file \n",
    "master_data.to_csv('master_data.csv', index = False)"
   ]
  },
  {
   "cell_type": "markdown",
   "metadata": {},
   "source": [
    "## Analyzing and Visualizing Data\n",
    "<a id=\"avd\"></a>\n",
    "In this section, analyze and visualize your wrangled data. You must produce at least **three (3) insights and one (1) visualization.**"
   ]
  },
  {
   "cell_type": "markdown",
   "metadata": {},
   "source": [
    "### 1st Insight"
   ]
  },
  {
   "cell_type": "code",
   "execution_count": 76,
   "metadata": {},
   "outputs": [
    {
     "data": {
      "text/html": [
       "<div>\n",
       "<style scoped>\n",
       "    .dataframe tbody tr th:only-of-type {\n",
       "        vertical-align: middle;\n",
       "    }\n",
       "\n",
       "    .dataframe tbody tr th {\n",
       "        vertical-align: top;\n",
       "    }\n",
       "\n",
       "    .dataframe thead th {\n",
       "        text-align: right;\n",
       "    }\n",
       "</style>\n",
       "<table border=\"1\" class=\"dataframe\">\n",
       "  <thead>\n",
       "    <tr style=\"text-align: right;\">\n",
       "      <th></th>\n",
       "      <th>followers</th>\n",
       "    </tr>\n",
       "  </thead>\n",
       "  <tbody>\n",
       "    <tr>\n",
       "      <th>count</th>\n",
       "      <td>2058</td>\n",
       "    </tr>\n",
       "    <tr>\n",
       "      <th>mean</th>\n",
       "      <td>9100221</td>\n",
       "    </tr>\n",
       "    <tr>\n",
       "      <th>std</th>\n",
       "      <td>57</td>\n",
       "    </tr>\n",
       "    <tr>\n",
       "      <th>min</th>\n",
       "      <td>9100211</td>\n",
       "    </tr>\n",
       "    <tr>\n",
       "      <th>25%</th>\n",
       "      <td>9100213</td>\n",
       "    </tr>\n",
       "    <tr>\n",
       "      <th>50%</th>\n",
       "      <td>9100214</td>\n",
       "    </tr>\n",
       "    <tr>\n",
       "      <th>75%</th>\n",
       "      <td>9100215</td>\n",
       "    </tr>\n",
       "    <tr>\n",
       "      <th>max</th>\n",
       "      <td>9100680</td>\n",
       "    </tr>\n",
       "  </tbody>\n",
       "</table>\n",
       "</div>"
      ],
      "text/plain": [
       "       followers\n",
       "count       2058\n",
       "mean     9100221\n",
       "std           57\n",
       "min      9100211\n",
       "25%      9100213\n",
       "50%      9100214\n",
       "75%      9100215\n",
       "max      9100680"
      ]
     },
     "execution_count": 76,
     "metadata": {},
     "output_type": "execute_result"
    }
   ],
   "source": [
    "#creating a follower stats dataframe\n",
    "follower_stats = pd.DataFrame(master_data['followers'].describe())\n",
    "follower_stats = follower_stats.astype({'followers':'int'})\n",
    "follower_stats"
   ]
  },
  {
   "cell_type": "code",
   "execution_count": 77,
   "metadata": {},
   "outputs": [
    {
     "data": {
      "text/html": [
       "<div>\n",
       "<style scoped>\n",
       "    .dataframe tbody tr th:only-of-type {\n",
       "        vertical-align: middle;\n",
       "    }\n",
       "\n",
       "    .dataframe tbody tr th {\n",
       "        vertical-align: top;\n",
       "    }\n",
       "\n",
       "    .dataframe thead th {\n",
       "        text-align: right;\n",
       "    }\n",
       "</style>\n",
       "<table border=\"1\" class=\"dataframe\">\n",
       "  <thead>\n",
       "    <tr style=\"text-align: right;\">\n",
       "      <th></th>\n",
       "      <th>followers</th>\n",
       "    </tr>\n",
       "    <tr>\n",
       "      <th>year</th>\n",
       "      <th></th>\n",
       "    </tr>\n",
       "  </thead>\n",
       "  <tbody>\n",
       "    <tr>\n",
       "      <th>2015</th>\n",
       "      <td>9100223</td>\n",
       "    </tr>\n",
       "    <tr>\n",
       "      <th>2016</th>\n",
       "      <td>9100221</td>\n",
       "    </tr>\n",
       "    <tr>\n",
       "      <th>2017</th>\n",
       "      <td>9100219</td>\n",
       "    </tr>\n",
       "  </tbody>\n",
       "</table>\n",
       "</div>"
      ],
      "text/plain": [
       "      followers\n",
       "year           \n",
       "2015    9100223\n",
       "2016    9100221\n",
       "2017    9100219"
      ]
     },
     "execution_count": 77,
     "metadata": {},
     "output_type": "execute_result"
    }
   ],
   "source": [
    "#this is to check the average followership trends\n",
    "followership = pd.DataFrame(master_data.groupby('year').mean().followers)\n",
    "followership = followership.astype({'followers':'int'})\n",
    "followership"
   ]
  },
  {
   "cell_type": "markdown",
   "metadata": {},
   "source": [
    "### 2nd Insight"
   ]
  },
  {
   "cell_type": "code",
   "execution_count": 78,
   "metadata": {},
   "outputs": [
    {
     "data": {
      "text/plain": [
       "0.5943072317784263"
      ]
     },
     "execution_count": 78,
     "metadata": {},
     "output_type": "execute_result"
    }
   ],
   "source": [
    "master_data['first_confidence'].mean()"
   ]
  },
  {
   "cell_type": "code",
   "execution_count": 79,
   "metadata": {},
   "outputs": [
    {
     "data": {
      "text/plain": [
       "0.13476713329121126"
      ]
     },
     "execution_count": 79,
     "metadata": {},
     "output_type": "execute_result"
    }
   ],
   "source": [
    "master_data['second_confidence'].mean()"
   ]
  },
  {
   "cell_type": "code",
   "execution_count": 80,
   "metadata": {},
   "outputs": [
    {
     "data": {
      "text/plain": [
       "0.06041724126995674"
      ]
     },
     "execution_count": 80,
     "metadata": {},
     "output_type": "execute_result"
    }
   ],
   "source": [
    "master_data['third_confidence'].mean()"
   ]
  },
  {
   "cell_type": "code",
   "execution_count": 81,
   "metadata": {},
   "outputs": [
    {
     "data": {
      "text/plain": [
       "Golden_retriever      150\n",
       "Labrador_retriever     96\n",
       "Pembroke               88\n",
       "Chihuahua              81\n",
       "Pug                    57\n",
       "                     ... \n",
       "Dining_table            1\n",
       "Cliff                   1\n",
       "Wild_boar               1\n",
       "Giant_panda             1\n",
       "Cheetah                 1\n",
       "Name: first_prediction, Length: 378, dtype: int64"
      ]
     },
     "execution_count": 81,
     "metadata": {},
     "output_type": "execute_result"
    }
   ],
   "source": [
    "master_data['first_prediction'].value_counts()"
   ]
  },
  {
   "cell_type": "markdown",
   "metadata": {},
   "source": [
    "### 3rd Insight"
   ]
  },
  {
   "cell_type": "code",
   "execution_count": 82,
   "metadata": {},
   "outputs": [
    {
     "name": "stderr",
     "output_type": "stream",
     "text": [
      "<ipython-input-82-148351699687>:9: SettingWithCopyWarning: \n",
      "A value is trying to be set on a copy of a slice from a DataFrame\n",
      "\n",
      "See the caveats in the documentation: https://pandas.pydata.org/pandas-docs/stable/user_guide/indexing.html#returning-a-view-versus-a-copy\n",
      "  master_data['breed'][x] = 'Object'\n",
      "<ipython-input-82-148351699687>:7: SettingWithCopyWarning: \n",
      "A value is trying to be set on a copy of a slice from a DataFrame\n",
      "\n",
      "See the caveats in the documentation: https://pandas.pydata.org/pandas-docs/stable/user_guide/indexing.html#returning-a-view-versus-a-copy\n",
      "  master_data['breed'][x] = master_data['first_prediction'][y]\n"
     ]
    }
   ],
   "source": [
    "#Creating a new column to generate an insight. We will extract breeds from the first prediction and then convert non dogs prediction to objects\n",
    "master_data['breed'] = master_data['first_prediction'][0]\n",
    "x=0\n",
    "y=0\n",
    "for dog in master_data['first_dog']:\n",
    "    if dog == True:\n",
    "        master_data['breed'][x] = master_data['first_prediction'][y]\n",
    "    else:\n",
    "        master_data['breed'][x] = 'Object'\n",
    "    x += 1\n",
    "    y += 1"
   ]
  },
  {
   "cell_type": "code",
   "execution_count": 83,
   "metadata": {},
   "outputs": [
    {
     "data": {
      "text/html": [
       "<div>\n",
       "<style scoped>\n",
       "    .dataframe tbody tr th:only-of-type {\n",
       "        vertical-align: middle;\n",
       "    }\n",
       "\n",
       "    .dataframe tbody tr th {\n",
       "        vertical-align: top;\n",
       "    }\n",
       "\n",
       "    .dataframe thead th {\n",
       "        text-align: right;\n",
       "    }\n",
       "</style>\n",
       "<table border=\"1\" class=\"dataframe\">\n",
       "  <thead>\n",
       "    <tr style=\"text-align: right;\">\n",
       "      <th></th>\n",
       "      <th>tweet_id</th>\n",
       "      <th>user</th>\n",
       "      <th>retweet_count</th>\n",
       "      <th>favorite_count</th>\n",
       "      <th>followers</th>\n",
       "      <th>followership</th>\n",
       "      <th>jpg_url</th>\n",
       "      <th>first_prediction</th>\n",
       "      <th>first_confidence</th>\n",
       "      <th>first_dog</th>\n",
       "      <th>...</th>\n",
       "      <th>third_prediction</th>\n",
       "      <th>third_confidence</th>\n",
       "      <th>third_dog</th>\n",
       "      <th>timestamp</th>\n",
       "      <th>source</th>\n",
       "      <th>text</th>\n",
       "      <th>name</th>\n",
       "      <th>year</th>\n",
       "      <th>dog_stages</th>\n",
       "      <th>breed</th>\n",
       "    </tr>\n",
       "  </thead>\n",
       "  <tbody>\n",
       "    <tr>\n",
       "      <th>0</th>\n",
       "      <td>892420643555336193</td>\n",
       "      <td>{'id': 4196983835, 'id_str': '4196983835', 'na...</td>\n",
       "      <td>7142</td>\n",
       "      <td>34362</td>\n",
       "      <td>9100211</td>\n",
       "      <td>NaN</td>\n",
       "      <td>https://pbs.twimg.com/media/DGKD1-bXoAAIAUK.jpg</td>\n",
       "      <td>Orange</td>\n",
       "      <td>0.097049</td>\n",
       "      <td>False</td>\n",
       "      <td>...</td>\n",
       "      <td>Banana</td>\n",
       "      <td>0.076110</td>\n",
       "      <td>False</td>\n",
       "      <td>2017-08-01 16:23:56+00:00</td>\n",
       "      <td>&lt;a href=\"http://twitter.com/download/iphone\" r...</td>\n",
       "      <td>This is Phineas. He's a mystical boy. Only eve...</td>\n",
       "      <td>Phineas</td>\n",
       "      <td>2017</td>\n",
       "      <td></td>\n",
       "      <td>Object</td>\n",
       "    </tr>\n",
       "    <tr>\n",
       "      <th>1</th>\n",
       "      <td>892177421306343426</td>\n",
       "      <td>{'id': 4196983835, 'id_str': '4196983835', 'na...</td>\n",
       "      <td>5374</td>\n",
       "      <td>29787</td>\n",
       "      <td>9100211</td>\n",
       "      <td>NaN</td>\n",
       "      <td>https://pbs.twimg.com/media/DGGmoV4XsAAUL6n.jpg</td>\n",
       "      <td>Chihuahua</td>\n",
       "      <td>0.323581</td>\n",
       "      <td>True</td>\n",
       "      <td>...</td>\n",
       "      <td>Papillon</td>\n",
       "      <td>0.068957</td>\n",
       "      <td>True</td>\n",
       "      <td>2017-08-01 00:17:27+00:00</td>\n",
       "      <td>&lt;a href=\"http://twitter.com/download/iphone\" r...</td>\n",
       "      <td>This is Tilly. She's just checking pup on you....</td>\n",
       "      <td>Tilly</td>\n",
       "      <td>2017</td>\n",
       "      <td></td>\n",
       "      <td>Chihuahua</td>\n",
       "    </tr>\n",
       "    <tr>\n",
       "      <th>2</th>\n",
       "      <td>891815181378084864</td>\n",
       "      <td>{'id': 4196983835, 'id_str': '4196983835', 'na...</td>\n",
       "      <td>3541</td>\n",
       "      <td>22415</td>\n",
       "      <td>9100211</td>\n",
       "      <td>NaN</td>\n",
       "      <td>https://pbs.twimg.com/media/DGBdLU1WsAANxJ9.jpg</td>\n",
       "      <td>Chihuahua</td>\n",
       "      <td>0.716012</td>\n",
       "      <td>True</td>\n",
       "      <td>...</td>\n",
       "      <td>Kelpie</td>\n",
       "      <td>0.031379</td>\n",
       "      <td>True</td>\n",
       "      <td>2017-07-31 00:18:03+00:00</td>\n",
       "      <td>&lt;a href=\"http://twitter.com/download/iphone\" r...</td>\n",
       "      <td>This is Archie. He is a rare Norwegian Pouncin...</td>\n",
       "      <td>Archie</td>\n",
       "      <td>2017</td>\n",
       "      <td></td>\n",
       "      <td>Chihuahua</td>\n",
       "    </tr>\n",
       "    <tr>\n",
       "      <th>3</th>\n",
       "      <td>891689557279858688</td>\n",
       "      <td>{'id': 4196983835, 'id_str': '4196983835', 'na...</td>\n",
       "      <td>7343</td>\n",
       "      <td>37543</td>\n",
       "      <td>9100211</td>\n",
       "      <td>NaN</td>\n",
       "      <td>https://pbs.twimg.com/media/DF_q7IAWsAEuuN8.jpg</td>\n",
       "      <td>Paper_towel</td>\n",
       "      <td>0.170278</td>\n",
       "      <td>False</td>\n",
       "      <td>...</td>\n",
       "      <td>Spatula</td>\n",
       "      <td>0.040836</td>\n",
       "      <td>False</td>\n",
       "      <td>2017-07-30 15:58:51+00:00</td>\n",
       "      <td>&lt;a href=\"http://twitter.com/download/iphone\" r...</td>\n",
       "      <td>This is Darla. She commenced a snooze mid meal...</td>\n",
       "      <td>Darla</td>\n",
       "      <td>2017</td>\n",
       "      <td></td>\n",
       "      <td>Object</td>\n",
       "    </tr>\n",
       "    <tr>\n",
       "      <th>4</th>\n",
       "      <td>891327558926688256</td>\n",
       "      <td>{'id': 4196983835, 'id_str': '4196983835', 'na...</td>\n",
       "      <td>7888</td>\n",
       "      <td>35863</td>\n",
       "      <td>9100211</td>\n",
       "      <td>NaN</td>\n",
       "      <td>https://pbs.twimg.com/media/DF6hr6BUMAAzZgT.jpg</td>\n",
       "      <td>Basset</td>\n",
       "      <td>0.555712</td>\n",
       "      <td>True</td>\n",
       "      <td>...</td>\n",
       "      <td>German_short-haired_pointer</td>\n",
       "      <td>0.175219</td>\n",
       "      <td>True</td>\n",
       "      <td>2017-07-29 16:00:24+00:00</td>\n",
       "      <td>&lt;a href=\"http://twitter.com/download/iphone\" r...</td>\n",
       "      <td>This is Franklin. He would like you to stop ca...</td>\n",
       "      <td>Franklin</td>\n",
       "      <td>2017</td>\n",
       "      <td></td>\n",
       "      <td>Basset</td>\n",
       "    </tr>\n",
       "  </tbody>\n",
       "</table>\n",
       "<p>5 rows × 23 columns</p>\n",
       "</div>"
      ],
      "text/plain": [
       "             tweet_id                                               user  \\\n",
       "0  892420643555336193  {'id': 4196983835, 'id_str': '4196983835', 'na...   \n",
       "1  892177421306343426  {'id': 4196983835, 'id_str': '4196983835', 'na...   \n",
       "2  891815181378084864  {'id': 4196983835, 'id_str': '4196983835', 'na...   \n",
       "3  891689557279858688  {'id': 4196983835, 'id_str': '4196983835', 'na...   \n",
       "4  891327558926688256  {'id': 4196983835, 'id_str': '4196983835', 'na...   \n",
       "\n",
       "   retweet_count  favorite_count  followers followership  \\\n",
       "0           7142           34362    9100211          NaN   \n",
       "1           5374           29787    9100211          NaN   \n",
       "2           3541           22415    9100211          NaN   \n",
       "3           7343           37543    9100211          NaN   \n",
       "4           7888           35863    9100211          NaN   \n",
       "\n",
       "                                           jpg_url first_prediction  \\\n",
       "0  https://pbs.twimg.com/media/DGKD1-bXoAAIAUK.jpg           Orange   \n",
       "1  https://pbs.twimg.com/media/DGGmoV4XsAAUL6n.jpg        Chihuahua   \n",
       "2  https://pbs.twimg.com/media/DGBdLU1WsAANxJ9.jpg        Chihuahua   \n",
       "3  https://pbs.twimg.com/media/DF_q7IAWsAEuuN8.jpg      Paper_towel   \n",
       "4  https://pbs.twimg.com/media/DF6hr6BUMAAzZgT.jpg           Basset   \n",
       "\n",
       "   first_confidence  first_dog  ...             third_prediction  \\\n",
       "0          0.097049      False  ...                       Banana   \n",
       "1          0.323581       True  ...                     Papillon   \n",
       "2          0.716012       True  ...                       Kelpie   \n",
       "3          0.170278      False  ...                      Spatula   \n",
       "4          0.555712       True  ...  German_short-haired_pointer   \n",
       "\n",
       "   third_confidence  third_dog                 timestamp  \\\n",
       "0          0.076110      False 2017-08-01 16:23:56+00:00   \n",
       "1          0.068957       True 2017-08-01 00:17:27+00:00   \n",
       "2          0.031379       True 2017-07-31 00:18:03+00:00   \n",
       "3          0.040836      False 2017-07-30 15:58:51+00:00   \n",
       "4          0.175219       True 2017-07-29 16:00:24+00:00   \n",
       "\n",
       "                                              source  \\\n",
       "0  <a href=\"http://twitter.com/download/iphone\" r...   \n",
       "1  <a href=\"http://twitter.com/download/iphone\" r...   \n",
       "2  <a href=\"http://twitter.com/download/iphone\" r...   \n",
       "3  <a href=\"http://twitter.com/download/iphone\" r...   \n",
       "4  <a href=\"http://twitter.com/download/iphone\" r...   \n",
       "\n",
       "                                                text      name  year  \\\n",
       "0  This is Phineas. He's a mystical boy. Only eve...   Phineas  2017   \n",
       "1  This is Tilly. She's just checking pup on you....     Tilly  2017   \n",
       "2  This is Archie. He is a rare Norwegian Pouncin...    Archie  2017   \n",
       "3  This is Darla. She commenced a snooze mid meal...     Darla  2017   \n",
       "4  This is Franklin. He would like you to stop ca...  Franklin  2017   \n",
       "\n",
       "  dog_stages      breed  \n",
       "0                Object  \n",
       "1             Chihuahua  \n",
       "2             Chihuahua  \n",
       "3                Object  \n",
       "4                Basset  \n",
       "\n",
       "[5 rows x 23 columns]"
      ]
     },
     "execution_count": 83,
     "metadata": {},
     "output_type": "execute_result"
    }
   ],
   "source": [
    "master_data.head(5)"
   ]
  },
  {
   "cell_type": "code",
   "execution_count": 84,
   "metadata": {},
   "outputs": [
    {
     "data": {
      "text/plain": [
       "0                       Object\n",
       "1                    Chihuahua\n",
       "2                    Chihuahua\n",
       "3                       Object\n",
       "4                       Basset\n",
       "                 ...          \n",
       "2053        Miniature_pinscher\n",
       "2054       Rhodesian_ridgeback\n",
       "2055           German_shepherd\n",
       "2056                   Redbone\n",
       "2057    Welsh_springer_spaniel\n",
       "Name: breed, Length: 2058, dtype: object"
      ]
     },
     "execution_count": 84,
     "metadata": {},
     "output_type": "execute_result"
    }
   ],
   "source": [
    "master_data['breed']"
   ]
  },
  {
   "cell_type": "code",
   "execution_count": 85,
   "metadata": {},
   "outputs": [
    {
     "name": "stderr",
     "output_type": "stream",
     "text": [
      "<ipython-input-85-1e9d04cd6a2b>:1: FutureWarning: Indexing with multiple keys (implicitly converted to a tuple of keys) will be deprecated, use a list instead.\n",
      "  popularity_stat = pd.DataFrame(master_data.groupby('breed')['retweet_count', 'favorite_count'].mean())\n"
     ]
    }
   ],
   "source": [
    "popularity_stat = pd.DataFrame(master_data.groupby('breed')['retweet_count', 'favorite_count'].mean())"
   ]
  },
  {
   "cell_type": "code",
   "execution_count": 86,
   "metadata": {},
   "outputs": [
    {
     "data": {
      "text/plain": [
       "retweet_count      9217.75\n",
       "favorite_count    21143.75\n",
       "dtype: float64"
      ]
     },
     "execution_count": 86,
     "metadata": {},
     "output_type": "execute_result"
    }
   ],
   "source": [
    "#getting the max retweet and favorite count\n",
    "popularity_stat.max()"
   ]
  },
  {
   "cell_type": "code",
   "execution_count": 87,
   "metadata": {},
   "outputs": [
    {
     "data": {
      "text/html": [
       "<div>\n",
       "<style scoped>\n",
       "    .dataframe tbody tr th:only-of-type {\n",
       "        vertical-align: middle;\n",
       "    }\n",
       "\n",
       "    .dataframe tbody tr th {\n",
       "        vertical-align: top;\n",
       "    }\n",
       "\n",
       "    .dataframe thead th {\n",
       "        text-align: right;\n",
       "    }\n",
       "</style>\n",
       "<table border=\"1\" class=\"dataframe\">\n",
       "  <thead>\n",
       "    <tr style=\"text-align: right;\">\n",
       "      <th></th>\n",
       "      <th>retweet_count</th>\n",
       "      <th>favorite_count</th>\n",
       "    </tr>\n",
       "    <tr>\n",
       "      <th>breed</th>\n",
       "      <th></th>\n",
       "      <th></th>\n",
       "    </tr>\n",
       "  </thead>\n",
       "  <tbody>\n",
       "    <tr>\n",
       "      <th>Standard_poodle</th>\n",
       "      <td>9217.75</td>\n",
       "      <td>12115.875</td>\n",
       "    </tr>\n",
       "  </tbody>\n",
       "</table>\n",
       "</div>"
      ],
      "text/plain": [
       "                 retweet_count  favorite_count\n",
       "breed                                         \n",
       "Standard_poodle        9217.75       12115.875"
      ]
     },
     "execution_count": 87,
     "metadata": {},
     "output_type": "execute_result"
    }
   ],
   "source": [
    "#breed from max retweet count\n",
    "popularity_stat.query('retweet_count == 9217.75')"
   ]
  },
  {
   "cell_type": "code",
   "execution_count": 88,
   "metadata": {},
   "outputs": [
    {
     "data": {
      "text/html": [
       "<div>\n",
       "<style scoped>\n",
       "    .dataframe tbody tr th:only-of-type {\n",
       "        vertical-align: middle;\n",
       "    }\n",
       "\n",
       "    .dataframe tbody tr th {\n",
       "        vertical-align: top;\n",
       "    }\n",
       "\n",
       "    .dataframe thead th {\n",
       "        text-align: right;\n",
       "    }\n",
       "</style>\n",
       "<table border=\"1\" class=\"dataframe\">\n",
       "  <thead>\n",
       "    <tr style=\"text-align: right;\">\n",
       "      <th></th>\n",
       "      <th>retweet_count</th>\n",
       "      <th>favorite_count</th>\n",
       "    </tr>\n",
       "    <tr>\n",
       "      <th>breed</th>\n",
       "      <th></th>\n",
       "      <th></th>\n",
       "    </tr>\n",
       "  </thead>\n",
       "  <tbody>\n",
       "    <tr>\n",
       "      <th>Saluki</th>\n",
       "      <td>4208.5</td>\n",
       "      <td>21143.75</td>\n",
       "    </tr>\n",
       "  </tbody>\n",
       "</table>\n",
       "</div>"
      ],
      "text/plain": [
       "        retweet_count  favorite_count\n",
       "breed                                \n",
       "Saluki         4208.5        21143.75"
      ]
     },
     "execution_count": 88,
     "metadata": {},
     "output_type": "execute_result"
    }
   ],
   "source": [
    "#breed from max favorite count\n",
    "popularity_stat.query('favorite_count == 21143.75')"
   ]
  },
  {
   "cell_type": "markdown",
   "metadata": {},
   "source": [
    "### Insights:\n",
    "1. Over the years, WeRateDogs followership hasn't seen significant variation but it had the highest followership in 2015\n",
    "\n",
    "2. Out of all the confidences, first_confidence had the highest mean. Therefore we look at the first prediciton for insights. We saw that the golden retrievers, labrador retreiver and pembroke breeds are the most popular breeds when it comes to tweets by WeRateDogs\n",
    "\n",
    "3. Saluki & Standard Poodle are popular among the followers based on the retweet and favorite counts against breeds"
   ]
  },
  {
   "cell_type": "markdown",
   "metadata": {},
   "source": [
    "### Visualization"
   ]
  },
  {
   "cell_type": "markdown",
   "metadata": {},
   "source": [
    "### Faollower Engagement via favorites in each year"
   ]
  },
  {
   "cell_type": "code",
   "execution_count": 89,
   "metadata": {},
   "outputs": [
    {
     "data": {
      "image/png": "[encoded data removed]",
      "text/plain": [
       "<Figure size 1296x504 with 1 Axes>"
      ]
     },
     "metadata": {
      "needs_background": "light"
     },
     "output_type": "display_data"
    }
   ],
   "source": [
    "###Follower engagement via favorites\n",
    "plt.figure(figsize = (18,7))\n",
    "tweet_favorite = sns.barplot(x = master_data['year'],\n",
    "                 y = master_data['favorite_count'], data = master_data)\n",
    "tweet_favorite.set_xticklabels(tweet_favorite.get_xticklabels(),rotation = 90, fontsize = 13);\n",
    "plt.title('Follower engagement via Favorites', fontsize = 20)\n",
    "plt.xlabel(\"Year\",fontsize = 18);\n",
    "plt.ylabel(\"Favorite\",fontsize = 18);"
   ]
  },
  {
   "cell_type": "markdown",
   "metadata": {},
   "source": [
    "### Follower engagement via retweet in each year "
   ]
  },
  {
   "cell_type": "code",
   "execution_count": 90,
   "metadata": {},
   "outputs": [
    {
     "data": {
      "image/png": "[encoded data removed]",
      "text/plain": [
       "<Figure size 1296x504 with 1 Axes>"
      ]
     },
     "metadata": {
      "needs_background": "light"
     },
     "output_type": "display_data"
    }
   ],
   "source": [
    "###Follower Engagement via Retweet\n",
    "plt.figure(figsize = (18,7))\n",
    "tweet_favorite = sns.barplot(x = master_data['year'],\n",
    "                 y = master_data['retweet_count'], data = master_data)\n",
    "tweet_favorite.set_xticklabels(tweet_favorite.get_xticklabels(),rotation = 90, fontsize = 13);\n",
    "plt.title('Follower engagement via Retweet', fontsize = 20)\n",
    "plt.xlabel(\"Year\",fontsize = 18);\n",
    "plt.ylabel(\"Retweet\",fontsize = 18);"
   ]
  },
  {
   "cell_type": "markdown",
   "metadata": {},
   "source": [
    "### Popular breeds in each year based on predictions"
   ]
  },
  {
   "cell_type": "code",
   "execution_count": 91,
   "metadata": {},
   "outputs": [
    {
     "data": {
      "text/plain": [
       "year  breed                         \n",
       "2015  Airedale                          6\n",
       "      American_staffordshire_terrier    3\n",
       "      Basenji                           3\n",
       "      Basset                            5\n",
       "      Beagle                            9\n",
       "                                       ..\n",
       "2017  Vizsla                            2\n",
       "      Weimaraner                        2\n",
       "      West_highland_white_terrier       3\n",
       "      Whippet                           3\n",
       "      Yorkshire_terrier                 1\n",
       "Name: retweet_count, Length: 282, dtype: int64"
      ]
     },
     "execution_count": 91,
     "metadata": {},
     "output_type": "execute_result"
    }
   ],
   "source": [
    "master_data.groupby(['year','breed']).count().retweet_count"
   ]
  },
  {
   "cell_type": "code",
   "execution_count": 92,
   "metadata": {},
   "outputs": [],
   "source": [
    "#creating dataframe for 2017\n",
    "c =master_data['breed'].groupby(master_data['year'][0:377]).value_counts()[1:4]"
   ]
  },
  {
   "cell_type": "code",
   "execution_count": 93,
   "metadata": {},
   "outputs": [
    {
     "data": {
      "text/html": [
       "<div>\n",
       "<style scoped>\n",
       "    .dataframe tbody tr th:only-of-type {\n",
       "        vertical-align: middle;\n",
       "    }\n",
       "\n",
       "    .dataframe tbody tr th {\n",
       "        vertical-align: top;\n",
       "    }\n",
       "\n",
       "    .dataframe thead th {\n",
       "        text-align: right;\n",
       "    }\n",
       "</style>\n",
       "<table border=\"1\" class=\"dataframe\">\n",
       "  <thead>\n",
       "    <tr style=\"text-align: right;\">\n",
       "      <th></th>\n",
       "      <th></th>\n",
       "      <th>breed</th>\n",
       "    </tr>\n",
       "    <tr>\n",
       "      <th>year</th>\n",
       "      <th>breed</th>\n",
       "      <th></th>\n",
       "    </tr>\n",
       "  </thead>\n",
       "  <tbody>\n",
       "    <tr>\n",
       "      <th rowspan=\"3\" valign=\"top\">2017.0</th>\n",
       "      <th>Golden_retriever</th>\n",
       "      <td>33</td>\n",
       "    </tr>\n",
       "    <tr>\n",
       "      <th>Pembroke</th>\n",
       "      <td>22</td>\n",
       "    </tr>\n",
       "    <tr>\n",
       "      <th>Labrador_retriever</th>\n",
       "      <td>20</td>\n",
       "    </tr>\n",
       "  </tbody>\n",
       "</table>\n",
       "</div>"
      ],
      "text/plain": [
       "                           breed\n",
       "year   breed                    \n",
       "2017.0 Golden_retriever       33\n",
       "       Pembroke               22\n",
       "       Labrador_retriever     20"
      ]
     },
     "execution_count": 93,
     "metadata": {},
     "output_type": "execute_result"
    }
   ],
   "source": [
    "c.to_frame()"
   ]
  },
  {
   "cell_type": "code",
   "execution_count": 94,
   "metadata": {},
   "outputs": [],
   "source": [
    "#creating dataframe for 2016\n",
    "d =master_data['breed'].groupby(master_data['year'][388:664]).value_counts()[1:4]"
   ]
  },
  {
   "cell_type": "code",
   "execution_count": 95,
   "metadata": {},
   "outputs": [
    {
     "data": {
      "text/html": [
       "<div>\n",
       "<style scoped>\n",
       "    .dataframe tbody tr th:only-of-type {\n",
       "        vertical-align: middle;\n",
       "    }\n",
       "\n",
       "    .dataframe tbody tr th {\n",
       "        vertical-align: top;\n",
       "    }\n",
       "\n",
       "    .dataframe thead th {\n",
       "        text-align: right;\n",
       "    }\n",
       "</style>\n",
       "<table border=\"1\" class=\"dataframe\">\n",
       "  <thead>\n",
       "    <tr style=\"text-align: right;\">\n",
       "      <th></th>\n",
       "      <th></th>\n",
       "      <th>breed</th>\n",
       "    </tr>\n",
       "    <tr>\n",
       "      <th>year</th>\n",
       "      <th>breed</th>\n",
       "      <th></th>\n",
       "    </tr>\n",
       "  </thead>\n",
       "  <tbody>\n",
       "    <tr>\n",
       "      <th rowspan=\"3\" valign=\"top\">2016.0</th>\n",
       "      <th>Golden_retriever</th>\n",
       "      <td>33</td>\n",
       "    </tr>\n",
       "    <tr>\n",
       "      <th>Chow</th>\n",
       "      <td>15</td>\n",
       "    </tr>\n",
       "    <tr>\n",
       "      <th>Labrador_retriever</th>\n",
       "      <td>15</td>\n",
       "    </tr>\n",
       "  </tbody>\n",
       "</table>\n",
       "</div>"
      ],
      "text/plain": [
       "                           breed\n",
       "year   breed                    \n",
       "2016.0 Golden_retriever       33\n",
       "       Chow                   15\n",
       "       Labrador_retriever     15"
      ]
     },
     "execution_count": 95,
     "metadata": {},
     "output_type": "execute_result"
    }
   ],
   "source": [
    "d.to_frame()"
   ]
  },
  {
   "cell_type": "code",
   "execution_count": 96,
   "metadata": {},
   "outputs": [
    {
     "data": {
      "text/html": [
       "<div>\n",
       "<style scoped>\n",
       "    .dataframe tbody tr th:only-of-type {\n",
       "        vertical-align: middle;\n",
       "    }\n",
       "\n",
       "    .dataframe tbody tr th {\n",
       "        vertical-align: top;\n",
       "    }\n",
       "\n",
       "    .dataframe thead th {\n",
       "        text-align: right;\n",
       "    }\n",
       "</style>\n",
       "<table border=\"1\" class=\"dataframe\">\n",
       "  <thead>\n",
       "    <tr style=\"text-align: right;\">\n",
       "      <th></th>\n",
       "      <th></th>\n",
       "      <th>breed</th>\n",
       "    </tr>\n",
       "    <tr>\n",
       "      <th>year</th>\n",
       "      <th>breed</th>\n",
       "      <th></th>\n",
       "    </tr>\n",
       "  </thead>\n",
       "  <tbody>\n",
       "    <tr>\n",
       "      <th rowspan=\"3\" valign=\"top\">2015.0</th>\n",
       "      <th>Chihuahua</th>\n",
       "      <td>35</td>\n",
       "    </tr>\n",
       "    <tr>\n",
       "      <th>Golden_retriever</th>\n",
       "      <td>26</td>\n",
       "    </tr>\n",
       "    <tr>\n",
       "      <th>Labrador_retriever</th>\n",
       "      <td>26</td>\n",
       "    </tr>\n",
       "  </tbody>\n",
       "</table>\n",
       "</div>"
      ],
      "text/plain": [
       "                           breed\n",
       "year   breed                    \n",
       "2015.0 Chihuahua              35\n",
       "       Golden_retriever       26\n",
       "       Labrador_retriever     26"
      ]
     },
     "execution_count": 96,
     "metadata": {},
     "output_type": "execute_result"
    }
   ],
   "source": [
    "#creating dataframe for 2015\n",
    "e = master_data['breed'].groupby(master_data['year'][665:]).value_counts()[1:4]\n",
    "e.to_frame()"
   ]
  },
  {
   "cell_type": "code",
   "execution_count": 97,
   "metadata": {},
   "outputs": [
    {
     "data": {
      "text/html": [
       "<div>\n",
       "<style scoped>\n",
       "    .dataframe tbody tr th:only-of-type {\n",
       "        vertical-align: middle;\n",
       "    }\n",
       "\n",
       "    .dataframe tbody tr th {\n",
       "        vertical-align: top;\n",
       "    }\n",
       "\n",
       "    .dataframe thead th {\n",
       "        text-align: right;\n",
       "    }\n",
       "</style>\n",
       "<table border=\"1\" class=\"dataframe\">\n",
       "  <thead>\n",
       "    <tr style=\"text-align: right;\">\n",
       "      <th></th>\n",
       "      <th></th>\n",
       "      <th>breed</th>\n",
       "    </tr>\n",
       "    <tr>\n",
       "      <th>year</th>\n",
       "      <th>breed</th>\n",
       "      <th></th>\n",
       "    </tr>\n",
       "  </thead>\n",
       "  <tbody>\n",
       "    <tr>\n",
       "      <th rowspan=\"3\" valign=\"top\">2015.0</th>\n",
       "      <th>Chihuahua</th>\n",
       "      <td>35</td>\n",
       "    </tr>\n",
       "    <tr>\n",
       "      <th>Golden_retriever</th>\n",
       "      <td>26</td>\n",
       "    </tr>\n",
       "    <tr>\n",
       "      <th>Labrador_retriever</th>\n",
       "      <td>26</td>\n",
       "    </tr>\n",
       "    <tr>\n",
       "      <th rowspan=\"3\" valign=\"top\">2016.0</th>\n",
       "      <th>Golden_retriever</th>\n",
       "      <td>33</td>\n",
       "    </tr>\n",
       "    <tr>\n",
       "      <th>Chow</th>\n",
       "      <td>15</td>\n",
       "    </tr>\n",
       "    <tr>\n",
       "      <th>Labrador_retriever</th>\n",
       "      <td>15</td>\n",
       "    </tr>\n",
       "    <tr>\n",
       "      <th rowspan=\"3\" valign=\"top\">2017.0</th>\n",
       "      <th>Golden_retriever</th>\n",
       "      <td>33</td>\n",
       "    </tr>\n",
       "    <tr>\n",
       "      <th>Pembroke</th>\n",
       "      <td>22</td>\n",
       "    </tr>\n",
       "    <tr>\n",
       "      <th>Labrador_retriever</th>\n",
       "      <td>20</td>\n",
       "    </tr>\n",
       "  </tbody>\n",
       "</table>\n",
       "</div>"
      ],
      "text/plain": [
       "                           breed\n",
       "year   breed                    \n",
       "2015.0 Chihuahua              35\n",
       "       Golden_retriever       26\n",
       "       Labrador_retriever     26\n",
       "2016.0 Golden_retriever       33\n",
       "       Chow                   15\n",
       "       Labrador_retriever     15\n",
       "2017.0 Golden_retriever       33\n",
       "       Pembroke               22\n",
       "       Labrador_retriever     20"
      ]
     },
     "execution_count": 97,
     "metadata": {},
     "output_type": "execute_result"
    }
   ],
   "source": [
    "#concating to all the dataframes\n",
    "popular_dogs = pd.concat([e,d,c])\n",
    "popular_dogs.to_frame()"
   ]
  },
  {
   "cell_type": "code",
   "execution_count": 98,
   "metadata": {},
   "outputs": [
    {
     "data": {
      "text/plain": [
       "Text(0, 0.5, 'Prediction Count')"
      ]
     },
     "execution_count": 98,
     "metadata": {},
     "output_type": "execute_result"
    },
    {
     "data": {
      "image/png": "[encoded data removed]",
      "text/plain": [
       "<Figure size 1296x504 with 1 Axes>"
      ]
     },
     "metadata": {
      "needs_background": "light"
     },
     "output_type": "display_data"
    }
   ],
   "source": [
    "popular_dogs.plot(x='year', y= 'breed', kind = 'bar', figsize = (18,7),\n",
    "                 title = 'Popularity of Breeds by Year')\n",
    "plt.xlabel(\"Breeds\",fontsize = 18)\n",
    "plt.ylabel(\"Prediction Count\",fontsize = 18)"
   ]
  }
 ],
 "metadata": {
  "kernelspec": {
   "display_name": "Python 3",
   "language": "python",
   "name": "python3"
  },
  "language_info": {
   "codemirror_mode": {
    "name": "ipython",
    "version": 3
   },
   "file_extension": ".py",
   "mimetype": "text/x-python",
   "name": "python",
   "nbconvert_exporter": "python",
   "pygments_lexer": "ipython3",
   "version": "3.8.5"
  },
  "toc": {
   "base_numbering": 1,
   "nav_menu": {},
   "number_sections": true,
   "sideBar": true,
   "skip_h1_title": false,
   "title_cell": "Table of Contents",
   "title_sidebar": "Contents",
   "toc_cell": false,
   "toc_position": {
    "height": "calc(100% - 180px)",
    "left": "10px",
    "top": "150px",
    "width": "174.3020782470703px"
   },
   "toc_section_display": true,
   "toc_window_display": true
  }
 },
 "nbformat": 4,
 "nbformat_minor": 4
}
