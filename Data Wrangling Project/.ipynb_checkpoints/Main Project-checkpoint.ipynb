{
 "cells": [
  {
   "cell_type": "markdown",
   "metadata": {},
   "source": [
    "# Project: Wrangling and Analyze Data"
   ]
  },
  {
   "cell_type": "markdown",
   "metadata": {},
   "source": [
    "## Data Gathering\n",
    "In the cell below, gather **all** three pieces of data for this project and load them in the notebook. **Note:** the methods required to gather each data are different.\n",
    "1. Directly download the WeRateDogs Twitter archive data (twitter_archive_enhanced.csv)"
   ]
  },
  {
   "cell_type": "code",
   "execution_count": 75,
   "metadata": {},
   "outputs": [],
   "source": [
    "import pandas as pd \n",
    "import numpy as np \n",
    "import requests\n",
    "import tweepy\n",
    "from timeit import default_timer as timer\n",
    "import json"
   ]
  },
  {
   "cell_type": "code",
   "execution_count": 84,
   "metadata": {},
   "outputs": [],
   "source": [
    "archive_enhanced = pd.read_csv('twitter-archive-enhanced.csv')"
   ]
  },
  {
   "cell_type": "markdown",
   "metadata": {},
   "source": [
    "2. Use the Requests library to download the tweet image prediction (image_predictions.tsv)"
   ]
  },
  {
   "cell_type": "code",
   "execution_count": 80,
   "metadata": {},
   "outputs": [
    {
     "name": "stdout",
     "output_type": "stream",
     "text": [
      "<Response [200]>\n"
     ]
    }
   ],
   "source": [
    "url = 'https://d17h27t6h515a5.cloudfront.net/topher/2017/August/599fd2ad_image-predictions/image-predictions.tsv'\n",
    "response = requests.get(url)\n",
    "print(response)\n",
    "with open (\"img-pred.tsv\", 'w') as file:\n",
    "    file.write(response.text)"
   ]
  },
  {
   "cell_type": "code",
   "execution_count": 81,
   "metadata": {},
   "outputs": [],
   "source": [
    "#reading the tsv content received from the above url \n",
    "img_pred = pd.read_csv('img-pred.tsv', sep = '\\t')"
   ]
  },
  {
   "cell_type": "code",
   "execution_count": null,
   "metadata": {},
   "outputs": [],
   "source": [
    "#########################"
   ]
  },
  {
   "cell_type": "code",
   "execution_count": null,
   "metadata": {},
   "outputs": [],
   "source": [
    "tweet_id = archive_enhanced['tweet_id']"
   ]
  },
  {
   "cell_type": "code",
   "execution_count": 30,
   "metadata": {},
   "outputs": [
    {
     "data": {
      "text/plain": [
       "array([892420643555336193, 892177421306343426, 891815181378084864, ...,\n",
       "       666033412701032449, 666029285002620928, 666020888022790149])"
      ]
     },
     "execution_count": 30,
     "metadata": {},
     "output_type": "execute_result"
    }
   ],
   "source": [
    "archive_enhanced.tweet_id.values"
   ]
  },
  {
   "cell_type": "code",
   "execution_count": 21,
   "metadata": {},
   "outputs": [
    {
     "data": {
      "text/plain": [
       "pandas.core.series.Series"
      ]
     },
     "execution_count": 21,
     "metadata": {},
     "output_type": "execute_result"
    }
   ],
   "source": [
    "type(tweet_id)"
   ]
  },
  {
   "cell_type": "code",
   "execution_count": 22,
   "metadata": {},
   "outputs": [],
   "source": [
    "r= requests.get(url)"
   ]
  },
  {
   "cell_type": "code",
   "execution_count": 23,
   "metadata": {},
   "outputs": [],
   "source": [
    "\n",
    "\n",
    "auth = tweepy.OAuthHandler(consumer_key, consumer_secret)\n",
    "auth.set_access_token(access_token, access_secret)\n",
    "\n",
    "api = tweepy.API(auth, wait_on_rate_limit=True)"
   ]
  },
  {
   "cell_type": "markdown",
   "metadata": {},
   "source": [
    "3. Use the Tweepy library to query additional data via the Twitter API (tweet_json.txt)"
   ]
  },
  {
   "cell_type": "code",
   "execution_count": 24,
   "metadata": {},
   "outputs": [],
   "source": [
    "#testing api pull for one tweet\n",
    "start = timer()\n",
    "tweet = api.get_status(892420643555336193)\n",
    "tweet\n",
    "end = timer()\n",
    "time = end - start"
   ]
  },
  {
   "cell_type": "code",
   "execution_count": 25,
   "metadata": {},
   "outputs": [
    {
     "data": {
      "text/plain": [
       "0.26780604099985794"
      ]
     },
     "execution_count": 25,
     "metadata": {},
     "output_type": "execute_result"
    }
   ],
   "source": [
    "time"
   ]
  },
  {
   "cell_type": "code",
   "execution_count": 26,
   "metadata": {},
   "outputs": [
    {
     "data": {
      "text/plain": [
       "tweepy.models.Status"
      ]
     },
     "execution_count": 26,
     "metadata": {},
     "output_type": "execute_result"
    }
   ],
   "source": [
    "type(tweet)"
   ]
  },
  {
   "cell_type": "code",
   "execution_count": 27,
   "metadata": {},
   "outputs": [],
   "source": [
    "j = json.dumps(tweet._json)"
   ]
  },
  {
   "cell_type": "code",
   "execution_count": 28,
   "metadata": {},
   "outputs": [],
   "source": [
    "with open('tweet.txt', 'w') as file:\n",
    "    tweet_data =json.dump(tweet._json, file)\n",
    "    file.close()"
   ]
  },
  {
   "cell_type": "code",
   "execution_count": 29,
   "metadata": {},
   "outputs": [
    {
     "name": "stdout",
     "output_type": "stream",
     "text": [
      "Fail\n",
      "Fail\n",
      "Fail\n",
      "Fail\n",
      "Fail\n",
      "Fail\n",
      "Fail\n",
      "Fail\n",
      "Fail\n",
      "Fail\n",
      "Fail\n",
      "Fail\n",
      "Fail\n",
      "Fail\n",
      "Fail\n",
      "Fail\n",
      "Fail\n",
      "Fail\n",
      "Fail\n",
      "Fail\n",
      "Fail\n",
      "Fail\n",
      "Fail\n",
      "Fail\n",
      "Fail\n",
      "Fail\n"
     ]
    },
    {
     "name": "stderr",
     "output_type": "stream",
     "text": [
      "Rate limit reached. Sleeping for: 645\n"
     ]
    },
    {
     "name": "stdout",
     "output_type": "stream",
     "text": [
      "Fail\n",
      "Fail\n"
     ]
    },
    {
     "name": "stderr",
     "output_type": "stream",
     "text": [
      "Rate limit reached. Sleeping for: 697\n"
     ]
    },
    {
     "name": "stdout",
     "output_type": "stream",
     "text": [
      "1877.0866457499997\n",
      "1\n"
     ]
    }
   ],
   "source": [
    "#poulling data for all the tweet ids from enhanced csv\n",
    "count = 0\n",
    "fails_dict = {}\n",
    "fai =[]\n",
    "fail_count = 0\n",
    "start =timer()\n",
    "with open('tweet.txt', 'w') as file:\n",
    "    for x in tweet_id:\n",
    "        count = +1\n",
    "        try:  \n",
    "            tweet = api.get_status(x)\n",
    "            tweet_data = json.dump(tweet._json, file)\n",
    "            file.write('\\n')\n",
    "        except:\n",
    "            print(\"Fail\")\n",
    "            fail_count = +1\n",
    "            fai = x\n",
    "            \n",
    "    file.close()\n",
    "end = timer()\n",
    "print(end-start)\n",
    "print(fail_count)"
   ]
  },
  {
   "cell_type": "code",
   "execution_count": 4,
   "metadata": {
    "scrolled": true
   },
   "outputs": [
    {
     "name": "stderr",
     "output_type": "stream",
     "text": [
      "b'Skipping line 14: expected 257 fields, saw 305\\nSkipping line 19: expected 257 fields, saw 401\\nSkipping line 22: expected 257 fields, saw 283\\nSkipping line 23: expected 257 fields, saw 305\\nSkipping line 24: expected 257 fields, saw 289\\nSkipping line 26: expected 257 fields, saw 305\\nSkipping line 32: expected 257 fields, saw 536\\nSkipping line 36: expected 257 fields, saw 645\\nSkipping line 42: expected 257 fields, saw 476\\nSkipping line 45: expected 257 fields, saw 305\\nSkipping line 47: expected 257 fields, saw 305\\nSkipping line 48: expected 257 fields, saw 305\\nSkipping line 51: expected 257 fields, saw 353\\nSkipping line 60: expected 257 fields, saw 401\\nSkipping line 61: expected 257 fields, saw 305\\nSkipping line 63: expected 257 fields, saw 353\\nSkipping line 66: expected 257 fields, saw 283\\nSkipping line 68: expected 257 fields, saw 470\\nSkipping line 72: expected 257 fields, saw 335\\nSkipping line 73: expected 257 fields, saw 331\\nSkipping line 74: expected 257 fields, saw 422\\nSkipping line 76: expected 257 fields, saw 305\\nSkipping line 77: expected 257 fields, saw 305\\nSkipping line 78: expected 257 fields, saw 655\\nSkipping line 83: expected 257 fields, saw 432\\nSkipping line 88: expected 257 fields, saw 457\\nSkipping line 89: expected 257 fields, saw 305\\nSkipping line 91: expected 257 fields, saw 470\\nSkipping line 96: expected 257 fields, saw 331\\nSkipping line 100: expected 257 fields, saw 261\\nSkipping line 106: expected 257 fields, saw 422\\nSkipping line 107: expected 257 fields, saw 468\\nSkipping line 115: expected 257 fields, saw 271\\nSkipping line 120: expected 257 fields, saw 331\\nSkipping line 124: expected 257 fields, saw 305\\nSkipping line 126: expected 257 fields, saw 655\\nSkipping line 128: expected 257 fields, saw 434\\nSkipping line 130: expected 257 fields, saw 305\\nSkipping line 131: expected 257 fields, saw 305\\nSkipping line 132: expected 257 fields, saw 494\\nSkipping line 138: expected 257 fields, saw 401\\nSkipping line 140: expected 257 fields, saw 287\\nSkipping line 141: expected 257 fields, saw 331\\nSkipping line 149: expected 257 fields, saw 305\\nSkipping line 153: expected 257 fields, saw 331\\nSkipping line 154: expected 257 fields, saw 655\\nSkipping line 159: expected 257 fields, saw 454\\nSkipping line 165: expected 257 fields, saw 331\\nSkipping line 174: expected 257 fields, saw 477\\nSkipping line 175: expected 257 fields, saw 305\\nSkipping line 184: expected 257 fields, saw 438\\nSkipping line 186: expected 257 fields, saw 331\\nSkipping line 187: expected 257 fields, saw 320\\nSkipping line 188: expected 257 fields, saw 401\\nSkipping line 190: expected 257 fields, saw 305\\nSkipping line 194: expected 257 fields, saw 305\\nSkipping line 196: expected 257 fields, saw 331\\nSkipping line 203: expected 257 fields, saw 540\\nSkipping line 210: expected 257 fields, saw 401\\nSkipping line 211: expected 257 fields, saw 353\\nSkipping line 213: expected 257 fields, saw 331\\nSkipping line 214: expected 257 fields, saw 401\\nSkipping line 221: expected 257 fields, saw 422\\nSkipping line 222: expected 257 fields, saw 562\\nSkipping line 227: expected 257 fields, saw 305\\nSkipping line 232: expected 257 fields, saw 347\\nSkipping line 233: expected 257 fields, saw 305\\nSkipping line 234: expected 257 fields, saw 335\\nSkipping line 236: expected 257 fields, saw 401\\nSkipping line 240: expected 257 fields, saw 422\\nSkipping line 241: expected 257 fields, saw 353\\nSkipping line 253: expected 257 fields, saw 353\\nSkipping line 254: expected 257 fields, saw 705\\nSkipping line 257: expected 257 fields, saw 345\\nSkipping line 260: expected 257 fields, saw 331\\nSkipping line 261: expected 257 fields, saw 422\\nSkipping line 267: expected 257 fields, saw 305\\nSkipping line 269: expected 257 fields, saw 677\\nSkipping line 270: expected 257 fields, saw 353\\nSkipping line 271: expected 257 fields, saw 434\\nSkipping line 273: expected 257 fields, saw 663\\nSkipping line 274: expected 257 fields, saw 331\\nSkipping line 276: expected 257 fields, saw 353\\nSkipping line 277: expected 257 fields, saw 470\\nSkipping line 280: expected 257 fields, saw 305\\nSkipping line 281: expected 257 fields, saw 317\\nSkipping line 288: expected 257 fields, saw 330\\nSkipping line 289: expected 257 fields, saw 448\\nSkipping line 293: expected 257 fields, saw 422\\nSkipping line 294: expected 257 fields, saw 305\\nSkipping line 295: expected 257 fields, saw 331\\nSkipping line 296: expected 257 fields, saw 345\\nSkipping line 301: expected 257 fields, saw 353\\nSkipping line 305: expected 257 fields, saw 331\\nSkipping line 307: expected 257 fields, saw 305\\nSkipping line 311: expected 257 fields, saw 305\\nSkipping line 313: expected 257 fields, saw 341\\nSkipping line 315: expected 257 fields, saw 353\\nSkipping line 318: expected 257 fields, saw 644\\nSkipping line 320: expected 257 fields, saw 442\\nSkipping line 326: expected 257 fields, saw 422\\nSkipping line 327: expected 257 fields, saw 645\\nSkipping line 329: expected 257 fields, saw 645\\nSkipping line 341: expected 257 fields, saw 277\\nSkipping line 342: expected 257 fields, saw 305\\nSkipping line 343: expected 257 fields, saw 331\\nSkipping line 345: expected 257 fields, saw 541\\nSkipping line 349: expected 257 fields, saw 305\\nSkipping line 351: expected 257 fields, saw 331\\nSkipping line 354: expected 257 fields, saw 353\\nSkipping line 358: expected 257 fields, saw 274\\nSkipping line 370: expected 257 fields, saw 422\\nSkipping line 372: expected 257 fields, saw 353\\nSkipping line 375: expected 257 fields, saw 409\\nSkipping line 378: expected 257 fields, saw 305\\nSkipping line 381: expected 257 fields, saw 331\\nSkipping line 383: expected 257 fields, saw 749\\nSkipping line 386: expected 257 fields, saw 261\\nSkipping line 387: expected 257 fields, saw 305\\nSkipping line 388: expected 257 fields, saw 444\\nSkipping line 390: expected 257 fields, saw 345\\nSkipping line 394: expected 257 fields, saw 305\\nSkipping line 395: expected 257 fields, saw 541\\nSkipping line 397: expected 257 fields, saw 261\\nSkipping line 399: expected 257 fields, saw 749\\nSkipping line 401: expected 257 fields, saw 353\\nSkipping line 404: expected 257 fields, saw 331\\nSkipping line 406: expected 257 fields, saw 541\\nSkipping line 409: expected 257 fields, saw 518\\nSkipping line 410: expected 257 fields, saw 287\\nSkipping line 412: expected 257 fields, saw 289\\nSkipping line 415: expected 257 fields, saw 422\\nSkipping line 416: expected 257 fields, saw 305\\nSkipping line 417: expected 257 fields, saw 353\\nSkipping line 418: expected 257 fields, saw 352\\nSkipping line 419: expected 257 fields, saw 749\\nSkipping line 421: expected 257 fields, saw 353\\nSkipping line 422: expected 257 fields, saw 331\\nSkipping line 424: expected 257 fields, saw 277\\nSkipping line 425: expected 257 fields, saw 305\\nSkipping line 430: expected 257 fields, saw 853\\nSkipping line 431: expected 257 fields, saw 853\\nSkipping line 432: expected 257 fields, saw 401\\nSkipping line 433: expected 257 fields, saw 401\\nSkipping line 434: expected 257 fields, saw 345\\nSkipping line 436: expected 257 fields, saw 401\\nSkipping line 437: expected 257 fields, saw 541\\nSkipping line 439: expected 257 fields, saw 470\\nSkipping line 441: expected 257 fields, saw 353\\nSkipping line 442: expected 257 fields, saw 436\\nSkipping line 443: expected 257 fields, saw 283\\nSkipping line 446: expected 257 fields, saw 422\\nSkipping line 447: expected 257 fields, saw 289\\nSkipping line 449: expected 257 fields, saw 681\\nSkipping line 453: expected 257 fields, saw 541\\nSkipping line 455: expected 257 fields, saw 305\\nSkipping line 456: expected 257 fields, saw 305\\nSkipping line 458: expected 257 fields, saw 401\\nSkipping line 459: expected 257 fields, saw 331\\nSkipping line 460: expected 257 fields, saw 645\\nSkipping line 462: expected 257 fields, saw 277\\nSkipping line 463: expected 257 fields, saw 331\\nSkipping line 464: expected 257 fields, saw 401\\nSkipping line 468: expected 257 fields, saw 353\\nSkipping line 469: expected 257 fields, saw 422\\nSkipping line 472: expected 257 fields, saw 541\\nSkipping line 476: expected 257 fields, saw 401\\nSkipping line 480: expected 257 fields, saw 401\\nSkipping line 481: expected 257 fields, saw 353\\nSkipping line 483: expected 257 fields, saw 305\\nSkipping line 486: expected 257 fields, saw 305\\nSkipping line 489: expected 257 fields, saw 353\\nSkipping line 493: expected 257 fields, saw 305\\nSkipping line 502: expected 257 fields, saw 305\\nSkipping line 505: expected 257 fields, saw 645\\nSkipping line 506: expected 257 fields, saw 263\\nSkipping line 511: expected 257 fields, saw 305\\nSkipping line 513: expected 257 fields, saw 541\\nSkipping line 515: expected 257 fields, saw 305\\nSkipping line 517: expected 257 fields, saw 283\\nSkipping line 518: expected 257 fields, saw 645\\nSkipping line 520: expected 257 fields, saw 321\\nSkipping line 521: expected 257 fields, saw 422\\nSkipping line 522: expected 257 fields, saw 445\\nSkipping line 524: expected 257 fields, saw 749\\nSkipping line 526: expected 257 fields, saw 541\\nSkipping line 528: expected 257 fields, saw 277\\nSkipping line 529: expected 257 fields, saw 345\\nSkipping line 534: expected 257 fields, saw 345\\nSkipping line 535: expected 257 fields, saw 541\\nSkipping line 536: expected 257 fields, saw 353\\nSkipping line 537: expected 257 fields, saw 401\\nSkipping line 538: expected 257 fields, saw 541\\nSkipping line 539: expected 257 fields, saw 283\\nSkipping line 541: expected 257 fields, saw 422\\nSkipping line 544: expected 257 fields, saw 573\\nSkipping line 550: expected 257 fields, saw 547\\nSkipping line 556: expected 257 fields, saw 422\\nSkipping line 559: expected 257 fields, saw 354\\nSkipping line 560: expected 257 fields, saw 353\\nSkipping line 563: expected 257 fields, saw 541\\nSkipping line 564: expected 257 fields, saw 353\\nSkipping line 565: expected 257 fields, saw 422\\nSkipping line 566: expected 257 fields, saw 353\\nSkipping line 567: expected 257 fields, saw 283\\nSkipping line 568: expected 257 fields, saw 541\\nSkipping line 569: expected 257 fields, saw 401\\nSkipping line 571: expected 257 fields, saw 566\\nSkipping line 572: expected 257 fields, saw 305\\nSkipping line 573: expected 257 fields, saw 401\\nSkipping line 574: expected 257 fields, saw 305\\nSkipping line 576: expected 257 fields, saw 422\\nSkipping line 577: expected 257 fields, saw 422\\nSkipping line 578: expected 257 fields, saw 541\\nSkipping line 579: expected 257 fields, saw 541\\nSkipping line 580: expected 257 fields, saw 446\\nSkipping line 581: expected 257 fields, saw 422\\nSkipping line 582: expected 257 fields, saw 541\\nSkipping line 583: expected 257 fields, saw 541\\nSkipping line 584: expected 257 fields, saw 541\\nSkipping line 585: expected 257 fields, saw 541\\nSkipping line 586: expected 257 fields, saw 422\\nSkipping line 587: expected 257 fields, saw 422\\nSkipping line 588: expected 257 fields, saw 541\\nSkipping line 590: expected 257 fields, saw 305\\nSkipping line 591: expected 257 fields, saw 401\\nSkipping line 592: expected 257 fields, saw 305\\nSkipping line 594: expected 257 fields, saw 470\\nSkipping line 596: expected 257 fields, saw 305\\nSkipping line 597: expected 257 fields, saw 422\\nSkipping line 600: expected 257 fields, saw 645\\nSkipping line 601: expected 257 fields, saw 305\\nSkipping line 602: expected 257 fields, saw 350\\nSkipping line 606: expected 257 fields, saw 289\\nSkipping line 607: expected 257 fields, saw 401\\nSkipping line 608: expected 257 fields, saw 353\\nSkipping line 609: expected 257 fields, saw 749\\nSkipping line 611: expected 257 fields, saw 541\\nSkipping line 614: expected 257 fields, saw 305\\nSkipping line 616: expected 257 fields, saw 541\\nSkipping line 618: expected 257 fields, saw 305\\nSkipping line 619: expected 257 fields, saw 305\\nSkipping line 625: expected 257 fields, saw 305\\nSkipping line 629: expected 257 fields, saw 305\\nSkipping line 631: expected 257 fields, saw 401\\nSkipping line 632: expected 257 fields, saw 401\\nSkipping line 634: expected 257 fields, saw 305\\nSkipping line 636: expected 257 fields, saw 345\\nSkipping line 637: expected 257 fields, saw 345\\nSkipping line 638: expected 257 fields, saw 345\\nSkipping line 642: expected 257 fields, saw 401\\nSkipping line 643: expected 257 fields, saw 541\\nSkipping line 646: expected 257 fields, saw 541\\nSkipping line 648: expected 257 fields, saw 305\\nSkipping line 651: expected 257 fields, saw 422\\nSkipping line 653: expected 257 fields, saw 566\\nSkipping line 656: expected 257 fields, saw 305\\nSkipping line 657: expected 257 fields, saw 353\\nSkipping line 658: expected 257 fields, saw 326\\nSkipping line 659: expected 257 fields, saw 422\\nSkipping line 661: expected 257 fields, saw 353\\nSkipping line 664: expected 257 fields, saw 345\\nSkipping line 665: expected 257 fields, saw 305\\nSkipping line 666: expected 257 fields, saw 401\\nSkipping line 667: expected 257 fields, saw 401\\nSkipping line 668: expected 257 fields, saw 541\\nSkipping line 669: expected 257 fields, saw 305\\nSkipping line 670: expected 257 fields, saw 305\\nSkipping line 671: expected 257 fields, saw 401\\nSkipping line 674: expected 257 fields, saw 345\\nSkipping line 676: expected 257 fields, saw 422\\nSkipping line 678: expected 257 fields, saw 266\\nSkipping line 680: expected 257 fields, saw 401\\nSkipping line 684: expected 257 fields, saw 853\\nSkipping line 686: expected 257 fields, saw 283\\nSkipping line 688: expected 257 fields, saw 305\\nSkipping line 693: expected 257 fields, saw 353\\nSkipping line 698: expected 257 fields, saw 305\\nSkipping line 701: expected 257 fields, saw 401\\nSkipping line 702: expected 257 fields, saw 541\\nSkipping line 703: expected 257 fields, saw 353\\nSkipping line 704: expected 257 fields, saw 305\\nSkipping line 705: expected 257 fields, saw 305\\nSkipping line 709: expected 257 fields, saw 353\\nSkipping line 710: expected 257 fields, saw 541\\nSkipping line 716: expected 257 fields, saw 305\\nSkipping line 720: expected 257 fields, saw 353\\nSkipping line 723: expected 257 fields, saw 541\\nSkipping line 724: expected 257 fields, saw 600\\nSkipping line 727: expected 257 fields, saw 422\\nSkipping line 729: expected 257 fields, saw 401\\nSkipping line 730: expected 257 fields, saw 283\\nSkipping line 731: expected 257 fields, saw 422\\nSkipping line 732: expected 257 fields, saw 305\\nSkipping line 733: expected 257 fields, saw 305\\nSkipping line 734: expected 257 fields, saw 345\\nSkipping line 736: expected 257 fields, saw 267\\nSkipping line 738: expected 257 fields, saw 305\\nSkipping line 739: expected 257 fields, saw 401\\nSkipping line 740: expected 257 fields, saw 541\\nSkipping line 742: expected 257 fields, saw 305\\nSkipping line 743: expected 257 fields, saw 401\\nSkipping line 745: expected 257 fields, saw 422\\nSkipping line 746: expected 257 fields, saw 305\\nSkipping line 747: expected 257 fields, saw 273\\nSkipping line 748: expected 257 fields, saw 645\\nSkipping line 750: expected 257 fields, saw 305\\nSkipping line 751: expected 257 fields, saw 749\\nSkipping line 752: expected 257 fields, saw 305\\nSkipping line 753: expected 257 fields, saw 305\\nSkipping line 754: expected 257 fields, saw 422\\nSkipping line 755: expected 257 fields, saw 353\\nSkipping line 758: expected 257 fields, saw 401\\nSkipping line 759: expected 257 fields, saw 541\\nSkipping line 760: expected 257 fields, saw 305\\nSkipping line 763: expected 257 fields, saw 401\\nSkipping line 767: expected 257 fields, saw 305\\nSkipping line 768: expected 257 fields, saw 401\\nSkipping line 769: expected 257 fields, saw 401\\nSkipping line 770: expected 257 fields, saw 268\\nSkipping line 771: expected 257 fields, saw 305\\nSkipping line 774: expected 257 fields, saw 566\\nSkipping line 777: expected 257 fields, saw 305\\nSkipping line 778: expected 257 fields, saw 289\\nSkipping line 780: expected 257 fields, saw 541\\nSkipping line 781: expected 257 fields, saw 353\\nSkipping line 783: expected 257 fields, saw 305\\nSkipping line 787: expected 257 fields, saw 442\\nSkipping line 790: expected 257 fields, saw 401\\nSkipping line 791: expected 257 fields, saw 853\\nSkipping line 793: expected 257 fields, saw 267\\nSkipping line 800: expected 257 fields, saw 541\\nSkipping line 802: expected 257 fields, saw 305\\nSkipping line 804: expected 257 fields, saw 366\\nSkipping line 806: expected 257 fields, saw 289\\nSkipping line 807: expected 257 fields, saw 422\\nSkipping line 811: expected 257 fields, saw 422\\nSkipping line 814: expected 257 fields, saw 401\\nSkipping line 818: expected 257 fields, saw 305\\nSkipping line 822: expected 257 fields, saw 305\\nSkipping line 824: expected 257 fields, saw 541\\nSkipping line 828: expected 257 fields, saw 353\\nSkipping line 830: expected 257 fields, saw 305\\nSkipping line 833: expected 257 fields, saw 305\\nSkipping line 836: expected 257 fields, saw 286\\nSkipping line 837: expected 257 fields, saw 422\\nSkipping line 838: expected 257 fields, saw 305\\nSkipping line 840: expected 257 fields, saw 283\\nSkipping line 841: expected 257 fields, saw 401\\nSkipping line 843: expected 257 fields, saw 277\\nSkipping line 844: expected 257 fields, saw 401\\nSkipping line 845: expected 257 fields, saw 579\\nSkipping line 847: expected 257 fields, saw 289\\nSkipping line 849: expected 257 fields, saw 563\\nSkipping line 855: expected 257 fields, saw 305\\nSkipping line 857: expected 257 fields, saw 353\\nSkipping line 859: expected 257 fields, saw 283\\nSkipping line 862: expected 257 fields, saw 381\\nSkipping line 865: expected 257 fields, saw 305\\nSkipping line 866: expected 257 fields, saw 353\\nSkipping line 868: expected 257 fields, saw 335\\nSkipping line 869: expected 257 fields, saw 353\\nSkipping line 870: expected 257 fields, saw 541\\nSkipping line 872: expected 257 fields, saw 305\\nSkipping line 873: expected 257 fields, saw 401\\nSkipping line 877: expected 257 fields, saw 277\\nSkipping line 878: expected 257 fields, saw 401\\nSkipping line 882: expected 257 fields, saw 305\\nSkipping line 883: expected 257 fields, saw 645\\nSkipping line 884: expected 257 fields, saw 305\\nSkipping line 885: expected 257 fields, saw 353\\nSkipping line 886: expected 257 fields, saw 551\\nSkipping line 888: expected 257 fields, saw 353\\nSkipping line 889: expected 257 fields, saw 401\\nSkipping line 890: expected 257 fields, saw 321\\nSkipping line 891: expected 257 fields, saw 401\\nSkipping line 896: expected 257 fields, saw 401\\nSkipping line 897: expected 257 fields, saw 305\\nSkipping line 898: expected 257 fields, saw 289\\nSkipping line 899: expected 257 fields, saw 401\\nSkipping line 900: expected 257 fields, saw 283\\nSkipping line 901: expected 257 fields, saw 541\\nSkipping line 902: expected 257 fields, saw 353\\nSkipping line 904: expected 257 fields, saw 283\\nSkipping line 907: expected 257 fields, saw 275\\nSkipping line 908: expected 257 fields, saw 277\\nSkipping line 909: expected 257 fields, saw 277\\nSkipping line 911: expected 257 fields, saw 422\\nSkipping line 914: expected 257 fields, saw 401\\nSkipping line 917: expected 257 fields, saw 345\\nSkipping line 918: expected 257 fields, saw 305\\nSkipping line 919: expected 257 fields, saw 305\\nSkipping line 921: expected 257 fields, saw 353\\nSkipping line 922: expected 257 fields, saw 299\\nSkipping line 923: expected 257 fields, saw 693\\nSkipping line 924: expected 257 fields, saw 305\\nSkipping line 927: expected 257 fields, saw 353\\nSkipping line 929: expected 257 fields, saw 401\\nSkipping line 931: expected 257 fields, saw 353\\nSkipping line 932: expected 257 fields, saw 277\\nSkipping line 933: expected 257 fields, saw 289\\nSkipping line 934: expected 257 fields, saw 323\\nSkipping line 935: expected 257 fields, saw 305\\nSkipping line 936: expected 257 fields, saw 401\\nSkipping line 939: expected 257 fields, saw 305\\nSkipping line 944: expected 257 fields, saw 401\\nSkipping line 945: expected 257 fields, saw 305\\nSkipping line 947: expected 257 fields, saw 353\\nSkipping line 955: expected 257 fields, saw 401\\nSkipping line 957: expected 257 fields, saw 305\\nSkipping line 958: expected 257 fields, saw 277\\nSkipping line 960: expected 257 fields, saw 305\\nSkipping line 962: expected 257 fields, saw 278\\nSkipping line 964: expected 257 fields, saw 303\\nSkipping line 965: expected 257 fields, saw 305\\nSkipping line 968: expected 257 fields, saw 287\\nSkipping line 969: expected 257 fields, saw 274\\nSkipping line 971: expected 257 fields, saw 305\\nSkipping line 972: expected 257 fields, saw 305\\nSkipping line 975: expected 257 fields, saw 353\\nSkipping line 976: expected 257 fields, saw 305\\nSkipping line 977: expected 257 fields, saw 261\\nSkipping line 981: expected 257 fields, saw 305\\nSkipping line 986: expected 257 fields, saw 470\\nSkipping line 987: expected 257 fields, saw 305\\nSkipping line 988: expected 257 fields, saw 305\\nSkipping line 989: expected 257 fields, saw 415\\nSkipping line 991: expected 257 fields, saw 305\\nSkipping line 993: expected 257 fields, saw 353\\nSkipping line 997: expected 257 fields, saw 422\\nSkipping line 998: expected 257 fields, saw 305\\nSkipping line 1001: expected 257 fields, saw 305\\nSkipping line 1004: expected 257 fields, saw 353\\nSkipping line 1006: expected 257 fields, saw 401\\nSkipping line 1008: expected 257 fields, saw 305\\nSkipping line 1009: expected 257 fields, saw 305\\nSkipping line 1010: expected 257 fields, saw 353\\nSkipping line 1013: expected 257 fields, saw 283\\nSkipping line 1017: expected 257 fields, saw 422\\nSkipping line 1018: expected 257 fields, saw 353\\nSkipping line 1020: expected 257 fields, saw 353\\nSkipping line 1021: expected 257 fields, saw 299\\nSkipping line 1026: expected 257 fields, saw 305\\nSkipping line 1027: expected 257 fields, saw 305\\nSkipping line 1032: expected 257 fields, saw 305\\nSkipping line 1033: expected 257 fields, saw 353\\nSkipping line 1042: expected 257 fields, saw 401\\nSkipping line 1050: expected 257 fields, saw 353\\nSkipping line 1052: expected 257 fields, saw 305\\nSkipping line 1053: expected 257 fields, saw 289\\nSkipping line 1056: expected 257 fields, saw 305\\nSkipping line 1057: expected 257 fields, saw 305\\nSkipping line 1058: expected 257 fields, saw 269\\nSkipping line 1060: expected 257 fields, saw 401\\nSkipping line 1062: expected 257 fields, saw 305\\nSkipping line 1067: expected 257 fields, saw 283\\nSkipping line 1070: expected 257 fields, saw 401\\nSkipping line 1072: expected 257 fields, saw 305\\nSkipping line 1073: expected 257 fields, saw 353\\nSkipping line 1075: expected 257 fields, saw 305\\nSkipping line 1076: expected 257 fields, saw 305\\nSkipping line 1080: expected 257 fields, saw 401\\nSkipping line 1083: expected 257 fields, saw 305\\nSkipping line 1085: expected 257 fields, saw 266\\nSkipping line 1090: expected 257 fields, saw 305\\nSkipping line 1092: expected 257 fields, saw 305\\nSkipping line 1096: expected 257 fields, saw 353\\nSkipping line 1101: expected 257 fields, saw 294\\nSkipping line 1104: expected 257 fields, saw 307\\nSkipping line 1105: expected 257 fields, saw 305\\nSkipping line 1106: expected 257 fields, saw 313\\nSkipping line 1108: expected 257 fields, saw 353\\nSkipping line 1112: expected 257 fields, saw 305\\nSkipping line 1115: expected 257 fields, saw 305\\nSkipping line 1116: expected 257 fields, saw 305\\nSkipping line 1117: expected 257 fields, saw 353\\nSkipping line 1119: expected 257 fields, saw 305\\nSkipping line 1121: expected 257 fields, saw 401\\nSkipping line 1128: expected 257 fields, saw 362\\nSkipping line 1130: expected 257 fields, saw 401\\nSkipping line 1134: expected 257 fields, saw 353\\nSkipping line 1136: expected 257 fields, saw 305\\nSkipping line 1141: expected 257 fields, saw 401\\nSkipping line 1145: expected 257 fields, saw 353\\nSkipping line 1150: expected 257 fields, saw 305\\nSkipping line 1160: expected 257 fields, saw 305\\nSkipping line 1163: expected 257 fields, saw 267\\nSkipping line 1169: expected 257 fields, saw 305\\nSkipping line 1172: expected 257 fields, saw 305\\nSkipping line 1174: expected 257 fields, saw 466\\nSkipping line 1176: expected 257 fields, saw 261\\nSkipping line 1177: expected 257 fields, saw 305\\nSkipping line 1178: expected 257 fields, saw 305\\nSkipping line 1184: expected 257 fields, saw 353\\nSkipping line 1186: expected 257 fields, saw 305\\nSkipping line 1197: expected 257 fields, saw 305\\nSkipping line 1203: expected 257 fields, saw 305\\nSkipping line 1209: expected 257 fields, saw 353\\nSkipping line 1211: expected 257 fields, saw 542\\nSkipping line 1214: expected 257 fields, saw 353\\nSkipping line 1216: expected 257 fields, saw 592\\nSkipping line 1219: expected 257 fields, saw 353\\nSkipping line 1220: expected 257 fields, saw 268\\nSkipping line 1222: expected 257 fields, saw 309\\nSkipping line 1223: expected 257 fields, saw 305\\nSkipping line 1230: expected 257 fields, saw 401\\nSkipping line 1232: expected 257 fields, saw 305\\nSkipping line 1235: expected 257 fields, saw 305\\nSkipping line 1237: expected 257 fields, saw 305\\nSkipping line 1238: expected 257 fields, saw 305\\nSkipping line 1239: expected 257 fields, saw 415\\nSkipping line 1240: expected 257 fields, saw 401\\nSkipping line 1242: expected 257 fields, saw 353\\nSkipping line 1244: expected 257 fields, saw 305\\nSkipping line 1253: expected 257 fields, saw 305\\nSkipping line 1255: expected 257 fields, saw 353\\nSkipping line 1257: expected 257 fields, saw 305\\nSkipping line 1261: expected 257 fields, saw 305\\nSkipping line 1267: expected 257 fields, saw 299\\nSkipping line 1278: expected 257 fields, saw 278\\nSkipping line 1280: expected 257 fields, saw 305\\nSkipping line 1281: expected 257 fields, saw 305\\nSkipping line 1282: expected 257 fields, saw 305\\nSkipping line 1283: expected 257 fields, saw 305\\nSkipping line 1284: expected 257 fields, saw 305\\nSkipping line 1285: expected 257 fields, saw 305\\nSkipping line 1289: expected 257 fields, saw 353\\nSkipping line 1290: expected 257 fields, saw 277\\nSkipping line 1292: expected 257 fields, saw 270\\nSkipping line 1294: expected 257 fields, saw 305\\nSkipping line 1295: expected 257 fields, saw 305\\nSkipping line 1296: expected 257 fields, saw 305\\nSkipping line 1297: expected 257 fields, saw 266\\nSkipping line 1298: expected 257 fields, saw 453\\nSkipping line 1301: expected 257 fields, saw 305\\nSkipping line 1303: expected 257 fields, saw 305\\nSkipping line 1305: expected 257 fields, saw 272\\nSkipping line 1306: expected 257 fields, saw 305\\nSkipping line 1315: expected 257 fields, saw 269\\nSkipping line 1317: expected 257 fields, saw 305\\nSkipping line 1321: expected 257 fields, saw 305\\nSkipping line 1324: expected 257 fields, saw 305\\nSkipping line 1326: expected 257 fields, saw 264\\nSkipping line 1327: expected 257 fields, saw 305\\nSkipping line 1328: expected 257 fields, saw 401\\nSkipping line 1332: expected 257 fields, saw 305\\nSkipping line 1335: expected 257 fields, saw 305\\nSkipping line 1342: expected 257 fields, saw 353\\nSkipping line 1344: expected 257 fields, saw 401\\nSkipping line 1345: expected 257 fields, saw 264\\nSkipping line 1352: expected 257 fields, saw 305\\nSkipping line 1356: expected 257 fields, saw 273\\nSkipping line 1361: expected 257 fields, saw 401\\nSkipping line 1369: expected 257 fields, saw 401\\nSkipping line 1371: expected 257 fields, saw 305\\nSkipping line 1374: expected 257 fields, saw 353\\nSkipping line 1376: expected 257 fields, saw 268\\nSkipping line 1379: expected 257 fields, saw 268\\nSkipping line 1381: expected 257 fields, saw 401\\nSkipping line 1382: expected 257 fields, saw 277\\nSkipping line 1387: expected 257 fields, saw 353\\nSkipping line 1390: expected 257 fields, saw 287\\nSkipping line 1393: expected 257 fields, saw 299\\nSkipping line 1397: expected 257 fields, saw 267\\nSkipping line 1398: expected 257 fields, saw 353\\nSkipping line 1402: expected 257 fields, saw 305\\nSkipping line 1427: expected 257 fields, saw 305\\nSkipping line 1430: expected 257 fields, saw 401\\nSkipping line 1433: expected 257 fields, saw 299\\nSkipping line 1434: expected 257 fields, saw 322\\nSkipping line 1437: expected 257 fields, saw 305\\nSkipping line 1439: expected 257 fields, saw 401\\nSkipping line 1442: expected 257 fields, saw 278\\nSkipping line 1443: expected 257 fields, saw 305\\nSkipping line 1444: expected 257 fields, saw 305\\nSkipping line 1450: expected 257 fields, saw 305\\nSkipping line 1454: expected 257 fields, saw 277\\nSkipping line 1459: expected 257 fields, saw 401\\nSkipping line 1460: expected 257 fields, saw 299\\nSkipping line 1464: expected 257 fields, saw 261\\nSkipping line 1467: expected 257 fields, saw 281\\nSkipping line 1468: expected 257 fields, saw 353\\nSkipping line 1473: expected 257 fields, saw 353\\nSkipping line 1475: expected 257 fields, saw 401\\nSkipping line 1482: expected 257 fields, saw 401\\nSkipping line 1483: expected 257 fields, saw 305\\nSkipping line 1484: expected 257 fields, saw 305\\nSkipping line 1490: expected 257 fields, saw 405\\nSkipping line 1493: expected 257 fields, saw 305\\nSkipping line 1504: expected 257 fields, saw 266\\nSkipping line 1505: expected 257 fields, saw 305\\nSkipping line 1506: expected 257 fields, saw 269\\nSkipping line 1510: expected 257 fields, saw 401\\nSkipping line 1515: expected 257 fields, saw 305\\nSkipping line 1518: expected 257 fields, saw 353\\nSkipping line 1519: expected 257 fields, saw 277\\nSkipping line 1521: expected 257 fields, saw 401\\nSkipping line 1526: expected 257 fields, saw 305\\nSkipping line 1528: expected 257 fields, saw 305\\nSkipping line 1531: expected 257 fields, saw 353\\nSkipping line 1535: expected 257 fields, saw 401\\nSkipping line 1536: expected 257 fields, saw 299\\nSkipping line 1541: expected 257 fields, saw 401\\nSkipping line 1552: expected 257 fields, saw 305\\nSkipping line 1553: expected 257 fields, saw 270\\nSkipping line 1556: expected 257 fields, saw 353\\nSkipping line 1577: expected 257 fields, saw 289\\nSkipping line 1578: expected 257 fields, saw 305\\nSkipping line 1581: expected 257 fields, saw 287\\nSkipping line 1583: expected 257 fields, saw 305\\nSkipping line 1585: expected 257 fields, saw 276\\nSkipping line 1587: expected 257 fields, saw 305\\nSkipping line 1594: expected 257 fields, saw 305\\nSkipping line 1596: expected 257 fields, saw 270\\nSkipping line 1601: expected 257 fields, saw 275\\nSkipping line 1604: expected 257 fields, saw 283\\nSkipping line 1607: expected 257 fields, saw 353\\nSkipping line 1608: expected 257 fields, saw 305\\nSkipping line 1612: expected 257 fields, saw 279\\nSkipping line 1620: expected 257 fields, saw 277\\nSkipping line 1627: expected 257 fields, saw 271\\nSkipping line 1629: expected 257 fields, saw 269\\nSkipping line 1630: expected 257 fields, saw 270\\nSkipping line 1642: expected 257 fields, saw 401\\nSkipping line 1651: expected 257 fields, saw 305\\nSkipping line 1672: expected 257 fields, saw 305\\nSkipping line 1674: expected 257 fields, saw 353\\nSkipping line 1679: expected 257 fields, saw 353\\nSkipping line 1684: expected 257 fields, saw 401\\nSkipping line 1688: expected 257 fields, saw 277\\nSkipping line 1694: expected 257 fields, saw 353\\nSkipping line 1698: expected 257 fields, saw 351\\nSkipping line 1702: expected 257 fields, saw 266\\nSkipping line 1705: expected 257 fields, saw 353\\nSkipping line 1720: expected 257 fields, saw 289\\nSkipping line 1721: expected 257 fields, saw 305\\nSkipping line 1730: expected 257 fields, saw 267\\nSkipping line 1739: expected 257 fields, saw 283\\nSkipping line 1740: expected 257 fields, saw 305\\nSkipping line 1750: expected 257 fields, saw 276\\nSkipping line 1758: expected 257 fields, saw 283\\nSkipping line 1759: expected 257 fields, saw 305\\nSkipping line 1765: expected 257 fields, saw 305\\nSkipping line 1768: expected 257 fields, saw 305\\nSkipping line 1774: expected 257 fields, saw 289\\nSkipping line 1783: expected 257 fields, saw 305\\nSkipping line 1784: expected 257 fields, saw 305\\nSkipping line 1786: expected 257 fields, saw 292\\nSkipping line 1799: expected 257 fields, saw 305\\nSkipping line 1800: expected 257 fields, saw 264\\nSkipping line 1805: expected 257 fields, saw 353\\nSkipping line 1810: expected 257 fields, saw 271\\nSkipping line 1816: expected 257 fields, saw 305\\nSkipping line 1823: expected 257 fields, saw 277\\nSkipping line 1824: expected 257 fields, saw 305\\nSkipping line 1835: expected 257 fields, saw 353\\nSkipping line 1838: expected 257 fields, saw 283\\nSkipping line 1839: expected 257 fields, saw 401\\nSkipping line 1840: expected 257 fields, saw 305\\nSkipping line 1854: expected 257 fields, saw 305\\nSkipping line 1856: expected 257 fields, saw 283\\nSkipping line 1857: expected 257 fields, saw 267\\nSkipping line 1864: expected 257 fields, saw 305\\nSkipping line 1866: expected 257 fields, saw 305\\nSkipping line 1869: expected 257 fields, saw 266\\nSkipping line 1879: expected 257 fields, saw 305\\nSkipping line 1891: expected 257 fields, saw 264\\nSkipping line 1912: expected 257 fields, saw 305\\nSkipping line 1918: expected 257 fields, saw 305\\nSkipping line 1921: expected 257 fields, saw 305\\nSkipping line 1922: expected 257 fields, saw 305\\nSkipping line 1935: expected 257 fields, saw 353\\nSkipping line 1941: expected 257 fields, saw 401\\nSkipping line 1942: expected 257 fields, saw 305\\nSkipping line 1978: expected 257 fields, saw 305\\nSkipping line 2000: expected 257 fields, saw 305\\nSkipping line 2003: expected 257 fields, saw 268\\nSkipping line 2004: expected 257 fields, saw 305\\nSkipping line 2008: expected 257 fields, saw 401\\nSkipping line 2012: expected 257 fields, saw 305\\nSkipping line 2014: expected 257 fields, saw 273\\nSkipping line 2022: expected 257 fields, saw 305\\nSkipping line 2029: expected 257 fields, saw 401\\nSkipping line 2031: expected 257 fields, saw 305\\nSkipping line 2046: expected 257 fields, saw 353\\nSkipping line 2057: expected 257 fields, saw 353\\nSkipping line 2067: expected 257 fields, saw 263\\nSkipping line 2104: expected 257 fields, saw 280\\nSkipping line 2125: expected 257 fields, saw 266\\nSkipping line 2178: expected 257 fields, saw 305\\nSkipping line 2182: expected 257 fields, saw 401\\nSkipping line 2232: expected 257 fields, saw 530\\nSkipping line 2233: expected 257 fields, saw 530\\nSkipping line 2238: expected 257 fields, saw 273\\nSkipping line 2294: expected 257 fields, saw 272\\n'\n"
     ]
    },
    {
     "data": {
      "text/html": [
       "<div>\n",
       "<style scoped>\n",
       "    .dataframe tbody tr th:only-of-type {\n",
       "        vertical-align: middle;\n",
       "    }\n",
       "\n",
       "    .dataframe tbody tr th {\n",
       "        vertical-align: top;\n",
       "    }\n",
       "\n",
       "    .dataframe thead th {\n",
       "        text-align: right;\n",
       "    }\n",
       "</style>\n",
       "<table border=\"1\" class=\"dataframe\">\n",
       "  <thead>\n",
       "    <tr style=\"text-align: right;\">\n",
       "      <th></th>\n",
       "      <th>0</th>\n",
       "      <th>1</th>\n",
       "      <th>2</th>\n",
       "      <th>3</th>\n",
       "      <th>4</th>\n",
       "      <th>5</th>\n",
       "      <th>6</th>\n",
       "      <th>7</th>\n",
       "      <th>8</th>\n",
       "      <th>9</th>\n",
       "      <th>...</th>\n",
       "      <th>247</th>\n",
       "      <th>248</th>\n",
       "      <th>249</th>\n",
       "      <th>250</th>\n",
       "      <th>251</th>\n",
       "      <th>252</th>\n",
       "      <th>253</th>\n",
       "      <th>254</th>\n",
       "      <th>255</th>\n",
       "      <th>256</th>\n",
       "    </tr>\n",
       "  </thead>\n",
       "  <tbody>\n",
       "    <tr>\n",
       "      <th>0</th>\n",
       "      <td>{\"created_at\":</td>\n",
       "      <td>Tue Aug 01 16:23:56 +0000 2017,</td>\n",
       "      <td>id:</td>\n",
       "      <td>892420643555336193,</td>\n",
       "      <td>id_str:</td>\n",
       "      <td>892420643555336193,</td>\n",
       "      <td>text:</td>\n",
       "      <td>This is Phineas. He's a mystical boy. Only eve...</td>\n",
       "      <td>truncated:</td>\n",
       "      <td>false,</td>\n",
       "      <td>...</td>\n",
       "      <td>favorited:</td>\n",
       "      <td>false,</td>\n",
       "      <td>retweeted:</td>\n",
       "      <td>false,</td>\n",
       "      <td>possibly_sensitive:</td>\n",
       "      <td>false,</td>\n",
       "      <td>possibly_sensitive_appealable:</td>\n",
       "      <td>false,</td>\n",
       "      <td>lang:</td>\n",
       "      <td>en}</td>\n",
       "    </tr>\n",
       "    <tr>\n",
       "      <th>1</th>\n",
       "      <td>{\"created_at\":</td>\n",
       "      <td>Tue Aug 01 00:17:27 +0000 2017,</td>\n",
       "      <td>id:</td>\n",
       "      <td>892177421306343426,</td>\n",
       "      <td>id_str:</td>\n",
       "      <td>892177421306343426,</td>\n",
       "      <td>text:</td>\n",
       "      <td>This is Tilly. She's just checking pup on you....</td>\n",
       "      <td>truncated:</td>\n",
       "      <td>true,</td>\n",
       "      <td>...</td>\n",
       "      <td>NaN</td>\n",
       "      <td>NaN</td>\n",
       "      <td>NaN</td>\n",
       "      <td>NaN</td>\n",
       "      <td>NaN</td>\n",
       "      <td>NaN</td>\n",
       "      <td>NaN</td>\n",
       "      <td>NaN</td>\n",
       "      <td>NaN</td>\n",
       "      <td>NaN</td>\n",
       "    </tr>\n",
       "    <tr>\n",
       "      <th>2</th>\n",
       "      <td>{\"created_at\":</td>\n",
       "      <td>Mon Jul 31 00:18:03 +0000 2017,</td>\n",
       "      <td>id:</td>\n",
       "      <td>891815181378084864,</td>\n",
       "      <td>id_str:</td>\n",
       "      <td>891815181378084864,</td>\n",
       "      <td>text:</td>\n",
       "      <td>This is Archie. He is a rare Norwegian Pouncin...</td>\n",
       "      <td>truncated:</td>\n",
       "      <td>true,</td>\n",
       "      <td>...</td>\n",
       "      <td>NaN</td>\n",
       "      <td>NaN</td>\n",
       "      <td>NaN</td>\n",
       "      <td>NaN</td>\n",
       "      <td>NaN</td>\n",
       "      <td>NaN</td>\n",
       "      <td>NaN</td>\n",
       "      <td>NaN</td>\n",
       "      <td>NaN</td>\n",
       "      <td>NaN</td>\n",
       "    </tr>\n",
       "    <tr>\n",
       "      <th>3</th>\n",
       "      <td>{\"created_at\":</td>\n",
       "      <td>Sun Jul 30 15:58:51 +0000 2017,</td>\n",
       "      <td>id:</td>\n",
       "      <td>891689557279858688,</td>\n",
       "      <td>id_str:</td>\n",
       "      <td>891689557279858688,</td>\n",
       "      <td>text:</td>\n",
       "      <td>This is Darla. She commenced a snooze mid meal...</td>\n",
       "      <td>truncated:</td>\n",
       "      <td>false,</td>\n",
       "      <td>...</td>\n",
       "      <td>favorited:</td>\n",
       "      <td>false,</td>\n",
       "      <td>retweeted:</td>\n",
       "      <td>false,</td>\n",
       "      <td>possibly_sensitive:</td>\n",
       "      <td>false,</td>\n",
       "      <td>possibly_sensitive_appealable:</td>\n",
       "      <td>false,</td>\n",
       "      <td>lang:</td>\n",
       "      <td>en}</td>\n",
       "    </tr>\n",
       "    <tr>\n",
       "      <th>4</th>\n",
       "      <td>{\"created_at\":</td>\n",
       "      <td>Sat Jul 29 16:00:24 +0000 2017,</td>\n",
       "      <td>id:</td>\n",
       "      <td>891327558926688256,</td>\n",
       "      <td>id_str:</td>\n",
       "      <td>891327558926688256,</td>\n",
       "      <td>text:</td>\n",
       "      <td>This is Franklin. He would like you to stop ca...</td>\n",
       "      <td>He</td>\n",
       "      <td>is</td>\n",
       "      <td>...</td>\n",
       "      <td>NaN</td>\n",
       "      <td>NaN</td>\n",
       "      <td>NaN</td>\n",
       "      <td>NaN</td>\n",
       "      <td>NaN</td>\n",
       "      <td>NaN</td>\n",
       "      <td>NaN</td>\n",
       "      <td>NaN</td>\n",
       "      <td>NaN</td>\n",
       "      <td>NaN</td>\n",
       "    </tr>\n",
       "    <tr>\n",
       "      <th>...</th>\n",
       "      <td>...</td>\n",
       "      <td>...</td>\n",
       "      <td>...</td>\n",
       "      <td>...</td>\n",
       "      <td>...</td>\n",
       "      <td>...</td>\n",
       "      <td>...</td>\n",
       "      <td>...</td>\n",
       "      <td>...</td>\n",
       "      <td>...</td>\n",
       "      <td>...</td>\n",
       "      <td>...</td>\n",
       "      <td>...</td>\n",
       "      <td>...</td>\n",
       "      <td>...</td>\n",
       "      <td>...</td>\n",
       "      <td>...</td>\n",
       "      <td>...</td>\n",
       "      <td>...</td>\n",
       "      <td>...</td>\n",
       "      <td>...</td>\n",
       "    </tr>\n",
       "    <tr>\n",
       "      <th>1628</th>\n",
       "      <td>{\"created_at\":</td>\n",
       "      <td>Mon Nov 16 00:24:50 +0000 2015,</td>\n",
       "      <td>id:</td>\n",
       "      <td>666049248165822465,</td>\n",
       "      <td>id_str:</td>\n",
       "      <td>666049248165822465,</td>\n",
       "      <td>text:</td>\n",
       "      <td>Here we have a 1949 1st generation vulpix. Enj...</td>\n",
       "      <td>truncated:</td>\n",
       "      <td>false,</td>\n",
       "      <td>...</td>\n",
       "      <td>favorited:</td>\n",
       "      <td>false,</td>\n",
       "      <td>retweeted:</td>\n",
       "      <td>false,</td>\n",
       "      <td>possibly_sensitive:</td>\n",
       "      <td>false,</td>\n",
       "      <td>possibly_sensitive_appealable:</td>\n",
       "      <td>false,</td>\n",
       "      <td>lang:</td>\n",
       "      <td>en}</td>\n",
       "    </tr>\n",
       "    <tr>\n",
       "      <th>1629</th>\n",
       "      <td>{\"created_at\":</td>\n",
       "      <td>Mon Nov 16 00:04:52 +0000 2015,</td>\n",
       "      <td>id:</td>\n",
       "      <td>666044226329800704,</td>\n",
       "      <td>id_str:</td>\n",
       "      <td>666044226329800704,</td>\n",
       "      <td>text:</td>\n",
       "      <td>This is a purebred Piers Morgan. Loves to Netf...</td>\n",
       "      <td>truncated:</td>\n",
       "      <td>false,</td>\n",
       "      <td>...</td>\n",
       "      <td>favorited:</td>\n",
       "      <td>false,</td>\n",
       "      <td>retweeted:</td>\n",
       "      <td>false,</td>\n",
       "      <td>possibly_sensitive:</td>\n",
       "      <td>false,</td>\n",
       "      <td>possibly_sensitive_appealable:</td>\n",
       "      <td>false,</td>\n",
       "      <td>lang:</td>\n",
       "      <td>en}</td>\n",
       "    </tr>\n",
       "    <tr>\n",
       "      <th>1630</th>\n",
       "      <td>{\"created_at\":</td>\n",
       "      <td>Sun Nov 15 23:21:54 +0000 2015,</td>\n",
       "      <td>id:</td>\n",
       "      <td>666033412701032449,</td>\n",
       "      <td>id_str:</td>\n",
       "      <td>666033412701032449,</td>\n",
       "      <td>text:</td>\n",
       "      <td>Here is a very happy pup. Big fan of well-main...</td>\n",
       "      <td>truncated:</td>\n",
       "      <td>false,</td>\n",
       "      <td>...</td>\n",
       "      <td>favorited:</td>\n",
       "      <td>false,</td>\n",
       "      <td>retweeted:</td>\n",
       "      <td>false,</td>\n",
       "      <td>possibly_sensitive:</td>\n",
       "      <td>false,</td>\n",
       "      <td>possibly_sensitive_appealable:</td>\n",
       "      <td>false,</td>\n",
       "      <td>lang:</td>\n",
       "      <td>en}</td>\n",
       "    </tr>\n",
       "    <tr>\n",
       "      <th>1631</th>\n",
       "      <td>{\"created_at\":</td>\n",
       "      <td>Sun Nov 15 23:05:30 +0000 2015,</td>\n",
       "      <td>id:</td>\n",
       "      <td>666029285002620928,</td>\n",
       "      <td>id_str:</td>\n",
       "      <td>666029285002620928,</td>\n",
       "      <td>text:</td>\n",
       "      <td>This is a western brown Mitsubishi terrier. Up...</td>\n",
       "      <td>truncated:</td>\n",
       "      <td>false,</td>\n",
       "      <td>...</td>\n",
       "      <td>favorited:</td>\n",
       "      <td>false,</td>\n",
       "      <td>retweeted:</td>\n",
       "      <td>false,</td>\n",
       "      <td>possibly_sensitive:</td>\n",
       "      <td>false,</td>\n",
       "      <td>possibly_sensitive_appealable:</td>\n",
       "      <td>false,</td>\n",
       "      <td>lang:</td>\n",
       "      <td>en}</td>\n",
       "    </tr>\n",
       "    <tr>\n",
       "      <th>1632</th>\n",
       "      <td>{\"created_at\":</td>\n",
       "      <td>Sun Nov 15 22:32:08 +0000 2015,</td>\n",
       "      <td>id:</td>\n",
       "      <td>666020888022790149,</td>\n",
       "      <td>id_str:</td>\n",
       "      <td>666020888022790149,</td>\n",
       "      <td>text:</td>\n",
       "      <td>Here we have a Japanese Irish Setter. Lost eye...</td>\n",
       "      <td>truncated:</td>\n",
       "      <td>false,</td>\n",
       "      <td>...</td>\n",
       "      <td>favorited:</td>\n",
       "      <td>false,</td>\n",
       "      <td>retweeted:</td>\n",
       "      <td>false,</td>\n",
       "      <td>possibly_sensitive:</td>\n",
       "      <td>false,</td>\n",
       "      <td>possibly_sensitive_appealable:</td>\n",
       "      <td>false,</td>\n",
       "      <td>lang:</td>\n",
       "      <td>en}</td>\n",
       "    </tr>\n",
       "  </tbody>\n",
       "</table>\n",
       "<p>1633 rows × 257 columns</p>\n",
       "</div>"
      ],
      "text/plain": [
       "                 0                                1    2    \\\n",
       "0     {\"created_at\":  Tue Aug 01 16:23:56 +0000 2017,  id:   \n",
       "1     {\"created_at\":  Tue Aug 01 00:17:27 +0000 2017,  id:   \n",
       "2     {\"created_at\":  Mon Jul 31 00:18:03 +0000 2017,  id:   \n",
       "3     {\"created_at\":  Sun Jul 30 15:58:51 +0000 2017,  id:   \n",
       "4     {\"created_at\":  Sat Jul 29 16:00:24 +0000 2017,  id:   \n",
       "...              ...                              ...  ...   \n",
       "1628  {\"created_at\":  Mon Nov 16 00:24:50 +0000 2015,  id:   \n",
       "1629  {\"created_at\":  Mon Nov 16 00:04:52 +0000 2015,  id:   \n",
       "1630  {\"created_at\":  Sun Nov 15 23:21:54 +0000 2015,  id:   \n",
       "1631  {\"created_at\":  Sun Nov 15 23:05:30 +0000 2015,  id:   \n",
       "1632  {\"created_at\":  Sun Nov 15 22:32:08 +0000 2015,  id:   \n",
       "\n",
       "                      3        4                    5      6    \\\n",
       "0     892420643555336193,  id_str:  892420643555336193,  text:   \n",
       "1     892177421306343426,  id_str:  892177421306343426,  text:   \n",
       "2     891815181378084864,  id_str:  891815181378084864,  text:   \n",
       "3     891689557279858688,  id_str:  891689557279858688,  text:   \n",
       "4     891327558926688256,  id_str:  891327558926688256,  text:   \n",
       "...                   ...      ...                  ...    ...   \n",
       "1628  666049248165822465,  id_str:  666049248165822465,  text:   \n",
       "1629  666044226329800704,  id_str:  666044226329800704,  text:   \n",
       "1630  666033412701032449,  id_str:  666033412701032449,  text:   \n",
       "1631  666029285002620928,  id_str:  666029285002620928,  text:   \n",
       "1632  666020888022790149,  id_str:  666020888022790149,  text:   \n",
       "\n",
       "                                                    7           8       9    \\\n",
       "0     This is Phineas. He's a mystical boy. Only eve...  truncated:  false,   \n",
       "1     This is Tilly. She's just checking pup on you....  truncated:   true,   \n",
       "2     This is Archie. He is a rare Norwegian Pouncin...  truncated:   true,   \n",
       "3     This is Darla. She commenced a snooze mid meal...  truncated:  false,   \n",
       "4     This is Franklin. He would like you to stop ca...          He      is   \n",
       "...                                                 ...         ...     ...   \n",
       "1628  Here we have a 1949 1st generation vulpix. Enj...  truncated:  false,   \n",
       "1629  This is a purebred Piers Morgan. Loves to Netf...  truncated:  false,   \n",
       "1630  Here is a very happy pup. Big fan of well-main...  truncated:  false,   \n",
       "1631  This is a western brown Mitsubishi terrier. Up...  truncated:  false,   \n",
       "1632  Here we have a Japanese Irish Setter. Lost eye...  truncated:  false,   \n",
       "\n",
       "      ...         247     248         249     250                  251  \\\n",
       "0     ...  favorited:  false,  retweeted:  false,  possibly_sensitive:   \n",
       "1     ...         NaN     NaN         NaN     NaN                  NaN   \n",
       "2     ...         NaN     NaN         NaN     NaN                  NaN   \n",
       "3     ...  favorited:  false,  retweeted:  false,  possibly_sensitive:   \n",
       "4     ...         NaN     NaN         NaN     NaN                  NaN   \n",
       "...   ...         ...     ...         ...     ...                  ...   \n",
       "1628  ...  favorited:  false,  retweeted:  false,  possibly_sensitive:   \n",
       "1629  ...  favorited:  false,  retweeted:  false,  possibly_sensitive:   \n",
       "1630  ...  favorited:  false,  retweeted:  false,  possibly_sensitive:   \n",
       "1631  ...  favorited:  false,  retweeted:  false,  possibly_sensitive:   \n",
       "1632  ...  favorited:  false,  retweeted:  false,  possibly_sensitive:   \n",
       "\n",
       "         252                             253     254    255  256  \n",
       "0     false,  possibly_sensitive_appealable:  false,  lang:  en}  \n",
       "1        NaN                             NaN     NaN    NaN  NaN  \n",
       "2        NaN                             NaN     NaN    NaN  NaN  \n",
       "3     false,  possibly_sensitive_appealable:  false,  lang:  en}  \n",
       "4        NaN                             NaN     NaN    NaN  NaN  \n",
       "...      ...                             ...     ...    ...  ...  \n",
       "1628  false,  possibly_sensitive_appealable:  false,  lang:  en}  \n",
       "1629  false,  possibly_sensitive_appealable:  false,  lang:  en}  \n",
       "1630  false,  possibly_sensitive_appealable:  false,  lang:  en}  \n",
       "1631  false,  possibly_sensitive_appealable:  false,  lang:  en}  \n",
       "1632  false,  possibly_sensitive_appealable:  false,  lang:  en}  \n",
       "\n",
       "[1633 rows x 257 columns]"
      ]
     },
     "execution_count": 4,
     "metadata": {},
     "output_type": "execute_result"
    }
   ],
   "source": [
    "data = pd.read_csv('tweet.txt', sep = \" \", header = None, error_bad_lines =False)\n",
    "data"
   ]
  },
  {
   "cell_type": "code",
   "execution_count": 39,
   "metadata": {},
   "outputs": [],
   "source": [
    "#############data Assessment#####################"
   ]
  },
  {
   "cell_type": "markdown",
   "metadata": {},
   "source": [
    "## Assessing Data\n",
    "In this section, detect and document at least **eight (8) quality issues and two (2) tidiness issue**. You must use **both** visual assessment\n",
    "programmatic assessement to assess the data.\n",
    "\n",
    "**Note:** pay attention to the following key points when you access the data.\n",
    "\n",
    "* You only want original ratings (no retweets) that have images. Though there are 5000+ tweets in the dataset, not all are dog ratings and some are retweets.\n",
    "* Assessing and cleaning the entire dataset completely would require a lot of time, and is not necessary to practice and demonstrate your skills in data wrangling. Therefore, the requirements of this project are only to assess and clean at least 8 quality issues and at least 2 tidiness issues in this dataset.\n",
    "* The fact that the rating numerators are greater than the denominators does not need to be cleaned. This [unique rating system](http://knowyourmeme.com/memes/theyre-good-dogs-brent) is a big part of the popularity of WeRateDogs.\n",
    "* You do not need to gather the tweets beyond August 1st, 2017. You can, but note that you won't be able to gather the image predictions for these tweets since you don't have access to the algorithm used.\n",
    "\n"
   ]
  },
  {
   "cell_type": "code",
   "execution_count": 37,
   "metadata": {},
   "outputs": [
    {
     "data": {
      "text/html": [
       "<div>\n",
       "<style scoped>\n",
       "    .dataframe tbody tr th:only-of-type {\n",
       "        vertical-align: middle;\n",
       "    }\n",
       "\n",
       "    .dataframe tbody tr th {\n",
       "        vertical-align: top;\n",
       "    }\n",
       "\n",
       "    .dataframe thead th {\n",
       "        text-align: right;\n",
       "    }\n",
       "</style>\n",
       "<table border=\"1\" class=\"dataframe\">\n",
       "  <thead>\n",
       "    <tr style=\"text-align: right;\">\n",
       "      <th></th>\n",
       "      <th>tweet_id</th>\n",
       "      <th>in_reply_to_status_id</th>\n",
       "      <th>in_reply_to_user_id</th>\n",
       "      <th>timestamp</th>\n",
       "      <th>source</th>\n",
       "      <th>text</th>\n",
       "      <th>retweeted_status_id</th>\n",
       "      <th>retweeted_status_user_id</th>\n",
       "      <th>retweeted_status_timestamp</th>\n",
       "      <th>expanded_urls</th>\n",
       "      <th>rating_numerator</th>\n",
       "      <th>rating_denominator</th>\n",
       "      <th>name</th>\n",
       "      <th>doggo</th>\n",
       "      <th>floofer</th>\n",
       "      <th>pupper</th>\n",
       "      <th>puppo</th>\n",
       "    </tr>\n",
       "  </thead>\n",
       "  <tbody>\n",
       "    <tr>\n",
       "      <th>0</th>\n",
       "      <td>892420643555336193</td>\n",
       "      <td>NaN</td>\n",
       "      <td>NaN</td>\n",
       "      <td>2017-08-01 16:23:56 +0000</td>\n",
       "      <td>&lt;a href=\"http://twitter.com/download/iphone\" r...</td>\n",
       "      <td>This is Phineas. He's a mystical boy. Only eve...</td>\n",
       "      <td>NaN</td>\n",
       "      <td>NaN</td>\n",
       "      <td>NaN</td>\n",
       "      <td>https://twitter.com/dog_rates/status/892420643...</td>\n",
       "      <td>13</td>\n",
       "      <td>10</td>\n",
       "      <td>Phineas</td>\n",
       "      <td>None</td>\n",
       "      <td>None</td>\n",
       "      <td>None</td>\n",
       "      <td>None</td>\n",
       "    </tr>\n",
       "    <tr>\n",
       "      <th>1</th>\n",
       "      <td>892177421306343426</td>\n",
       "      <td>NaN</td>\n",
       "      <td>NaN</td>\n",
       "      <td>2017-08-01 00:17:27 +0000</td>\n",
       "      <td>&lt;a href=\"http://twitter.com/download/iphone\" r...</td>\n",
       "      <td>This is Tilly. She's just checking pup on you....</td>\n",
       "      <td>NaN</td>\n",
       "      <td>NaN</td>\n",
       "      <td>NaN</td>\n",
       "      <td>https://twitter.com/dog_rates/status/892177421...</td>\n",
       "      <td>13</td>\n",
       "      <td>10</td>\n",
       "      <td>Tilly</td>\n",
       "      <td>None</td>\n",
       "      <td>None</td>\n",
       "      <td>None</td>\n",
       "      <td>None</td>\n",
       "    </tr>\n",
       "  </tbody>\n",
       "</table>\n",
       "</div>"
      ],
      "text/plain": [
       "             tweet_id  in_reply_to_status_id  in_reply_to_user_id  \\\n",
       "0  892420643555336193                    NaN                  NaN   \n",
       "1  892177421306343426                    NaN                  NaN   \n",
       "\n",
       "                   timestamp  \\\n",
       "0  2017-08-01 16:23:56 +0000   \n",
       "1  2017-08-01 00:17:27 +0000   \n",
       "\n",
       "                                              source  \\\n",
       "0  <a href=\"http://twitter.com/download/iphone\" r...   \n",
       "1  <a href=\"http://twitter.com/download/iphone\" r...   \n",
       "\n",
       "                                                text  retweeted_status_id  \\\n",
       "0  This is Phineas. He's a mystical boy. Only eve...                  NaN   \n",
       "1  This is Tilly. She's just checking pup on you....                  NaN   \n",
       "\n",
       "   retweeted_status_user_id retweeted_status_timestamp  \\\n",
       "0                       NaN                        NaN   \n",
       "1                       NaN                        NaN   \n",
       "\n",
       "                                       expanded_urls  rating_numerator  \\\n",
       "0  https://twitter.com/dog_rates/status/892420643...                13   \n",
       "1  https://twitter.com/dog_rates/status/892177421...                13   \n",
       "\n",
       "   rating_denominator     name doggo floofer pupper puppo  \n",
       "0                  10  Phineas  None    None   None  None  \n",
       "1                  10    Tilly  None    None   None  None  "
      ]
     },
     "execution_count": 37,
     "metadata": {},
     "output_type": "execute_result"
    }
   ],
   "source": [
    "archive_enhanced.head(2)"
   ]
  },
  {
   "cell_type": "code",
   "execution_count": 90,
   "metadata": {},
   "outputs": [
    {
     "data": {
      "text/html": [
       "<div>\n",
       "<style scoped>\n",
       "    .dataframe tbody tr th:only-of-type {\n",
       "        vertical-align: middle;\n",
       "    }\n",
       "\n",
       "    .dataframe tbody tr th {\n",
       "        vertical-align: top;\n",
       "    }\n",
       "\n",
       "    .dataframe thead th {\n",
       "        text-align: right;\n",
       "    }\n",
       "</style>\n",
       "<table border=\"1\" class=\"dataframe\">\n",
       "  <thead>\n",
       "    <tr style=\"text-align: right;\">\n",
       "      <th></th>\n",
       "      <th>tweet_id</th>\n",
       "      <th>jpg_url</th>\n",
       "      <th>img_num</th>\n",
       "      <th>p1</th>\n",
       "      <th>p1_conf</th>\n",
       "      <th>p1_dog</th>\n",
       "      <th>p2</th>\n",
       "      <th>p2_conf</th>\n",
       "      <th>p2_dog</th>\n",
       "      <th>p3</th>\n",
       "      <th>p3_conf</th>\n",
       "      <th>p3_dog</th>\n",
       "    </tr>\n",
       "  </thead>\n",
       "  <tbody>\n",
       "    <tr>\n",
       "      <th>2073</th>\n",
       "      <td>892177421306343426</td>\n",
       "      <td>https://pbs.twimg.com/media/DGGmoV4XsAAUL6n.jpg</td>\n",
       "      <td>1</td>\n",
       "      <td>Chihuahua</td>\n",
       "      <td>0.323581</td>\n",
       "      <td>True</td>\n",
       "      <td>Pekinese</td>\n",
       "      <td>0.090647</td>\n",
       "      <td>True</td>\n",
       "      <td>papillon</td>\n",
       "      <td>0.068957</td>\n",
       "      <td>True</td>\n",
       "    </tr>\n",
       "    <tr>\n",
       "      <th>2074</th>\n",
       "      <td>892420643555336193</td>\n",
       "      <td>https://pbs.twimg.com/media/DGKD1-bXoAAIAUK.jpg</td>\n",
       "      <td>1</td>\n",
       "      <td>orange</td>\n",
       "      <td>0.097049</td>\n",
       "      <td>False</td>\n",
       "      <td>bagel</td>\n",
       "      <td>0.085851</td>\n",
       "      <td>False</td>\n",
       "      <td>banana</td>\n",
       "      <td>0.076110</td>\n",
       "      <td>False</td>\n",
       "    </tr>\n",
       "  </tbody>\n",
       "</table>\n",
       "</div>"
      ],
      "text/plain": [
       "                tweet_id                                          jpg_url  \\\n",
       "2073  892177421306343426  https://pbs.twimg.com/media/DGGmoV4XsAAUL6n.jpg   \n",
       "2074  892420643555336193  https://pbs.twimg.com/media/DGKD1-bXoAAIAUK.jpg   \n",
       "\n",
       "      img_num         p1   p1_conf  p1_dog        p2   p2_conf  p2_dog  \\\n",
       "2073        1  Chihuahua  0.323581    True  Pekinese  0.090647    True   \n",
       "2074        1     orange  0.097049   False     bagel  0.085851   False   \n",
       "\n",
       "            p3   p3_conf  p3_dog  \n",
       "2073  papillon  0.068957    True  \n",
       "2074    banana  0.076110   False  "
      ]
     },
     "execution_count": 90,
     "metadata": {},
     "output_type": "execute_result"
    }
   ],
   "source": [
    "img_pred.tail(2)"
   ]
  },
  {
   "cell_type": "code",
   "execution_count": 88,
   "metadata": {},
   "outputs": [
    {
     "name": "stdout",
     "output_type": "stream",
     "text": [
      "<class 'pandas.core.frame.DataFrame'>\n",
      "RangeIndex: 2075 entries, 0 to 2074\n",
      "Data columns (total 12 columns):\n",
      " #   Column    Non-Null Count  Dtype  \n",
      "---  ------    --------------  -----  \n",
      " 0   tweet_id  2075 non-null   int64  \n",
      " 1   jpg_url   2075 non-null   object \n",
      " 2   img_num   2075 non-null   int64  \n",
      " 3   p1        2075 non-null   object \n",
      " 4   p1_conf   2075 non-null   float64\n",
      " 5   p1_dog    2075 non-null   bool   \n",
      " 6   p2        2075 non-null   object \n",
      " 7   p2_conf   2075 non-null   float64\n",
      " 8   p2_dog    2075 non-null   bool   \n",
      " 9   p3        2075 non-null   object \n",
      " 10  p3_conf   2075 non-null   float64\n",
      " 11  p3_dog    2075 non-null   bool   \n",
      "dtypes: bool(3), float64(3), int64(2), object(4)\n",
      "memory usage: 152.1+ KB\n"
     ]
    }
   ],
   "source": [
    "img_pred.info()"
   ]
  },
  {
   "cell_type": "code",
   "execution_count": 89,
   "metadata": {},
   "outputs": [
    {
     "name": "stdout",
     "output_type": "stream",
     "text": [
      "<class 'pandas.core.frame.DataFrame'>\n",
      "RangeIndex: 2356 entries, 0 to 2355\n",
      "Data columns (total 17 columns):\n",
      " #   Column                      Non-Null Count  Dtype  \n",
      "---  ------                      --------------  -----  \n",
      " 0   tweet_id                    2356 non-null   int64  \n",
      " 1   in_reply_to_status_id       78 non-null     float64\n",
      " 2   in_reply_to_user_id         78 non-null     float64\n",
      " 3   timestamp                   2356 non-null   object \n",
      " 4   source                      2356 non-null   object \n",
      " 5   text                        2356 non-null   object \n",
      " 6   retweeted_status_id         181 non-null    float64\n",
      " 7   retweeted_status_user_id    181 non-null    float64\n",
      " 8   retweeted_status_timestamp  181 non-null    object \n",
      " 9   expanded_urls               2297 non-null   object \n",
      " 10  rating_numerator            2356 non-null   int64  \n",
      " 11  rating_denominator          2356 non-null   int64  \n",
      " 12  name                        2356 non-null   object \n",
      " 13  doggo                       2356 non-null   object \n",
      " 14  floofer                     2356 non-null   object \n",
      " 15  pupper                      2356 non-null   object \n",
      " 16  puppo                       2356 non-null   object \n",
      "dtypes: float64(4), int64(3), object(10)\n",
      "memory usage: 313.0+ KB\n"
     ]
    }
   ],
   "source": [
    "archive_enhanced.info()"
   ]
  },
  {
   "cell_type": "code",
   "execution_count": 46,
   "metadata": {},
   "outputs": [
    {
     "name": "stdout",
     "output_type": "stream",
     "text": [
      "<class 'pandas.core.frame.DataFrame'>\n",
      "RangeIndex: 1633 entries, 0 to 1632\n",
      "Data columns (total 6 columns):\n",
      " #   Column          Non-Null Count  Dtype \n",
      "---  ------          --------------  ----- \n",
      " 0   tweet_id        1633 non-null   object\n",
      " 1   description     1633 non-null   object\n",
      " 2   favorite_count  1233 non-null   object\n",
      " 3   retweet_count   1233 non-null   object\n",
      " 4   url             1633 non-null   object\n",
      " 5   followers       1633 non-null   object\n",
      "dtypes: object(6)\n",
      "memory usage: 76.7+ KB\n"
     ]
    }
   ],
   "source": [
    "chosen_data.info()"
   ]
  },
  {
   "cell_type": "code",
   "execution_count": 5,
   "metadata": {},
   "outputs": [
    {
     "name": "stdout",
     "output_type": "stream",
     "text": [
      "<class 'pandas.core.frame.DataFrame'>\n",
      "RangeIndex: 1633 entries, 0 to 1632\n",
      "Columns: 257 entries, 0 to 256\n",
      "dtypes: object(257)\n",
      "memory usage: 3.2+ MB\n"
     ]
    }
   ],
   "source": [
    "data.info()"
   ]
  },
  {
   "cell_type": "code",
   "execution_count": 7,
   "metadata": {},
   "outputs": [
    {
     "data": {
      "text/plain": [
       "(1633, 257)"
      ]
     },
     "execution_count": 7,
     "metadata": {},
     "output_type": "execute_result"
    }
   ],
   "source": [
    "data.shape"
   ]
  },
  {
   "cell_type": "code",
   "execution_count": 8,
   "metadata": {},
   "outputs": [
    {
     "data": {
      "text/html": [
       "<div>\n",
       "<style scoped>\n",
       "    .dataframe tbody tr th:only-of-type {\n",
       "        vertical-align: middle;\n",
       "    }\n",
       "\n",
       "    .dataframe tbody tr th {\n",
       "        vertical-align: top;\n",
       "    }\n",
       "\n",
       "    .dataframe thead th {\n",
       "        text-align: right;\n",
       "    }\n",
       "</style>\n",
       "<table border=\"1\" class=\"dataframe\">\n",
       "  <thead>\n",
       "    <tr style=\"text-align: right;\">\n",
       "      <th></th>\n",
       "      <th>0</th>\n",
       "      <th>1</th>\n",
       "      <th>2</th>\n",
       "      <th>3</th>\n",
       "      <th>4</th>\n",
       "      <th>5</th>\n",
       "      <th>6</th>\n",
       "      <th>7</th>\n",
       "      <th>8</th>\n",
       "      <th>9</th>\n",
       "      <th>...</th>\n",
       "      <th>247</th>\n",
       "      <th>248</th>\n",
       "      <th>249</th>\n",
       "      <th>250</th>\n",
       "      <th>251</th>\n",
       "      <th>252</th>\n",
       "      <th>253</th>\n",
       "      <th>254</th>\n",
       "      <th>255</th>\n",
       "      <th>256</th>\n",
       "    </tr>\n",
       "  </thead>\n",
       "  <tbody>\n",
       "    <tr>\n",
       "      <th>0</th>\n",
       "      <td>{\"created_at\":</td>\n",
       "      <td>Tue Aug 01 16:23:56 +0000 2017,</td>\n",
       "      <td>id:</td>\n",
       "      <td>892420643555336193,</td>\n",
       "      <td>id_str:</td>\n",
       "      <td>892420643555336193,</td>\n",
       "      <td>text:</td>\n",
       "      <td>This is Phineas. He's a mystical boy. Only eve...</td>\n",
       "      <td>truncated:</td>\n",
       "      <td>false,</td>\n",
       "      <td>...</td>\n",
       "      <td>favorited:</td>\n",
       "      <td>false,</td>\n",
       "      <td>retweeted:</td>\n",
       "      <td>false,</td>\n",
       "      <td>possibly_sensitive:</td>\n",
       "      <td>false,</td>\n",
       "      <td>possibly_sensitive_appealable:</td>\n",
       "      <td>false,</td>\n",
       "      <td>lang:</td>\n",
       "      <td>en}</td>\n",
       "    </tr>\n",
       "    <tr>\n",
       "      <th>1</th>\n",
       "      <td>{\"created_at\":</td>\n",
       "      <td>Tue Aug 01 00:17:27 +0000 2017,</td>\n",
       "      <td>id:</td>\n",
       "      <td>892177421306343426,</td>\n",
       "      <td>id_str:</td>\n",
       "      <td>892177421306343426,</td>\n",
       "      <td>text:</td>\n",
       "      <td>This is Tilly. She's just checking pup on you....</td>\n",
       "      <td>truncated:</td>\n",
       "      <td>true,</td>\n",
       "      <td>...</td>\n",
       "      <td>NaN</td>\n",
       "      <td>NaN</td>\n",
       "      <td>NaN</td>\n",
       "      <td>NaN</td>\n",
       "      <td>NaN</td>\n",
       "      <td>NaN</td>\n",
       "      <td>NaN</td>\n",
       "      <td>NaN</td>\n",
       "      <td>NaN</td>\n",
       "      <td>NaN</td>\n",
       "    </tr>\n",
       "    <tr>\n",
       "      <th>2</th>\n",
       "      <td>{\"created_at\":</td>\n",
       "      <td>Mon Jul 31 00:18:03 +0000 2017,</td>\n",
       "      <td>id:</td>\n",
       "      <td>891815181378084864,</td>\n",
       "      <td>id_str:</td>\n",
       "      <td>891815181378084864,</td>\n",
       "      <td>text:</td>\n",
       "      <td>This is Archie. He is a rare Norwegian Pouncin...</td>\n",
       "      <td>truncated:</td>\n",
       "      <td>true,</td>\n",
       "      <td>...</td>\n",
       "      <td>NaN</td>\n",
       "      <td>NaN</td>\n",
       "      <td>NaN</td>\n",
       "      <td>NaN</td>\n",
       "      <td>NaN</td>\n",
       "      <td>NaN</td>\n",
       "      <td>NaN</td>\n",
       "      <td>NaN</td>\n",
       "      <td>NaN</td>\n",
       "      <td>NaN</td>\n",
       "    </tr>\n",
       "  </tbody>\n",
       "</table>\n",
       "<p>3 rows × 257 columns</p>\n",
       "</div>"
      ],
      "text/plain": [
       "              0                                1    2                    3    \\\n",
       "0  {\"created_at\":  Tue Aug 01 16:23:56 +0000 2017,  id:  892420643555336193,   \n",
       "1  {\"created_at\":  Tue Aug 01 00:17:27 +0000 2017,  id:  892177421306343426,   \n",
       "2  {\"created_at\":  Mon Jul 31 00:18:03 +0000 2017,  id:  891815181378084864,   \n",
       "\n",
       "       4                    5      6    \\\n",
       "0  id_str:  892420643555336193,  text:   \n",
       "1  id_str:  892177421306343426,  text:   \n",
       "2  id_str:  891815181378084864,  text:   \n",
       "\n",
       "                                                 7           8       9    ...  \\\n",
       "0  This is Phineas. He's a mystical boy. Only eve...  truncated:  false,  ...   \n",
       "1  This is Tilly. She's just checking pup on you....  truncated:   true,  ...   \n",
       "2  This is Archie. He is a rare Norwegian Pouncin...  truncated:   true,  ...   \n",
       "\n",
       "          247     248         249     250                  251     252  \\\n",
       "0  favorited:  false,  retweeted:  false,  possibly_sensitive:  false,   \n",
       "1         NaN     NaN         NaN     NaN                  NaN     NaN   \n",
       "2         NaN     NaN         NaN     NaN                  NaN     NaN   \n",
       "\n",
       "                              253     254    255  256  \n",
       "0  possibly_sensitive_appealable:  false,  lang:  en}  \n",
       "1                             NaN     NaN    NaN  NaN  \n",
       "2                             NaN     NaN    NaN  NaN  \n",
       "\n",
       "[3 rows x 257 columns]"
      ]
     },
     "execution_count": 8,
     "metadata": {},
     "output_type": "execute_result"
    }
   ],
   "source": [
    "data.head(3)"
   ]
  },
  {
   "cell_type": "code",
   "execution_count": 9,
   "metadata": {},
   "outputs": [],
   "source": [
    "#creating copy of the data obtained from twitter api \n",
    "specific_data = data.copy()"
   ]
  },
  {
   "cell_type": "code",
   "execution_count": 10,
   "metadata": {},
   "outputs": [],
   "source": [
    "specific_data.to_csv(\"spec.csv\")"
   ]
  },
  {
   "cell_type": "code",
   "execution_count": 11,
   "metadata": {},
   "outputs": [
    {
     "data": {
      "text/html": [
       "<div>\n",
       "<style scoped>\n",
       "    .dataframe tbody tr th:only-of-type {\n",
       "        vertical-align: middle;\n",
       "    }\n",
       "\n",
       "    .dataframe tbody tr th {\n",
       "        vertical-align: top;\n",
       "    }\n",
       "\n",
       "    .dataframe thead th {\n",
       "        text-align: right;\n",
       "    }\n",
       "</style>\n",
       "<table border=\"1\" class=\"dataframe\">\n",
       "  <thead>\n",
       "    <tr style=\"text-align: right;\">\n",
       "      <th></th>\n",
       "      <th>0</th>\n",
       "      <th>1</th>\n",
       "      <th>2</th>\n",
       "      <th>3</th>\n",
       "      <th>4</th>\n",
       "      <th>5</th>\n",
       "      <th>6</th>\n",
       "      <th>7</th>\n",
       "      <th>8</th>\n",
       "      <th>9</th>\n",
       "      <th>...</th>\n",
       "      <th>247</th>\n",
       "      <th>248</th>\n",
       "      <th>249</th>\n",
       "      <th>250</th>\n",
       "      <th>251</th>\n",
       "      <th>252</th>\n",
       "      <th>253</th>\n",
       "      <th>254</th>\n",
       "      <th>255</th>\n",
       "      <th>256</th>\n",
       "    </tr>\n",
       "  </thead>\n",
       "  <tbody>\n",
       "    <tr>\n",
       "      <th>0</th>\n",
       "      <td>{\"created_at\":</td>\n",
       "      <td>Tue Aug 01 16:23:56 +0000 2017,</td>\n",
       "      <td>id:</td>\n",
       "      <td>892420643555336193,</td>\n",
       "      <td>id_str:</td>\n",
       "      <td>892420643555336193,</td>\n",
       "      <td>text:</td>\n",
       "      <td>This is Phineas. He's a mystical boy. Only eve...</td>\n",
       "      <td>truncated:</td>\n",
       "      <td>false,</td>\n",
       "      <td>...</td>\n",
       "      <td>favorited:</td>\n",
       "      <td>false,</td>\n",
       "      <td>retweeted:</td>\n",
       "      <td>false,</td>\n",
       "      <td>possibly_sensitive:</td>\n",
       "      <td>false,</td>\n",
       "      <td>possibly_sensitive_appealable:</td>\n",
       "      <td>false,</td>\n",
       "      <td>lang:</td>\n",
       "      <td>en}</td>\n",
       "    </tr>\n",
       "  </tbody>\n",
       "</table>\n",
       "<p>1 rows × 257 columns</p>\n",
       "</div>"
      ],
      "text/plain": [
       "              0                                1    2                    3    \\\n",
       "0  {\"created_at\":  Tue Aug 01 16:23:56 +0000 2017,  id:  892420643555336193,   \n",
       "\n",
       "       4                    5      6    \\\n",
       "0  id_str:  892420643555336193,  text:   \n",
       "\n",
       "                                                 7           8       9    ...  \\\n",
       "0  This is Phineas. He's a mystical boy. Only eve...  truncated:  false,  ...   \n",
       "\n",
       "          247     248         249     250                  251     252  \\\n",
       "0  favorited:  false,  retweeted:  false,  possibly_sensitive:  false,   \n",
       "\n",
       "                              253     254    255  256  \n",
       "0  possibly_sensitive_appealable:  false,  lang:  en}  \n",
       "\n",
       "[1 rows x 257 columns]"
      ]
     },
     "execution_count": 11,
     "metadata": {},
     "output_type": "execute_result"
    }
   ],
   "source": [
    "specific_data.head(1)"
   ]
  },
  {
   "cell_type": "code",
   "execution_count": 12,
   "metadata": {},
   "outputs": [
    {
     "name": "stderr",
     "output_type": "stream",
     "text": [
      "b'Skipping line 5: expected 258 fields, saw 325\\nSkipping line 6: expected 258 fields, saw 262\\nSkipping line 7: expected 258 fields, saw 266\\nSkipping line 8: expected 258 fields, saw 306\\nSkipping line 9: expected 258 fields, saw 262\\nSkipping line 11: expected 258 fields, saw 310\\nSkipping line 14: expected 258 fields, saw 306\\nSkipping line 15: expected 258 fields, saw 262\\nSkipping line 16: expected 258 fields, saw 282\\nSkipping line 18: expected 258 fields, saw 306\\nSkipping line 19: expected 258 fields, saw 402\\nSkipping line 20: expected 258 fields, saw 306\\nSkipping line 22: expected 258 fields, saw 284\\nSkipping line 23: expected 258 fields, saw 306\\nSkipping line 24: expected 258 fields, saw 290\\nSkipping line 26: expected 258 fields, saw 306\\nSkipping line 27: expected 258 fields, saw 314\\nSkipping line 29: expected 258 fields, saw 306\\nSkipping line 32: expected 258 fields, saw 638\\nSkipping line 35: expected 258 fields, saw 461\\nSkipping line 36: expected 258 fields, saw 647\\nSkipping line 37: expected 258 fields, saw 402\\nSkipping line 39: expected 258 fields, saw 402\\nSkipping line 42: expected 258 fields, saw 467\\nSkipping line 45: expected 258 fields, saw 306\\nSkipping line 47: expected 258 fields, saw 306\\nSkipping line 48: expected 258 fields, saw 306\\nSkipping line 51: expected 258 fields, saw 354\\nSkipping line 52: expected 258 fields, saw 402\\nSkipping line 56: expected 258 fields, saw 284\\nSkipping line 57: expected 258 fields, saw 262\\nSkipping line 60: expected 258 fields, saw 402\\nSkipping line 61: expected 258 fields, saw 306\\nSkipping line 62: expected 258 fields, saw 268\\nSkipping line 63: expected 258 fields, saw 354\\nSkipping line 66: expected 258 fields, saw 284\\nSkipping line 68: expected 258 fields, saw 472\\nSkipping line 71: expected 258 fields, saw 315\\nSkipping line 72: expected 258 fields, saw 337\\nSkipping line 73: expected 258 fields, saw 432\\nSkipping line 74: expected 258 fields, saw 424\\nSkipping line 75: expected 258 fields, saw 266\\nSkipping line 76: expected 258 fields, saw 306\\nSkipping line 77: expected 258 fields, saw 306\\nSkipping line 78: expected 258 fields, saw 657\\nSkipping line 80: expected 258 fields, saw 306\\nSkipping line 81: expected 258 fields, saw 306\\nSkipping line 82: expected 258 fields, saw 306\\nSkipping line 83: expected 258 fields, saw 442\\nSkipping line 87: expected 258 fields, saw 290\\nSkipping line 88: expected 258 fields, saw 459\\nSkipping line 89: expected 258 fields, saw 306\\nSkipping line 91: expected 258 fields, saw 472\\nSkipping line 94: expected 258 fields, saw 310\\nSkipping line 95: expected 258 fields, saw 543\\nSkipping line 97: expected 258 fields, saw 480\\nSkipping line 98: expected 258 fields, saw 314\\nSkipping line 99: expected 258 fields, saw 306\\nSkipping line 100: expected 258 fields, saw 406\\nSkipping line 101: expected 258 fields, saw 434\\nSkipping line 102: expected 258 fields, saw 262\\nSkipping line 104: expected 258 fields, saw 306\\nSkipping line 105: expected 258 fields, saw 306\\nSkipping line 106: expected 258 fields, saw 310\\nSkipping line 107: expected 258 fields, saw 354\\nSkipping line 108: expected 258 fields, saw 306\\nSkipping line 109: expected 258 fields, saw 424\\nSkipping line 110: expected 258 fields, saw 470\\nSkipping line 114: expected 258 fields, saw 410\\nSkipping line 116: expected 258 fields, saw 306\\nSkipping line 117: expected 258 fields, saw 306\\nSkipping line 118: expected 258 fields, saw 450\\nSkipping line 119: expected 258 fields, saw 272\\nSkipping line 121: expected 258 fields, saw 306\\nSkipping line 124: expected 258 fields, saw 480\\nSkipping line 126: expected 258 fields, saw 314\\nSkipping line 127: expected 258 fields, saw 266\\nSkipping line 128: expected 258 fields, saw 306\\nSkipping line 130: expected 258 fields, saw 668\\nSkipping line 132: expected 258 fields, saw 472\\nSkipping line 133: expected 258 fields, saw 453\\nSkipping line 134: expected 258 fields, saw 306\\nSkipping line 135: expected 258 fields, saw 306\\nSkipping line 136: expected 258 fields, saw 306\\nSkipping line 137: expected 258 fields, saw 496\\nSkipping line 139: expected 258 fields, saw 306\\nSkipping line 141: expected 258 fields, saw 306\\nSkipping line 142: expected 258 fields, saw 306\\nSkipping line 143: expected 258 fields, saw 402\\nSkipping line 144: expected 258 fields, saw 306\\nSkipping line 145: expected 258 fields, saw 288\\nSkipping line 146: expected 258 fields, saw 576\\nSkipping line 150: expected 258 fields, saw 410\\nSkipping line 151: expected 258 fields, saw 306\\nSkipping line 153: expected 258 fields, saw 354\\nSkipping line 154: expected 258 fields, saw 306\\nSkipping line 155: expected 258 fields, saw 679\\nSkipping line 157: expected 258 fields, saw 284\\nSkipping line 159: expected 258 fields, saw 480\\nSkipping line 160: expected 258 fields, saw 657\\nSkipping line 161: expected 258 fields, saw 314\\nSkipping line 165: expected 258 fields, saw 456\\nSkipping line 167: expected 258 fields, saw 402\\nSkipping line 169: expected 258 fields, saw 284\\nSkipping line 171: expected 258 fields, saw 424\\nSkipping line 176: expected 258 fields, saw 354\\nSkipping line 177: expected 258 fields, saw 410\\nSkipping line 180: expected 258 fields, saw 487\\nSkipping line 181: expected 258 fields, saw 306\\nSkipping line 182: expected 258 fields, saw 424\\nSkipping line 185: expected 258 fields, saw 359\\nSkipping line 187: expected 258 fields, saw 402\\nSkipping line 190: expected 258 fields, saw 497\\nSkipping line 191: expected 258 fields, saw 262\\nSkipping line 192: expected 258 fields, saw 429\\nSkipping line 193: expected 258 fields, saw 306\\nSkipping line 194: expected 258 fields, saw 472\\nSkipping line 195: expected 258 fields, saw 445\\nSkipping line 196: expected 258 fields, saw 402\\nSkipping line 198: expected 258 fields, saw 306\\nSkipping line 199: expected 258 fields, saw 402\\nSkipping line 200: expected 258 fields, saw 306\\nSkipping line 202: expected 258 fields, saw 306\\nSkipping line 203: expected 258 fields, saw 306\\nSkipping line 204: expected 258 fields, saw 576\\nSkipping line 205: expected 258 fields, saw 314\\nSkipping line 207: expected 258 fields, saw 306\\nSkipping line 209: expected 258 fields, saw 290\\nSkipping line 211: expected 258 fields, saw 647\\nSkipping line 212: expected 258 fields, saw 564\\nSkipping line 214: expected 258 fields, saw 402\\nSkipping line 215: expected 258 fields, saw 402\\nSkipping line 216: expected 258 fields, saw 306\\nSkipping line 217: expected 258 fields, saw 284\\nSkipping line 219: expected 258 fields, saw 402\\nSkipping line 220: expected 258 fields, saw 354\\nSkipping line 221: expected 258 fields, saw 306\\nSkipping line 222: expected 258 fields, saw 520\\nSkipping line 223: expected 258 fields, saw 402\\nSkipping line 230: expected 258 fields, saw 424\\nSkipping line 231: expected 258 fields, saw 564\\nSkipping line 233: expected 258 fields, saw 266\\nSkipping line 236: expected 258 fields, saw 306\\nSkipping line 237: expected 258 fields, saw 314\\nSkipping line 239: expected 258 fields, saw 306\\nSkipping line 240: expected 258 fields, saw 354\\nSkipping line 241: expected 258 fields, saw 349\\nSkipping line 242: expected 258 fields, saw 306\\nSkipping line 243: expected 258 fields, saw 460\\nSkipping line 245: expected 258 fields, saw 402\\nSkipping line 247: expected 258 fields, saw 568\\nSkipping line 248: expected 258 fields, saw 314\\nSkipping line 250: expected 258 fields, saw 424\\nSkipping line 251: expected 258 fields, saw 354\\nSkipping line 259: expected 258 fields, saw 354\\nSkipping line 260: expected 258 fields, saw 693\\nSkipping line 262: expected 258 fields, saw 314\\nSkipping line 264: expected 258 fields, saw 306\\nSkipping line 265: expected 258 fields, saw 354\\nSkipping line 266: expected 258 fields, saw 705\\nSkipping line 268: expected 258 fields, saw 406\\nSkipping line 269: expected 258 fields, saw 482\\nSkipping line 270: expected 258 fields, saw 284\\nSkipping line 272: expected 258 fields, saw 432\\nSkipping line 273: expected 258 fields, saw 424\\nSkipping line 276: expected 258 fields, saw 266\\nSkipping line 278: expected 258 fields, saw 402\\nSkipping line 279: expected 258 fields, saw 306\\nSkipping line 281: expected 258 fields, saw 679\\nSkipping line 282: expected 258 fields, saw 354\\nSkipping line 283: expected 258 fields, saw 436\\nSkipping line 285: expected 258 fields, saw 676\\nSkipping line 286: expected 258 fields, saw 520\\nSkipping line 288: expected 258 fields, saw 354\\nSkipping line 289: expected 258 fields, saw 472\\nSkipping line 292: expected 258 fields, saw 306\\nSkipping line 293: expected 258 fields, saw 318\\nSkipping line 294: expected 258 fields, saw 316\\nSkipping line 295: expected 258 fields, saw 306\\nSkipping line 298: expected 258 fields, saw 553\\nSkipping line 301: expected 258 fields, saw 306\\nSkipping line 302: expected 258 fields, saw 445\\nSkipping line 303: expected 258 fields, saw 450\\nSkipping line 306: expected 258 fields, saw 402\\nSkipping line 307: expected 258 fields, saw 424\\nSkipping line 308: expected 258 fields, saw 306\\nSkipping line 309: expected 258 fields, saw 480\\nSkipping line 310: expected 258 fields, saw 347\\nSkipping line 312: expected 258 fields, saw 314\\nSkipping line 314: expected 258 fields, saw 306\\nSkipping line 315: expected 258 fields, saw 354\\nSkipping line 316: expected 258 fields, saw 354\\nSkipping line 319: expected 258 fields, saw 472\\nSkipping line 321: expected 258 fields, saw 306\\nSkipping line 323: expected 258 fields, saw 439\\nSkipping line 325: expected 258 fields, saw 306\\nSkipping line 326: expected 258 fields, saw 306\\nSkipping line 327: expected 258 fields, saw 456\\nSkipping line 328: expected 258 fields, saw 306\\nSkipping line 329: expected 258 fields, saw 354\\nSkipping line 330: expected 258 fields, saw 354\\nSkipping line 331: expected 258 fields, saw 306\\nSkipping line 332: expected 258 fields, saw 657\\nSkipping line 333: expected 258 fields, saw 306\\nSkipping line 334: expected 258 fields, saw 436\\nSkipping line 337: expected 258 fields, saw 306\\nSkipping line 339: expected 258 fields, saw 290\\nSkipping line 340: expected 258 fields, saw 424\\nSkipping line 341: expected 258 fields, saw 647\\nSkipping line 343: expected 258 fields, saw 647\\nSkipping line 344: expected 258 fields, saw 410\\nSkipping line 347: expected 258 fields, saw 402\\nSkipping line 349: expected 258 fields, saw 410\\nSkipping line 352: expected 258 fields, saw 406\\nSkipping line 355: expected 258 fields, saw 278\\nSkipping line 356: expected 258 fields, saw 306\\nSkipping line 357: expected 258 fields, saw 472\\nSkipping line 358: expected 258 fields, saw 410\\nSkipping line 359: expected 258 fields, saw 543\\nSkipping line 361: expected 258 fields, saw 306\\nSkipping line 363: expected 258 fields, saw 306\\nSkipping line 364: expected 258 fields, saw 306\\nSkipping line 365: expected 258 fields, saw 306\\nSkipping line 366: expected 258 fields, saw 424\\nSkipping line 368: expected 258 fields, saw 306\\nSkipping line 369: expected 258 fields, saw 354\\nSkipping line 373: expected 258 fields, saw 275\\nSkipping line 376: expected 258 fields, saw 354\\nSkipping line 377: expected 258 fields, saw 306\\nSkipping line 378: expected 258 fields, saw 354\\nSkipping line 380: expected 258 fields, saw 268\\nSkipping line 382: expected 258 fields, saw 472\\nSkipping line 383: expected 258 fields, saw 402\\nSkipping line 385: expected 258 fields, saw 402\\nSkipping line 386: expected 258 fields, saw 424\\nSkipping line 388: expected 258 fields, saw 354\\nSkipping line 391: expected 258 fields, saw 410\\nSkipping line 394: expected 258 fields, saw 306\\nSkipping line 397: expected 258 fields, saw 480\\nSkipping line 398: expected 258 fields, saw 314\\nSkipping line 399: expected 258 fields, saw 751\\nSkipping line 400: expected 258 fields, saw 306\\nSkipping line 402: expected 258 fields, saw 262\\nSkipping line 403: expected 258 fields, saw 306\\nSkipping line 404: expected 258 fields, saw 446\\nSkipping line 406: expected 258 fields, saw 347\\nSkipping line 410: expected 258 fields, saw 306\\nSkipping line 411: expected 258 fields, saw 543\\nSkipping line 413: expected 258 fields, saw 262\\nSkipping line 415: expected 258 fields, saw 751\\nSkipping line 417: expected 258 fields, saw 354\\nSkipping line 418: expected 258 fields, saw 402\\nSkipping line 420: expected 258 fields, saw 424\\nSkipping line 422: expected 258 fields, saw 543\\nSkipping line 425: expected 258 fields, saw 520\\nSkipping line 426: expected 258 fields, saw 288\\nSkipping line 428: expected 258 fields, saw 290\\nSkipping line 431: expected 258 fields, saw 424\\nSkipping line 432: expected 258 fields, saw 306\\nSkipping line 433: expected 258 fields, saw 354\\nSkipping line 434: expected 258 fields, saw 549\\nSkipping line 435: expected 258 fields, saw 751\\nSkipping line 436: expected 258 fields, saw 372\\nSkipping line 437: expected 258 fields, saw 354\\nSkipping line 438: expected 258 fields, saw 432\\nSkipping line 439: expected 258 fields, saw 266\\nSkipping line 440: expected 258 fields, saw 278\\nSkipping line 441: expected 258 fields, saw 306\\nSkipping line 443: expected 258 fields, saw 354\\nSkipping line 446: expected 258 fields, saw 855\\nSkipping line 447: expected 258 fields, saw 855\\nSkipping line 448: expected 258 fields, saw 402\\nSkipping line 449: expected 258 fields, saw 402\\nSkipping line 450: expected 258 fields, saw 347\\nSkipping line 452: expected 258 fields, saw 402\\nSkipping line 453: expected 258 fields, saw 543\\nSkipping line 455: expected 258 fields, saw 472\\nSkipping line 457: expected 258 fields, saw 354\\nSkipping line 458: expected 258 fields, saw 438\\nSkipping line 459: expected 258 fields, saw 284\\nSkipping line 460: expected 258 fields, saw 293\\nSkipping line 461: expected 258 fields, saw 402\\nSkipping line 462: expected 258 fields, saw 424\\nSkipping line 463: expected 258 fields, saw 290\\nSkipping line 464: expected 258 fields, saw 266\\nSkipping line 465: expected 258 fields, saw 681\\nSkipping line 469: expected 258 fields, saw 543\\nSkipping line 471: expected 258 fields, saw 306\\nSkipping line 472: expected 258 fields, saw 306\\nSkipping line 474: expected 258 fields, saw 402\\nSkipping line 475: expected 258 fields, saw 432\\nSkipping line 476: expected 258 fields, saw 647\\nSkipping line 477: expected 258 fields, saw 266\\nSkipping line 478: expected 258 fields, saw 278\\nSkipping line 479: expected 258 fields, saw 568\\nSkipping line 480: expected 258 fields, saw 402\\nSkipping line 484: expected 258 fields, saw 354\\nSkipping line 485: expected 258 fields, saw 424\\nSkipping line 488: expected 258 fields, saw 543\\nSkipping line 490: expected 258 fields, saw 354\\nSkipping line 492: expected 258 fields, saw 402\\nSkipping line 496: expected 258 fields, saw 402\\nSkipping line 497: expected 258 fields, saw 354\\nSkipping line 499: expected 258 fields, saw 306\\nSkipping line 502: expected 258 fields, saw 306\\nSkipping line 505: expected 258 fields, saw 354\\nSkipping line 506: expected 258 fields, saw 452\\nSkipping line 508: expected 258 fields, saw 314\\nSkipping line 510: expected 258 fields, saw 306\\nSkipping line 516: expected 258 fields, saw 266\\nSkipping line 517: expected 258 fields, saw 354\\nSkipping line 519: expected 258 fields, saw 306\\nSkipping line 522: expected 258 fields, saw 647\\nSkipping line 523: expected 258 fields, saw 264\\nSkipping line 524: expected 258 fields, saw 306\\nSkipping line 528: expected 258 fields, saw 306\\nSkipping line 530: expected 258 fields, saw 543\\nSkipping line 532: expected 258 fields, saw 306\\nSkipping line 533: expected 258 fields, saw 402\\nSkipping line 534: expected 258 fields, saw 284\\nSkipping line 535: expected 258 fields, saw 647\\nSkipping line 537: expected 258 fields, saw 322\\nSkipping line 538: expected 258 fields, saw 424\\nSkipping line 539: expected 258 fields, saw 447\\nSkipping line 541: expected 258 fields, saw 751\\nSkipping line 543: expected 258 fields, saw 543\\nSkipping line 545: expected 258 fields, saw 278\\nSkipping line 546: expected 258 fields, saw 347\\nSkipping line 547: expected 258 fields, saw 402\\nSkipping line 548: expected 258 fields, saw 402\\nSkipping line 551: expected 258 fields, saw 457\\nSkipping line 552: expected 258 fields, saw 543\\nSkipping line 553: expected 258 fields, saw 354\\nSkipping line 554: expected 258 fields, saw 402\\nSkipping line 555: expected 258 fields, saw 543\\nSkipping line 556: expected 258 fields, saw 284\\nSkipping line 558: expected 258 fields, saw 424\\nSkipping line 561: expected 258 fields, saw 575\\nSkipping line 564: expected 258 fields, saw 402\\nSkipping line 566: expected 258 fields, saw 647\\nSkipping line 567: expected 258 fields, saw 306\\nSkipping line 568: expected 258 fields, saw 541\\nSkipping line 574: expected 258 fields, saw 424\\nSkipping line 575: expected 258 fields, saw 306\\nSkipping line 577: expected 258 fields, saw 345\\nSkipping line 578: expected 258 fields, saw 354\\nSkipping line 581: expected 258 fields, saw 543\\nSkipping line 582: expected 258 fields, saw 354\\nSkipping line 583: expected 258 fields, saw 424\\nSkipping line 584: expected 258 fields, saw 354\\nSkipping line 585: expected 258 fields, saw 284\\nSkipping line 586: expected 258 fields, saw 543\\nSkipping line 587: expected 258 fields, saw 402\\nSkipping line 589: expected 258 fields, saw 568\\nSkipping line 590: expected 258 fields, saw 306\\nSkipping line 591: expected 258 fields, saw 402\\nSkipping line 592: expected 258 fields, saw 306\\nSkipping line 594: expected 258 fields, saw 424\\nSkipping line 595: expected 258 fields, saw 424\\nSkipping line 596: expected 258 fields, saw 543\\nSkipping line 597: expected 258 fields, saw 543\\nSkipping line 598: expected 258 fields, saw 448\\nSkipping line 599: expected 258 fields, saw 424\\nSkipping line 600: expected 258 fields, saw 543\\nSkipping line 601: expected 258 fields, saw 543\\nSkipping line 602: expected 258 fields, saw 543\\nSkipping line 603: expected 258 fields, saw 543\\nSkipping line 604: expected 258 fields, saw 424\\nSkipping line 605: expected 258 fields, saw 424\\nSkipping line 606: expected 258 fields, saw 543\\nSkipping line 608: expected 258 fields, saw 306\\nSkipping line 609: expected 258 fields, saw 402\\nSkipping line 610: expected 258 fields, saw 306\\nSkipping line 612: expected 258 fields, saw 472\\nSkipping line 614: expected 258 fields, saw 306\\nSkipping line 615: expected 258 fields, saw 424\\nSkipping line 617: expected 258 fields, saw 306\\nSkipping line 618: expected 258 fields, saw 647\\nSkipping line 619: expected 258 fields, saw 306\\nSkipping line 620: expected 258 fields, saw 452\\nSkipping line 624: expected 258 fields, saw 290\\nSkipping line 625: expected 258 fields, saw 402\\nSkipping line 626: expected 258 fields, saw 354\\nSkipping line 627: expected 258 fields, saw 751\\nSkipping line 629: expected 258 fields, saw 543\\nSkipping line 631: expected 258 fields, saw 354\\nSkipping line 632: expected 258 fields, saw 306\\nSkipping line 634: expected 258 fields, saw 543\\nSkipping line 636: expected 258 fields, saw 306\\nSkipping line 637: expected 258 fields, saw 306\\nSkipping line 641: expected 258 fields, saw 354\\nSkipping line 643: expected 258 fields, saw 306\\nSkipping line 647: expected 258 fields, saw 306\\nSkipping line 649: expected 258 fields, saw 402\\nSkipping line 650: expected 258 fields, saw 402\\nSkipping line 652: expected 258 fields, saw 306\\nSkipping line 653: expected 258 fields, saw 306\\nSkipping line 654: expected 258 fields, saw 347\\nSkipping line 655: expected 258 fields, saw 347\\nSkipping line 656: expected 258 fields, saw 347\\nSkipping line 659: expected 258 fields, saw 402\\nSkipping line 660: expected 258 fields, saw 402\\nSkipping line 661: expected 258 fields, saw 543\\nSkipping line 664: expected 258 fields, saw 543\\nSkipping line 666: expected 258 fields, saw 306\\nSkipping line 669: expected 258 fields, saw 424\\nSkipping line 671: expected 258 fields, saw 568\\nSkipping line 674: expected 258 fields, saw 306\\nSkipping line 675: expected 258 fields, saw 354\\nSkipping line 676: expected 258 fields, saw 515\\nSkipping line 677: expected 258 fields, saw 424\\nSkipping line 679: expected 258 fields, saw 354\\nSkipping line 682: expected 258 fields, saw 347\\nSkipping line 683: expected 258 fields, saw 306\\nSkipping line 684: expected 258 fields, saw 402\\nSkipping line 685: expected 258 fields, saw 402\\nSkipping line 686: expected 258 fields, saw 543\\nSkipping line 687: expected 258 fields, saw 306\\nSkipping line 688: expected 258 fields, saw 306\\nSkipping line 689: expected 258 fields, saw 402\\nSkipping line 692: expected 258 fields, saw 347\\nSkipping line 694: expected 258 fields, saw 424\\nSkipping line 696: expected 258 fields, saw 267\\nSkipping line 698: expected 258 fields, saw 402\\nSkipping line 702: expected 258 fields, saw 855\\nSkipping line 704: expected 258 fields, saw 284\\nSkipping line 705: expected 258 fields, saw 306\\nSkipping line 706: expected 258 fields, saw 306\\nSkipping line 709: expected 258 fields, saw 402\\nSkipping line 711: expected 258 fields, saw 354\\nSkipping line 715: expected 258 fields, saw 354\\nSkipping line 716: expected 258 fields, saw 306\\nSkipping line 717: expected 258 fields, saw 354\\nSkipping line 718: expected 258 fields, saw 306\\nSkipping line 719: expected 258 fields, saw 402\\nSkipping line 720: expected 258 fields, saw 543\\nSkipping line 721: expected 258 fields, saw 354\\nSkipping line 722: expected 258 fields, saw 306\\nSkipping line 723: expected 258 fields, saw 306\\nSkipping line 727: expected 258 fields, saw 354\\nSkipping line 728: expected 258 fields, saw 543\\nSkipping line 734: expected 258 fields, saw 306\\nSkipping line 738: expected 258 fields, saw 354\\nSkipping line 741: expected 258 fields, saw 543\\nSkipping line 742: expected 258 fields, saw 602\\nSkipping line 745: expected 258 fields, saw 424\\nSkipping line 747: expected 258 fields, saw 402\\nSkipping line 748: expected 258 fields, saw 284\\nSkipping line 749: expected 258 fields, saw 424\\nSkipping line 751: expected 258 fields, saw 306\\nSkipping line 752: expected 258 fields, saw 306\\nSkipping line 753: expected 258 fields, saw 347\\nSkipping line 755: expected 258 fields, saw 268\\nSkipping line 756: expected 258 fields, saw 357\\nSkipping line 757: expected 258 fields, saw 306\\nSkipping line 758: expected 258 fields, saw 402\\nSkipping line 759: expected 258 fields, saw 543\\nSkipping line 761: expected 258 fields, saw 306\\nSkipping line 762: expected 258 fields, saw 402\\nSkipping line 764: expected 258 fields, saw 424\\nSkipping line 765: expected 258 fields, saw 306\\nSkipping line 766: expected 258 fields, saw 274\\nSkipping line 767: expected 258 fields, saw 647\\nSkipping line 769: expected 258 fields, saw 306\\nSkipping line 770: expected 258 fields, saw 751\\nSkipping line 771: expected 258 fields, saw 306\\nSkipping line 772: expected 258 fields, saw 306\\nSkipping line 773: expected 258 fields, saw 424\\nSkipping line 774: expected 258 fields, saw 354\\nSkipping line 777: expected 258 fields, saw 402\\nSkipping line 778: expected 258 fields, saw 543\\nSkipping line 779: expected 258 fields, saw 306\\nSkipping line 782: expected 258 fields, saw 402\\nSkipping line 784: expected 258 fields, saw 568\\nSkipping line 787: expected 258 fields, saw 306\\nSkipping line 788: expected 258 fields, saw 402\\nSkipping line 789: expected 258 fields, saw 402\\nSkipping line 790: expected 258 fields, saw 269\\nSkipping line 791: expected 258 fields, saw 306\\nSkipping line 794: expected 258 fields, saw 568\\nSkipping line 797: expected 258 fields, saw 306\\nSkipping line 798: expected 258 fields, saw 290\\nSkipping line 800: expected 258 fields, saw 543\\nSkipping line 801: expected 258 fields, saw 354\\nSkipping line 803: expected 258 fields, saw 306\\nSkipping line 807: expected 258 fields, saw 436\\nSkipping line 810: expected 258 fields, saw 402\\nSkipping line 811: expected 258 fields, saw 855\\nSkipping line 813: expected 258 fields, saw 268\\nSkipping line 817: expected 258 fields, saw 456\\nSkipping line 821: expected 258 fields, saw 543\\nSkipping line 823: expected 258 fields, saw 306\\nSkipping line 825: expected 258 fields, saw 368\\nSkipping line 827: expected 258 fields, saw 290\\nSkipping line 828: expected 258 fields, saw 424\\nSkipping line 832: expected 258 fields, saw 424\\nSkipping line 835: expected 258 fields, saw 402\\nSkipping line 839: expected 258 fields, saw 306\\nSkipping line 840: expected 258 fields, saw 424\\nSkipping line 844: expected 258 fields, saw 306\\nSkipping line 846: expected 258 fields, saw 543\\nSkipping line 848: expected 258 fields, saw 268\\nSkipping line 850: expected 258 fields, saw 354\\nSkipping line 852: expected 258 fields, saw 306\\nSkipping line 855: expected 258 fields, saw 306\\nSkipping line 858: expected 258 fields, saw 287\\nSkipping line 859: expected 258 fields, saw 424\\nSkipping line 860: expected 258 fields, saw 306\\nSkipping line 862: expected 258 fields, saw 284\\nSkipping line 863: expected 258 fields, saw 402\\nSkipping line 865: expected 258 fields, saw 278\\nSkipping line 866: expected 258 fields, saw 402\\nSkipping line 867: expected 258 fields, saw 581\\nSkipping line 869: expected 258 fields, saw 290\\nSkipping line 871: expected 258 fields, saw 565\\nSkipping line 877: expected 258 fields, saw 306\\nSkipping line 879: expected 258 fields, saw 354\\nSkipping line 881: expected 258 fields, saw 284\\nSkipping line 884: expected 258 fields, saw 374\\nSkipping line 888: expected 258 fields, saw 306\\nSkipping line 889: expected 258 fields, saw 543\\nSkipping line 890: expected 258 fields, saw 354\\nSkipping line 892: expected 258 fields, saw 335\\nSkipping line 893: expected 258 fields, saw 354\\nSkipping line 894: expected 258 fields, saw 543\\nSkipping line 896: expected 258 fields, saw 306\\nSkipping line 897: expected 258 fields, saw 402\\nSkipping line 901: expected 258 fields, saw 278\\nSkipping line 902: expected 258 fields, saw 402\\nSkipping line 906: expected 258 fields, saw 306\\nSkipping line 907: expected 258 fields, saw 647\\nSkipping line 908: expected 258 fields, saw 306\\nSkipping line 909: expected 258 fields, saw 354\\nSkipping line 910: expected 258 fields, saw 553\\nSkipping line 912: expected 258 fields, saw 354\\nSkipping line 913: expected 258 fields, saw 402\\nSkipping line 914: expected 258 fields, saw 322\\nSkipping line 915: expected 258 fields, saw 402\\nSkipping line 920: expected 258 fields, saw 402\\nSkipping line 921: expected 258 fields, saw 306\\nSkipping line 922: expected 258 fields, saw 290\\nSkipping line 923: expected 258 fields, saw 402\\nSkipping line 924: expected 258 fields, saw 284\\nSkipping line 925: expected 258 fields, saw 543\\nSkipping line 926: expected 258 fields, saw 354\\nSkipping line 928: expected 258 fields, saw 284\\nSkipping line 931: expected 258 fields, saw 306\\nSkipping line 932: expected 258 fields, saw 276\\nSkipping line 933: expected 258 fields, saw 278\\nSkipping line 934: expected 258 fields, saw 278\\nSkipping line 936: expected 258 fields, saw 424\\nSkipping line 939: expected 258 fields, saw 402\\nSkipping line 942: expected 258 fields, saw 347\\nSkipping line 943: expected 258 fields, saw 306\\nSkipping line 944: expected 258 fields, saw 306\\nSkipping line 946: expected 258 fields, saw 354\\nSkipping line 947: expected 258 fields, saw 300\\nSkipping line 948: expected 258 fields, saw 693\\nSkipping line 949: expected 258 fields, saw 306\\nSkipping line 952: expected 258 fields, saw 354\\nSkipping line 954: expected 258 fields, saw 402\\nSkipping line 956: expected 258 fields, saw 354\\nSkipping line 957: expected 258 fields, saw 278\\nSkipping line 958: expected 258 fields, saw 290\\nSkipping line 959: expected 258 fields, saw 324\\nSkipping line 960: expected 258 fields, saw 306\\nSkipping line 961: expected 258 fields, saw 402\\nSkipping line 964: expected 258 fields, saw 306\\nSkipping line 969: expected 258 fields, saw 402\\nSkipping line 970: expected 258 fields, saw 306\\nSkipping line 972: expected 258 fields, saw 354\\nSkipping line 980: expected 258 fields, saw 402\\nSkipping line 982: expected 258 fields, saw 306\\nSkipping line 983: expected 258 fields, saw 278\\nSkipping line 985: expected 258 fields, saw 306\\nSkipping line 987: expected 258 fields, saw 279\\nSkipping line 989: expected 258 fields, saw 304\\nSkipping line 990: expected 258 fields, saw 306\\nSkipping line 993: expected 258 fields, saw 288\\nSkipping line 994: expected 258 fields, saw 275\\nSkipping line 996: expected 258 fields, saw 306\\nSkipping line 997: expected 258 fields, saw 306\\nSkipping line 1000: expected 258 fields, saw 354\\nSkipping line 1001: expected 258 fields, saw 306\\nSkipping line 1002: expected 258 fields, saw 262\\nSkipping line 1006: expected 258 fields, saw 306\\nSkipping line 1011: expected 258 fields, saw 472\\nSkipping line 1012: expected 258 fields, saw 306\\nSkipping line 1013: expected 258 fields, saw 306\\nSkipping line 1014: expected 258 fields, saw 416\\nSkipping line 1016: expected 258 fields, saw 306\\nSkipping line 1018: expected 258 fields, saw 354\\nSkipping line 1022: expected 258 fields, saw 424\\nSkipping line 1023: expected 258 fields, saw 306\\nSkipping line 1026: expected 258 fields, saw 306\\nSkipping line 1029: expected 258 fields, saw 354\\nSkipping line 1031: expected 258 fields, saw 402\\nSkipping line 1033: expected 258 fields, saw 306\\nSkipping line 1034: expected 258 fields, saw 306\\nSkipping line 1035: expected 258 fields, saw 354\\nSkipping line 1038: expected 258 fields, saw 284\\nSkipping line 1039: expected 258 fields, saw 526\\nSkipping line 1042: expected 258 fields, saw 424\\nSkipping line 1043: expected 258 fields, saw 354\\nSkipping line 1045: expected 258 fields, saw 354\\nSkipping line 1046: expected 258 fields, saw 300\\nSkipping line 1051: expected 258 fields, saw 306\\nSkipping line 1052: expected 258 fields, saw 306\\nSkipping line 1057: expected 258 fields, saw 306\\nSkipping line 1058: expected 258 fields, saw 354\\nSkipping line 1067: expected 258 fields, saw 402\\nSkipping line 1075: expected 258 fields, saw 354\\nSkipping line 1077: expected 258 fields, saw 306\\nSkipping line 1078: expected 258 fields, saw 290\\nSkipping line 1081: expected 258 fields, saw 306\\nSkipping line 1082: expected 258 fields, saw 306\\nSkipping line 1083: expected 258 fields, saw 270\\nSkipping line 1085: expected 258 fields, saw 402\\nSkipping line 1087: expected 258 fields, saw 306\\nSkipping line 1092: expected 258 fields, saw 284\\nSkipping line 1095: expected 258 fields, saw 402\\nSkipping line 1097: expected 258 fields, saw 306\\nSkipping line 1098: expected 258 fields, saw 354\\nSkipping line 1100: expected 258 fields, saw 306\\nSkipping line 1101: expected 258 fields, saw 306\\nSkipping line 1105: expected 258 fields, saw 402\\nSkipping line 1108: expected 258 fields, saw 306\\nSkipping line 1110: expected 258 fields, saw 267\\nSkipping line 1115: expected 258 fields, saw 306\\nSkipping line 1117: expected 258 fields, saw 306\\nSkipping line 1121: expected 258 fields, saw 354\\nSkipping line 1126: expected 258 fields, saw 295\\nSkipping line 1129: expected 258 fields, saw 308\\nSkipping line 1130: expected 258 fields, saw 306\\nSkipping line 1131: expected 258 fields, saw 314\\nSkipping line 1133: expected 258 fields, saw 354\\nSkipping line 1137: expected 258 fields, saw 306\\nSkipping line 1140: expected 258 fields, saw 306\\nSkipping line 1141: expected 258 fields, saw 306\\nSkipping line 1142: expected 258 fields, saw 354\\nSkipping line 1144: expected 258 fields, saw 306\\nSkipping line 1146: expected 258 fields, saw 402\\nSkipping line 1153: expected 258 fields, saw 364\\nSkipping line 1155: expected 258 fields, saw 402\\nSkipping line 1159: expected 258 fields, saw 354\\nSkipping line 1161: expected 258 fields, saw 306\\nSkipping line 1166: expected 258 fields, saw 402\\nSkipping line 1170: expected 258 fields, saw 354\\nSkipping line 1175: expected 258 fields, saw 306\\nSkipping line 1185: expected 258 fields, saw 306\\nSkipping line 1188: expected 258 fields, saw 268\\nSkipping line 1194: expected 258 fields, saw 306\\nSkipping line 1197: expected 258 fields, saw 306\\nSkipping line 1199: expected 258 fields, saw 460\\nSkipping line 1201: expected 258 fields, saw 262\\nSkipping line 1202: expected 258 fields, saw 306\\nSkipping line 1203: expected 258 fields, saw 306\\nSkipping line 1209: expected 258 fields, saw 354\\nSkipping line 1211: expected 258 fields, saw 306\\nSkipping line 1222: expected 258 fields, saw 306\\nSkipping line 1228: expected 258 fields, saw 306\\nSkipping line 1234: expected 258 fields, saw 354\\nSkipping line 1236: expected 258 fields, saw 544\\nSkipping line 1239: expected 258 fields, saw 354\\nSkipping line 1241: expected 258 fields, saw 602\\nSkipping line 1244: expected 258 fields, saw 354\\nSkipping line 1245: expected 258 fields, saw 269\\nSkipping line 1247: expected 258 fields, saw 310\\nSkipping line 1248: expected 258 fields, saw 306\\nSkipping line 1255: expected 258 fields, saw 402\\nSkipping line 1257: expected 258 fields, saw 306\\nSkipping line 1260: expected 258 fields, saw 306\\nSkipping line 1262: expected 258 fields, saw 306\\nSkipping line 1263: expected 258 fields, saw 306\\nSkipping line 1264: expected 258 fields, saw 416\\nSkipping line 1265: expected 258 fields, saw 402\\nSkipping line 1267: expected 258 fields, saw 354\\nSkipping line 1269: expected 258 fields, saw 306\\nSkipping line 1278: expected 258 fields, saw 306\\nSkipping line 1280: expected 258 fields, saw 354\\nSkipping line 1282: expected 258 fields, saw 306\\nSkipping line 1286: expected 258 fields, saw 306\\nSkipping line 1292: expected 258 fields, saw 300\\nSkipping line 1303: expected 258 fields, saw 279\\nSkipping line 1305: expected 258 fields, saw 306\\nSkipping line 1306: expected 258 fields, saw 306\\nSkipping line 1307: expected 258 fields, saw 306\\nSkipping line 1308: expected 258 fields, saw 306\\nSkipping line 1309: expected 258 fields, saw 306\\nSkipping line 1310: expected 258 fields, saw 306\\nSkipping line 1314: expected 258 fields, saw 354\\nSkipping line 1315: expected 258 fields, saw 278\\nSkipping line 1317: expected 258 fields, saw 271\\nSkipping line 1319: expected 258 fields, saw 306\\nSkipping line 1320: expected 258 fields, saw 306\\nSkipping line 1321: expected 258 fields, saw 306\\nSkipping line 1322: expected 258 fields, saw 267\\nSkipping line 1323: expected 258 fields, saw 455\\nSkipping line 1326: expected 258 fields, saw 306\\nSkipping line 1328: expected 258 fields, saw 306\\nSkipping line 1330: expected 258 fields, saw 273\\nSkipping line 1331: expected 258 fields, saw 306\\nSkipping line 1340: expected 258 fields, saw 270\\nSkipping line 1342: expected 258 fields, saw 306\\nSkipping line 1346: expected 258 fields, saw 306\\nSkipping line 1349: expected 258 fields, saw 306\\nSkipping line 1351: expected 258 fields, saw 265\\nSkipping line 1352: expected 258 fields, saw 306\\nSkipping line 1353: expected 258 fields, saw 402\\nSkipping line 1357: expected 258 fields, saw 306\\nSkipping line 1360: expected 258 fields, saw 306\\nSkipping line 1367: expected 258 fields, saw 354\\nSkipping line 1369: expected 258 fields, saw 402\\nSkipping line 1370: expected 258 fields, saw 265\\nSkipping line 1377: expected 258 fields, saw 306\\nSkipping line 1381: expected 258 fields, saw 274\\nSkipping line 1386: expected 258 fields, saw 402\\nSkipping line 1394: expected 258 fields, saw 402\\nSkipping line 1396: expected 258 fields, saw 306\\nSkipping line 1399: expected 258 fields, saw 354\\nSkipping line 1401: expected 258 fields, saw 269\\nSkipping line 1404: expected 258 fields, saw 269\\nSkipping line 1406: expected 258 fields, saw 402\\nSkipping line 1407: expected 258 fields, saw 278\\nSkipping line 1412: expected 258 fields, saw 354\\nSkipping line 1415: expected 258 fields, saw 288\\nSkipping line 1418: expected 258 fields, saw 300\\nSkipping line 1422: expected 258 fields, saw 268\\nSkipping line 1423: expected 258 fields, saw 354\\nSkipping line 1427: expected 258 fields, saw 306\\nSkipping line 1452: expected 258 fields, saw 306\\nSkipping line 1455: expected 258 fields, saw 402\\nSkipping line 1458: expected 258 fields, saw 290\\nSkipping line 1459: expected 258 fields, saw 323\\nSkipping line 1462: expected 258 fields, saw 306\\nSkipping line 1464: expected 258 fields, saw 402\\nSkipping line 1467: expected 258 fields, saw 279\\nSkipping line 1468: expected 258 fields, saw 306\\nSkipping line 1469: expected 258 fields, saw 306\\nSkipping line 1475: expected 258 fields, saw 306\\nSkipping line 1479: expected 258 fields, saw 278\\nSkipping line 1484: expected 258 fields, saw 402\\nSkipping line 1485: expected 258 fields, saw 300\\nSkipping line 1489: expected 258 fields, saw 262\\nSkipping line 1492: expected 258 fields, saw 282\\nSkipping line 1493: expected 258 fields, saw 354\\nSkipping line 1498: expected 258 fields, saw 354\\nSkipping line 1500: expected 258 fields, saw 402\\nSkipping line 1507: expected 258 fields, saw 402\\nSkipping line 1508: expected 258 fields, saw 306\\nSkipping line 1509: expected 258 fields, saw 306\\nSkipping line 1515: expected 258 fields, saw 406\\nSkipping line 1518: expected 258 fields, saw 306\\nSkipping line 1529: expected 258 fields, saw 267\\nSkipping line 1530: expected 258 fields, saw 306\\nSkipping line 1531: expected 258 fields, saw 270\\nSkipping line 1535: expected 258 fields, saw 402\\nSkipping line 1540: expected 258 fields, saw 306\\nSkipping line 1543: expected 258 fields, saw 354\\nSkipping line 1544: expected 258 fields, saw 278\\nSkipping line 1546: expected 258 fields, saw 402\\nSkipping line 1551: expected 258 fields, saw 306\\nSkipping line 1553: expected 258 fields, saw 306\\nSkipping line 1556: expected 258 fields, saw 354\\nSkipping line 1560: expected 258 fields, saw 402\\nSkipping line 1561: expected 258 fields, saw 300\\nSkipping line 1566: expected 258 fields, saw 402\\nSkipping line 1577: expected 258 fields, saw 306\\nSkipping line 1578: expected 258 fields, saw 271\\nSkipping line 1581: expected 258 fields, saw 354\\nSkipping line 1602: expected 258 fields, saw 290\\nSkipping line 1603: expected 258 fields, saw 306\\nSkipping line 1606: expected 258 fields, saw 288\\nSkipping line 1608: expected 258 fields, saw 306\\nSkipping line 1610: expected 258 fields, saw 277\\nSkipping line 1612: expected 258 fields, saw 306\\nSkipping line 1619: expected 258 fields, saw 306\\nSkipping line 1621: expected 258 fields, saw 271\\nSkipping line 1626: expected 258 fields, saw 276\\nSkipping line 1629: expected 258 fields, saw 284\\nSkipping line 1632: expected 258 fields, saw 354\\nSkipping line 1633: expected 258 fields, saw 306\\nSkipping line 1637: expected 258 fields, saw 280\\nSkipping line 1645: expected 258 fields, saw 278\\nSkipping line 1652: expected 258 fields, saw 272\\nSkipping line 1654: expected 258 fields, saw 270\\nSkipping line 1655: expected 258 fields, saw 271\\nSkipping line 1667: expected 258 fields, saw 402\\nSkipping line 1676: expected 258 fields, saw 306\\nSkipping line 1697: expected 258 fields, saw 306\\nSkipping line 1699: expected 258 fields, saw 354\\nSkipping line 1704: expected 258 fields, saw 354\\nSkipping line 1709: expected 258 fields, saw 402\\nSkipping line 1713: expected 258 fields, saw 278\\nSkipping line 1719: expected 258 fields, saw 354\\nSkipping line 1723: expected 258 fields, saw 352\\nSkipping line 1725: expected 258 fields, saw 271\\nSkipping line 1728: expected 258 fields, saw 267\\nSkipping line 1731: expected 258 fields, saw 354\\nSkipping line 1746: expected 258 fields, saw 290\\nSkipping line 1747: expected 258 fields, saw 306\\nSkipping line 1756: expected 258 fields, saw 268\\nSkipping line 1765: expected 258 fields, saw 284\\nSkipping line 1766: expected 258 fields, saw 306\\nSkipping line 1776: expected 258 fields, saw 277\\nSkipping line 1784: expected 258 fields, saw 284\\nSkipping line 1785: expected 258 fields, saw 306\\nSkipping line 1791: expected 258 fields, saw 306\\nSkipping line 1794: expected 258 fields, saw 306\\nSkipping line 1800: expected 258 fields, saw 290\\nSkipping line 1809: expected 258 fields, saw 306\\nSkipping line 1810: expected 258 fields, saw 306\\nSkipping line 1812: expected 258 fields, saw 293\\nSkipping line 1825: expected 258 fields, saw 306\\nSkipping line 1826: expected 258 fields, saw 265\\nSkipping line 1831: expected 258 fields, saw 354\\nSkipping line 1836: expected 258 fields, saw 272\\nSkipping line 1842: expected 258 fields, saw 306\\nSkipping line 1849: expected 258 fields, saw 278\\nSkipping line 1850: expected 258 fields, saw 306\\nSkipping line 1861: expected 258 fields, saw 354\\nSkipping line 1864: expected 258 fields, saw 284\\nSkipping line 1865: expected 258 fields, saw 402\\nSkipping line 1866: expected 258 fields, saw 306\\nSkipping line 1880: expected 258 fields, saw 306\\nSkipping line 1882: expected 258 fields, saw 284\\nSkipping line 1883: expected 258 fields, saw 268\\nSkipping line 1890: expected 258 fields, saw 306\\nSkipping line 1892: expected 258 fields, saw 306\\nSkipping line 1895: expected 258 fields, saw 267\\nSkipping line 1905: expected 258 fields, saw 306\\nSkipping line 1917: expected 258 fields, saw 265\\nSkipping line 1938: expected 258 fields, saw 306\\nSkipping line 1944: expected 258 fields, saw 306\\nSkipping line 1947: expected 258 fields, saw 306\\nSkipping line 1948: expected 258 fields, saw 306\\nSkipping line 1961: expected 258 fields, saw 354\\nSkipping line 1967: expected 258 fields, saw 402\\nSkipping line 1968: expected 258 fields, saw 306\\nSkipping line 2004: expected 258 fields, saw 306\\nSkipping line 2026: expected 258 fields, saw 306\\nSkipping line 2029: expected 258 fields, saw 269\\nSkipping line 2030: expected 258 fields, saw 306\\nSkipping line 2034: expected 258 fields, saw 402\\nSkipping line 2038: expected 258 fields, saw 306\\nSkipping line 2040: expected 258 fields, saw 274\\nSkipping line 2048: expected 258 fields, saw 306\\nSkipping line 2055: expected 258 fields, saw 402\\nSkipping line 2057: expected 258 fields, saw 306\\nSkipping line 2072: expected 258 fields, saw 354\\nSkipping line 2083: expected 258 fields, saw 354\\nSkipping line 2093: expected 258 fields, saw 264\\nSkipping line 2130: expected 258 fields, saw 281\\nSkipping line 2151: expected 258 fields, saw 267\\nSkipping line 2204: expected 258 fields, saw 306\\nSkipping line 2208: expected 258 fields, saw 402\\nSkipping line 2258: expected 258 fields, saw 532\\nSkipping line 2259: expected 258 fields, saw 532\\nSkipping line 2264: expected 258 fields, saw 274\\nSkipping line 2320: expected 258 fields, saw 273\\n'\n"
     ]
    }
   ],
   "source": [
    "tweet_json = pd.read_csv('tweet_json.txt', sep = \" \", header = None, error_bad_lines =False) "
   ]
  },
  {
   "cell_type": "code",
   "execution_count": 13,
   "metadata": {},
   "outputs": [
    {
     "data": {
      "text/plain": [
       "(1494, 258)"
      ]
     },
     "execution_count": 13,
     "metadata": {},
     "output_type": "execute_result"
    }
   ],
   "source": [
    "tweet_json.shape"
   ]
  },
  {
   "cell_type": "code",
   "execution_count": 14,
   "metadata": {},
   "outputs": [
    {
     "data": {
      "text/plain": [
       "(1633, 257)"
      ]
     },
     "execution_count": 14,
     "metadata": {},
     "output_type": "execute_result"
    }
   ],
   "source": [
    "specific_data.shape"
   ]
  },
  {
   "cell_type": "code",
   "execution_count": 15,
   "metadata": {},
   "outputs": [
    {
     "data": {
      "text/html": [
       "<div>\n",
       "<style scoped>\n",
       "    .dataframe tbody tr th:only-of-type {\n",
       "        vertical-align: middle;\n",
       "    }\n",
       "\n",
       "    .dataframe tbody tr th {\n",
       "        vertical-align: top;\n",
       "    }\n",
       "\n",
       "    .dataframe thead th {\n",
       "        text-align: right;\n",
       "    }\n",
       "</style>\n",
       "<table border=\"1\" class=\"dataframe\">\n",
       "  <thead>\n",
       "    <tr style=\"text-align: right;\">\n",
       "      <th></th>\n",
       "      <th>0</th>\n",
       "      <th>1</th>\n",
       "      <th>2</th>\n",
       "      <th>3</th>\n",
       "      <th>4</th>\n",
       "      <th>5</th>\n",
       "      <th>6</th>\n",
       "      <th>7</th>\n",
       "      <th>8</th>\n",
       "      <th>9</th>\n",
       "      <th>...</th>\n",
       "      <th>248</th>\n",
       "      <th>249</th>\n",
       "      <th>250</th>\n",
       "      <th>251</th>\n",
       "      <th>252</th>\n",
       "      <th>253</th>\n",
       "      <th>254</th>\n",
       "      <th>255</th>\n",
       "      <th>256</th>\n",
       "      <th>257</th>\n",
       "    </tr>\n",
       "  </thead>\n",
       "  <tbody>\n",
       "    <tr>\n",
       "      <th>0</th>\n",
       "      <td>{\"created_at\":</td>\n",
       "      <td>Tue Aug 01 16:23:56 +0000 2017,</td>\n",
       "      <td>id:</td>\n",
       "      <td>892420643555336193,</td>\n",
       "      <td>id_str:</td>\n",
       "      <td>892420643555336193,</td>\n",
       "      <td>full_text:</td>\n",
       "      <td>This is Phineas. He's a mystical boy. Only eve...</td>\n",
       "      <td>truncated:</td>\n",
       "      <td>false,</td>\n",
       "      <td>...</td>\n",
       "      <td>favorited:</td>\n",
       "      <td>false,</td>\n",
       "      <td>retweeted:</td>\n",
       "      <td>false,</td>\n",
       "      <td>possibly_sensitive:</td>\n",
       "      <td>false,</td>\n",
       "      <td>possibly_sensitive_appealable:</td>\n",
       "      <td>false,</td>\n",
       "      <td>lang:</td>\n",
       "      <td>en}</td>\n",
       "    </tr>\n",
       "  </tbody>\n",
       "</table>\n",
       "<p>1 rows × 258 columns</p>\n",
       "</div>"
      ],
      "text/plain": [
       "              0                                1    2                    3    \\\n",
       "0  {\"created_at\":  Tue Aug 01 16:23:56 +0000 2017,  id:  892420643555336193,   \n",
       "\n",
       "       4                    5           6    \\\n",
       "0  id_str:  892420643555336193,  full_text:   \n",
       "\n",
       "                                                 7           8       9    ...  \\\n",
       "0  This is Phineas. He's a mystical boy. Only eve...  truncated:  false,  ...   \n",
       "\n",
       "          248     249         250     251                  252     253  \\\n",
       "0  favorited:  false,  retweeted:  false,  possibly_sensitive:  false,   \n",
       "\n",
       "                              254     255    256  257  \n",
       "0  possibly_sensitive_appealable:  false,  lang:  en}  \n",
       "\n",
       "[1 rows x 258 columns]"
      ]
     },
     "execution_count": 15,
     "metadata": {},
     "output_type": "execute_result"
    }
   ],
   "source": [
    "tweet_json.head(1)"
   ]
  },
  {
   "cell_type": "code",
   "execution_count": 16,
   "metadata": {},
   "outputs": [],
   "source": [
    "#choosing specifc columns for the data from twitter\n",
    "chosen_data = specific_data[[3,7,247,245,246,243,244, 248, 249, 250, 19, 75]]"
   ]
  },
  {
   "cell_type": "markdown",
   "metadata": {},
   "source": [
    "### Quality issues\n",
    "1. There's a string character (,) in each column \n",
    "\n",
    "2. There's a word - false in numerical columns like number of favorite and number of likes\n",
    "\n",
    "3. There are erroneous data types assigned to the numerical columns\n",
    "\n",
    "4. The column header is in numbers needs to changed to a more relevant type \n",
    "\n",
    "5. There are missing values in the column favorite count & retweet count\n",
    "\n",
    "6. \n",
    "\n",
    "7. \n",
    "\n",
    "8. "
   ]
  },
  {
   "cell_type": "markdown",
   "metadata": {},
   "source": [
    "### Tidiness issues\n",
    "1. This dataset has \n",
    "\n",
    "2."
   ]
  },
  {
   "cell_type": "markdown",
   "metadata": {},
   "source": [
    "## Cleaning Data\n",
    "In this section, clean **all** of the issues you documented while assessing. \n",
    "\n",
    "**Note:** Make a copy of the original data before cleaning. Cleaning includes merging individual pieces of data according to the rules of [tidy data](https://cran.r-project.org/web/packages/tidyr/vignettes/tidy-data.html). The result should be a high-quality and tidy master pandas DataFrame (or DataFrames, if appropriate)."
   ]
  },
  {
   "cell_type": "code",
   "execution_count": 17,
   "metadata": {},
   "outputs": [
    {
     "name": "stderr",
     "output_type": "stream",
     "text": [
      "/Users/satyamchauhan/opt/anaconda3/lib/python3.8/site-packages/pandas/core/frame.py:4296: SettingWithCopyWarning: \n",
      "A value is trying to be set on a copy of a slice from a DataFrame\n",
      "\n",
      "See the caveats in the documentation: https://pandas.pydata.org/pandas-docs/stable/user_guide/indexing.html#returning-a-view-versus-a-copy\n",
      "  return super().rename(\n"
     ]
    },
    {
     "data": {
      "text/html": [
       "<div>\n",
       "<style scoped>\n",
       "    .dataframe tbody tr th:only-of-type {\n",
       "        vertical-align: middle;\n",
       "    }\n",
       "\n",
       "    .dataframe tbody tr th {\n",
       "        vertical-align: top;\n",
       "    }\n",
       "\n",
       "    .dataframe thead th {\n",
       "        text-align: right;\n",
       "    }\n",
       "</style>\n",
       "<table border=\"1\" class=\"dataframe\">\n",
       "  <thead>\n",
       "    <tr style=\"text-align: right;\">\n",
       "      <th></th>\n",
       "      <th>tweet_id</th>\n",
       "      <th>description</th>\n",
       "      <th>favorited</th>\n",
       "      <th>favorite ct</th>\n",
       "      <th>favorite_count</th>\n",
       "      <th>retweet ct</th>\n",
       "      <th>retweet_count</th>\n",
       "      <th>t/f</th>\n",
       "      <th>retweeted</th>\n",
       "      <th>true/false</th>\n",
       "      <th>url</th>\n",
       "      <th>followers</th>\n",
       "    </tr>\n",
       "  </thead>\n",
       "  <tbody>\n",
       "    <tr>\n",
       "      <th>0</th>\n",
       "      <td>892420643555336193,</td>\n",
       "      <td>This is Phineas. He's a mystical boy. Only eve...</td>\n",
       "      <td>favorited:</td>\n",
       "      <td>favorite_count:</td>\n",
       "      <td>34369,</td>\n",
       "      <td>retweet_count:</td>\n",
       "      <td>7144,</td>\n",
       "      <td>false,</td>\n",
       "      <td>retweeted:</td>\n",
       "      <td>false,</td>\n",
       "      <td>media:</td>\n",
       "      <td>[86,</td>\n",
       "    </tr>\n",
       "    <tr>\n",
       "      <th>1</th>\n",
       "      <td>892177421306343426,</td>\n",
       "      <td>This is Tilly. She's just checking pup on you....</td>\n",
       "      <td>NaN</td>\n",
       "      <td>NaN</td>\n",
       "      <td>NaN</td>\n",
       "      <td>NaN</td>\n",
       "      <td>NaN</td>\n",
       "      <td>NaN</td>\n",
       "      <td>NaN</td>\n",
       "      <td>NaN</td>\n",
       "      <td>https://t.co/aQFSeaCu9L,</td>\n",
       "      <td>9096876,</td>\n",
       "    </tr>\n",
       "    <tr>\n",
       "      <th>2</th>\n",
       "      <td>891815181378084864,</td>\n",
       "      <td>This is Archie. He is a rare Norwegian Pouncin...</td>\n",
       "      <td>NaN</td>\n",
       "      <td>NaN</td>\n",
       "      <td>NaN</td>\n",
       "      <td>NaN</td>\n",
       "      <td>NaN</td>\n",
       "      <td>NaN</td>\n",
       "      <td>NaN</td>\n",
       "      <td>NaN</td>\n",
       "      <td>https://t.co/r0YlrsGCgy,</td>\n",
       "      <td>9096876,</td>\n",
       "    </tr>\n",
       "    <tr>\n",
       "      <th>3</th>\n",
       "      <td>891689557279858688,</td>\n",
       "      <td>This is Darla. She commenced a snooze mid meal...</td>\n",
       "      <td>favorited:</td>\n",
       "      <td>favorite_count:</td>\n",
       "      <td>37548,</td>\n",
       "      <td>retweet_count:</td>\n",
       "      <td>7347,</td>\n",
       "      <td>false,</td>\n",
       "      <td>retweeted:</td>\n",
       "      <td>false,</td>\n",
       "      <td>media:</td>\n",
       "      <td>[80,</td>\n",
       "    </tr>\n",
       "    <tr>\n",
       "      <th>4</th>\n",
       "      <td>891327558926688256,</td>\n",
       "      <td>This is Franklin. He would like you to stop ca...</td>\n",
       "      <td>NaN</td>\n",
       "      <td>NaN</td>\n",
       "      <td>NaN</td>\n",
       "      <td>NaN</td>\n",
       "      <td>NaN</td>\n",
       "      <td>NaN</td>\n",
       "      <td>NaN</td>\n",
       "      <td>NaN</td>\n",
       "      <td>https://t.co/0g0KMIVXZ3\",</td>\n",
       "      <td>http://links.weratedogs.com,</td>\n",
       "    </tr>\n",
       "    <tr>\n",
       "      <th>...</th>\n",
       "      <td>...</td>\n",
       "      <td>...</td>\n",
       "      <td>...</td>\n",
       "      <td>...</td>\n",
       "      <td>...</td>\n",
       "      <td>...</td>\n",
       "      <td>...</td>\n",
       "      <td>...</td>\n",
       "      <td>...</td>\n",
       "      <td>...</td>\n",
       "      <td>...</td>\n",
       "      <td>...</td>\n",
       "    </tr>\n",
       "    <tr>\n",
       "      <th>1628</th>\n",
       "      <td>666049248165822465,</td>\n",
       "      <td>Here we have a 1949 1st generation vulpix. Enj...</td>\n",
       "      <td>favorited:</td>\n",
       "      <td>favorite_count:</td>\n",
       "      <td>91,</td>\n",
       "      <td>retweet_count:</td>\n",
       "      <td>37,</td>\n",
       "      <td>false,</td>\n",
       "      <td>retweeted:</td>\n",
       "      <td>false,</td>\n",
       "      <td>media:</td>\n",
       "      <td>[97,</td>\n",
       "    </tr>\n",
       "    <tr>\n",
       "      <th>1629</th>\n",
       "      <td>666044226329800704,</td>\n",
       "      <td>This is a purebred Piers Morgan. Loves to Netf...</td>\n",
       "      <td>favorited:</td>\n",
       "      <td>favorite_count:</td>\n",
       "      <td>251,</td>\n",
       "      <td>retweet_count:</td>\n",
       "      <td>117,</td>\n",
       "      <td>false,</td>\n",
       "      <td>retweeted:</td>\n",
       "      <td>false,</td>\n",
       "      <td>media:</td>\n",
       "      <td>[114,</td>\n",
       "    </tr>\n",
       "    <tr>\n",
       "      <th>1630</th>\n",
       "      <td>666033412701032449,</td>\n",
       "      <td>Here is a very happy pup. Big fan of well-main...</td>\n",
       "      <td>favorited:</td>\n",
       "      <td>favorite_count:</td>\n",
       "      <td>102,</td>\n",
       "      <td>retweet_count:</td>\n",
       "      <td>36,</td>\n",
       "      <td>false,</td>\n",
       "      <td>retweeted:</td>\n",
       "      <td>false,</td>\n",
       "      <td>media:</td>\n",
       "      <td>[107,</td>\n",
       "    </tr>\n",
       "    <tr>\n",
       "      <th>1631</th>\n",
       "      <td>666029285002620928,</td>\n",
       "      <td>This is a western brown Mitsubishi terrier. Up...</td>\n",
       "      <td>favorited:</td>\n",
       "      <td>favorite_count:</td>\n",
       "      <td>115,</td>\n",
       "      <td>retweet_count:</td>\n",
       "      <td>39,</td>\n",
       "      <td>false,</td>\n",
       "      <td>retweeted:</td>\n",
       "      <td>false,</td>\n",
       "      <td>media:</td>\n",
       "      <td>[116,</td>\n",
       "    </tr>\n",
       "    <tr>\n",
       "      <th>1632</th>\n",
       "      <td>666020888022790149,</td>\n",
       "      <td>Here we have a Japanese Irish Setter. Lost eye...</td>\n",
       "      <td>favorited:</td>\n",
       "      <td>favorite_count:</td>\n",
       "      <td>2316,</td>\n",
       "      <td>retweet_count:</td>\n",
       "      <td>432,</td>\n",
       "      <td>false,</td>\n",
       "      <td>retweeted:</td>\n",
       "      <td>false,</td>\n",
       "      <td>media:</td>\n",
       "      <td>[108,</td>\n",
       "    </tr>\n",
       "  </tbody>\n",
       "</table>\n",
       "<p>1633 rows × 12 columns</p>\n",
       "</div>"
      ],
      "text/plain": [
       "                 tweet_id                                        description  \\\n",
       "0     892420643555336193,  This is Phineas. He's a mystical boy. Only eve...   \n",
       "1     892177421306343426,  This is Tilly. She's just checking pup on you....   \n",
       "2     891815181378084864,  This is Archie. He is a rare Norwegian Pouncin...   \n",
       "3     891689557279858688,  This is Darla. She commenced a snooze mid meal...   \n",
       "4     891327558926688256,  This is Franklin. He would like you to stop ca...   \n",
       "...                   ...                                                ...   \n",
       "1628  666049248165822465,  Here we have a 1949 1st generation vulpix. Enj...   \n",
       "1629  666044226329800704,  This is a purebred Piers Morgan. Loves to Netf...   \n",
       "1630  666033412701032449,  Here is a very happy pup. Big fan of well-main...   \n",
       "1631  666029285002620928,  This is a western brown Mitsubishi terrier. Up...   \n",
       "1632  666020888022790149,  Here we have a Japanese Irish Setter. Lost eye...   \n",
       "\n",
       "       favorited      favorite ct favorite_count      retweet ct  \\\n",
       "0     favorited:  favorite_count:         34369,  retweet_count:   \n",
       "1            NaN              NaN            NaN             NaN   \n",
       "2            NaN              NaN            NaN             NaN   \n",
       "3     favorited:  favorite_count:         37548,  retweet_count:   \n",
       "4            NaN              NaN            NaN             NaN   \n",
       "...          ...              ...            ...             ...   \n",
       "1628  favorited:  favorite_count:            91,  retweet_count:   \n",
       "1629  favorited:  favorite_count:           251,  retweet_count:   \n",
       "1630  favorited:  favorite_count:           102,  retweet_count:   \n",
       "1631  favorited:  favorite_count:           115,  retweet_count:   \n",
       "1632  favorited:  favorite_count:          2316,  retweet_count:   \n",
       "\n",
       "     retweet_count     t/f   retweeted true/false                        url  \\\n",
       "0            7144,  false,  retweeted:     false,                     media:   \n",
       "1              NaN     NaN         NaN        NaN   https://t.co/aQFSeaCu9L,   \n",
       "2              NaN     NaN         NaN        NaN   https://t.co/r0YlrsGCgy,   \n",
       "3            7347,  false,  retweeted:     false,                     media:   \n",
       "4              NaN     NaN         NaN        NaN  https://t.co/0g0KMIVXZ3\",   \n",
       "...            ...     ...         ...        ...                        ...   \n",
       "1628           37,  false,  retweeted:     false,                     media:   \n",
       "1629          117,  false,  retweeted:     false,                     media:   \n",
       "1630           36,  false,  retweeted:     false,                     media:   \n",
       "1631           39,  false,  retweeted:     false,                     media:   \n",
       "1632          432,  false,  retweeted:     false,                     media:   \n",
       "\n",
       "                         followers  \n",
       "0                             [86,  \n",
       "1                         9096876,  \n",
       "2                         9096876,  \n",
       "3                             [80,  \n",
       "4     http://links.weratedogs.com,  \n",
       "...                            ...  \n",
       "1628                          [97,  \n",
       "1629                         [114,  \n",
       "1630                         [107,  \n",
       "1631                         [116,  \n",
       "1632                         [108,  \n",
       "\n",
       "[1633 rows x 12 columns]"
      ]
     },
     "execution_count": 17,
     "metadata": {},
     "output_type": "execute_result"
    }
   ],
   "source": [
    "#renaming the columns\n",
    "chosen_data.rename(columns={3: \"tweet_id\",7: \"description\",247: \"favorited\",245:\"favorite ct\",246:\"favorite_count\",243:\"retweet ct\", 244: \"retweet_count\",248:\"t/f\",249:\"retweeted\",250:\"true/false\", 19:\"url\", 75:\"followers\"}, inplace = True)\n",
    "chosen_data"
   ]
  },
  {
   "cell_type": "code",
   "execution_count": 18,
   "metadata": {},
   "outputs": [],
   "source": [
    "#choosing specific column\n",
    "chosen_data = chosen_data.drop(chosen_data.columns[[2,3,5,7,8,9]], axis = 1)"
   ]
  },
  {
   "cell_type": "code",
   "execution_count": 19,
   "metadata": {},
   "outputs": [
    {
     "data": {
      "text/html": [
       "<div>\n",
       "<style scoped>\n",
       "    .dataframe tbody tr th:only-of-type {\n",
       "        vertical-align: middle;\n",
       "    }\n",
       "\n",
       "    .dataframe tbody tr th {\n",
       "        vertical-align: top;\n",
       "    }\n",
       "\n",
       "    .dataframe thead th {\n",
       "        text-align: right;\n",
       "    }\n",
       "</style>\n",
       "<table border=\"1\" class=\"dataframe\">\n",
       "  <thead>\n",
       "    <tr style=\"text-align: right;\">\n",
       "      <th></th>\n",
       "      <th>tweet_id</th>\n",
       "      <th>description</th>\n",
       "      <th>favorite_count</th>\n",
       "      <th>retweet_count</th>\n",
       "      <th>url</th>\n",
       "      <th>followers</th>\n",
       "    </tr>\n",
       "  </thead>\n",
       "  <tbody>\n",
       "    <tr>\n",
       "      <th>0</th>\n",
       "      <td>892420643555336193,</td>\n",
       "      <td>This is Phineas. He's a mystical boy. Only eve...</td>\n",
       "      <td>34369,</td>\n",
       "      <td>7144,</td>\n",
       "      <td>media:</td>\n",
       "      <td>[86,</td>\n",
       "    </tr>\n",
       "    <tr>\n",
       "      <th>1</th>\n",
       "      <td>892177421306343426,</td>\n",
       "      <td>This is Tilly. She's just checking pup on you....</td>\n",
       "      <td>NaN</td>\n",
       "      <td>NaN</td>\n",
       "      <td>https://t.co/aQFSeaCu9L,</td>\n",
       "      <td>9096876,</td>\n",
       "    </tr>\n",
       "    <tr>\n",
       "      <th>2</th>\n",
       "      <td>891815181378084864,</td>\n",
       "      <td>This is Archie. He is a rare Norwegian Pouncin...</td>\n",
       "      <td>NaN</td>\n",
       "      <td>NaN</td>\n",
       "      <td>https://t.co/r0YlrsGCgy,</td>\n",
       "      <td>9096876,</td>\n",
       "    </tr>\n",
       "  </tbody>\n",
       "</table>\n",
       "</div>"
      ],
      "text/plain": [
       "              tweet_id                                        description  \\\n",
       "0  892420643555336193,  This is Phineas. He's a mystical boy. Only eve...   \n",
       "1  892177421306343426,  This is Tilly. She's just checking pup on you....   \n",
       "2  891815181378084864,  This is Archie. He is a rare Norwegian Pouncin...   \n",
       "\n",
       "  favorite_count retweet_count                       url followers  \n",
       "0         34369,         7144,                    media:      [86,  \n",
       "1            NaN           NaN  https://t.co/aQFSeaCu9L,  9096876,  \n",
       "2            NaN           NaN  https://t.co/r0YlrsGCgy,  9096876,  "
      ]
     },
     "execution_count": 19,
     "metadata": {},
     "output_type": "execute_result"
    }
   ],
   "source": [
    "chosen_data.head(3)"
   ]
  },
  {
   "cell_type": "code",
   "execution_count": 20,
   "metadata": {},
   "outputs": [
    {
     "name": "stdout",
     "output_type": "stream",
     "text": [
      "<class 'pandas.core.frame.DataFrame'>\n",
      "RangeIndex: 1633 entries, 0 to 1632\n",
      "Data columns (total 6 columns):\n",
      " #   Column          Non-Null Count  Dtype \n",
      "---  ------          --------------  ----- \n",
      " 0   tweet_id        1633 non-null   object\n",
      " 1   description     1633 non-null   object\n",
      " 2   favorite_count  1233 non-null   object\n",
      " 3   retweet_count   1233 non-null   object\n",
      " 4   url             1633 non-null   object\n",
      " 5   followers       1633 non-null   object\n",
      "dtypes: object(6)\n",
      "memory usage: 76.7+ KB\n"
     ]
    }
   ],
   "source": [
    "chosen_data.info()"
   ]
  },
  {
   "cell_type": "markdown",
   "metadata": {},
   "source": [
    "### Issue #1:\n",
    "#### Define: There's a string character (,) in each column "
   ]
  },
  {
   "cell_type": "markdown",
   "metadata": {},
   "source": [
    "#### Code"
   ]
  },
  {
   "cell_type": "code",
   "execution_count": 21,
   "metadata": {},
   "outputs": [],
   "source": [
    "#remove last character\n",
    "chosen_data['tweet_id'] = chosen_data['tweet_id'].str[:-1]\n",
    "chosen_data['description'] = chosen_data['description'].str[:-1]\n",
    "chosen_data['favorite_count'] = chosen_data['favorite_count'].str[:-1]\n",
    "chosen_data['retweet_count'] = chosen_data['retweet_count'].str[:-1]\n",
    "chosen_data['url'] = chosen_data['url'].str[:-1]\n",
    "chosen_data['followers'] = chosen_data['followers'].str[:-1]"
   ]
  },
  {
   "cell_type": "markdown",
   "metadata": {},
   "source": [
    "#### Test"
   ]
  },
  {
   "cell_type": "code",
   "execution_count": 22,
   "metadata": {},
   "outputs": [
    {
     "data": {
      "text/html": [
       "<div>\n",
       "<style scoped>\n",
       "    .dataframe tbody tr th:only-of-type {\n",
       "        vertical-align: middle;\n",
       "    }\n",
       "\n",
       "    .dataframe tbody tr th {\n",
       "        vertical-align: top;\n",
       "    }\n",
       "\n",
       "    .dataframe thead th {\n",
       "        text-align: right;\n",
       "    }\n",
       "</style>\n",
       "<table border=\"1\" class=\"dataframe\">\n",
       "  <thead>\n",
       "    <tr style=\"text-align: right;\">\n",
       "      <th></th>\n",
       "      <th>tweet_id</th>\n",
       "      <th>description</th>\n",
       "      <th>favorite_count</th>\n",
       "      <th>retweet_count</th>\n",
       "      <th>url</th>\n",
       "      <th>followers</th>\n",
       "    </tr>\n",
       "  </thead>\n",
       "  <tbody>\n",
       "    <tr>\n",
       "      <th>0</th>\n",
       "      <td>892420643555336193</td>\n",
       "      <td>This is Phineas. He's a mystical boy. Only eve...</td>\n",
       "      <td>34369</td>\n",
       "      <td>7144</td>\n",
       "      <td>media</td>\n",
       "      <td>[86</td>\n",
       "    </tr>\n",
       "    <tr>\n",
       "      <th>1</th>\n",
       "      <td>892177421306343426</td>\n",
       "      <td>This is Tilly. She's just checking pup on you....</td>\n",
       "      <td>NaN</td>\n",
       "      <td>NaN</td>\n",
       "      <td>https://t.co/aQFSeaCu9L</td>\n",
       "      <td>9096876</td>\n",
       "    </tr>\n",
       "    <tr>\n",
       "      <th>2</th>\n",
       "      <td>891815181378084864</td>\n",
       "      <td>This is Archie. He is a rare Norwegian Pouncin...</td>\n",
       "      <td>NaN</td>\n",
       "      <td>NaN</td>\n",
       "      <td>https://t.co/r0YlrsGCgy</td>\n",
       "      <td>9096876</td>\n",
       "    </tr>\n",
       "  </tbody>\n",
       "</table>\n",
       "</div>"
      ],
      "text/plain": [
       "             tweet_id                                        description  \\\n",
       "0  892420643555336193  This is Phineas. He's a mystical boy. Only eve...   \n",
       "1  892177421306343426  This is Tilly. She's just checking pup on you....   \n",
       "2  891815181378084864  This is Archie. He is a rare Norwegian Pouncin...   \n",
       "\n",
       "  favorite_count retweet_count                      url followers  \n",
       "0          34369          7144                    media       [86  \n",
       "1            NaN           NaN  https://t.co/aQFSeaCu9L   9096876  \n",
       "2            NaN           NaN  https://t.co/r0YlrsGCgy   9096876  "
      ]
     },
     "execution_count": 22,
     "metadata": {},
     "output_type": "execute_result"
    }
   ],
   "source": [
    "chosen_data.head(3)"
   ]
  },
  {
   "cell_type": "code",
   "execution_count": 23,
   "metadata": {},
   "outputs": [],
   "source": [
    "chosen_data.to_csv('chosen_data.csv')"
   ]
  },
  {
   "cell_type": "markdown",
   "metadata": {},
   "source": [
    "### Issue #2:\n",
    "#### Define: There's a word - \"false\" in columns like number of favorite and number of likes"
   ]
  },
  {
   "cell_type": "markdown",
   "metadata": {},
   "source": [
    "#### Code"
   ]
  },
  {
   "cell_type": "code",
   "execution_count": 24,
   "metadata": {},
   "outputs": [],
   "source": [
    "#getting the indexes of all the rows that have \"false\"as a value\n",
    "i = chosen_data[(chosen_data.favorite_count == 'false')].index"
   ]
  },
  {
   "cell_type": "code",
   "execution_count": 25,
   "metadata": {},
   "outputs": [],
   "source": [
    "#replacing the \"false\" with 0\n",
    "for x in i:\n",
    "    chosen_data.at[i, 'favorite_count'] = '0'"
   ]
  },
  {
   "cell_type": "code",
   "execution_count": 26,
   "metadata": {},
   "outputs": [
    {
     "name": "stdout",
     "output_type": "stream",
     "text": [
      "Int64Index([538, 539, 540, 541, 542, 543, 544, 1065, 1066], dtype='int64')\n"
     ]
    }
   ],
   "source": [
    "#utilizing the values of i to check whether the values of rows got changed\n",
    "print(i)"
   ]
  },
  {
   "cell_type": "markdown",
   "metadata": {},
   "source": [
    "#### Test"
   ]
  },
  {
   "cell_type": "code",
   "execution_count": 27,
   "metadata": {},
   "outputs": [
    {
     "data": {
      "text/plain": [
       "tweet_id                                         750041628174217216\n",
       "description       This is Beau. He's trying to keep his daddy fr...\n",
       "favorite_count                                                    0\n",
       "retweet_count                                                  3011\n",
       "url                                                           media\n",
       "followers                                                      [112\n",
       "Name: 540, dtype: object"
      ]
     },
     "execution_count": 27,
     "metadata": {},
     "output_type": "execute_result"
    }
   ],
   "source": [
    "chosen_data.iloc[540]"
   ]
  },
  {
   "cell_type": "code",
   "execution_count": 28,
   "metadata": {},
   "outputs": [],
   "source": [
    "chosen_data.to_csv('chosen_data.csv')"
   ]
  },
  {
   "cell_type": "code",
   "execution_count": null,
   "metadata": {},
   "outputs": [],
   "source": []
  },
  {
   "cell_type": "markdown",
   "metadata": {},
   "source": [
    "### Issue #3:\n",
    "#### Define:  There are erroneous data types assigned to the numerical columns"
   ]
  },
  {
   "cell_type": "markdown",
   "metadata": {},
   "source": [
    "#### Code"
   ]
  },
  {
   "cell_type": "code",
   "execution_count": 29,
   "metadata": {},
   "outputs": [
    {
     "name": "stdout",
     "output_type": "stream",
     "text": [
      "<class 'pandas.core.frame.DataFrame'>\n",
      "RangeIndex: 1633 entries, 0 to 1632\n",
      "Data columns (total 6 columns):\n",
      " #   Column          Non-Null Count  Dtype \n",
      "---  ------          --------------  ----- \n",
      " 0   tweet_id        1633 non-null   object\n",
      " 1   description     1633 non-null   object\n",
      " 2   favorite_count  1233 non-null   object\n",
      " 3   retweet_count   1233 non-null   object\n",
      " 4   url             1633 non-null   object\n",
      " 5   followers       1633 non-null   object\n",
      "dtypes: object(6)\n",
      "memory usage: 76.7+ KB\n"
     ]
    }
   ],
   "source": [
    "chosen_data.info()"
   ]
  },
  {
   "cell_type": "code",
   "execution_count": 31,
   "metadata": {},
   "outputs": [],
   "source": [
    "chosen_data['favorite_count'] = pd.to_numeric(chosen_data['favorite_count'])"
   ]
  },
  {
   "cell_type": "code",
   "execution_count": 93,
   "metadata": {},
   "outputs": [],
   "source": [
    "#changing the data type of tweet_id of chosen_data to int so that we can merge it with other datasets to create a master data\n",
    "chosen_data['tweet_id'] = chosen_data['tweet_id'].astype(str).astype(int)"
   ]
  },
  {
   "cell_type": "code",
   "execution_count": 94,
   "metadata": {},
   "outputs": [],
   "source": [
    "#creating master data set by merging chosen_data, archived_enhanced and img_pred\n",
    "master_data = pd.merge(chosen_data, archive_enhanced, on = 'tweet_id')\n",
    "master_data = pd.merge(master_data, img_pred, on = 'tweet_id')"
   ]
  },
  {
   "cell_type": "code",
   "execution_count": 101,
   "metadata": {},
   "outputs": [
    {
     "data": {
      "text/html": [
       "<div>\n",
       "<style scoped>\n",
       "    .dataframe tbody tr th:only-of-type {\n",
       "        vertical-align: middle;\n",
       "    }\n",
       "\n",
       "    .dataframe tbody tr th {\n",
       "        vertical-align: top;\n",
       "    }\n",
       "\n",
       "    .dataframe thead th {\n",
       "        text-align: right;\n",
       "    }\n",
       "</style>\n",
       "<table border=\"1\" class=\"dataframe\">\n",
       "  <thead>\n",
       "    <tr style=\"text-align: right;\">\n",
       "      <th></th>\n",
       "      <th>tweet_id</th>\n",
       "      <th>description</th>\n",
       "      <th>favorite_count</th>\n",
       "      <th>retweet_count</th>\n",
       "      <th>url</th>\n",
       "      <th>followers</th>\n",
       "      <th>in_reply_to_status_id</th>\n",
       "      <th>in_reply_to_user_id</th>\n",
       "      <th>timestamp</th>\n",
       "      <th>source</th>\n",
       "      <th>...</th>\n",
       "      <th>img_num</th>\n",
       "      <th>p1</th>\n",
       "      <th>p1_conf</th>\n",
       "      <th>p1_dog</th>\n",
       "      <th>p2</th>\n",
       "      <th>p2_conf</th>\n",
       "      <th>p2_dog</th>\n",
       "      <th>p3</th>\n",
       "      <th>p3_conf</th>\n",
       "      <th>p3_dog</th>\n",
       "    </tr>\n",
       "  </thead>\n",
       "  <tbody>\n",
       "    <tr>\n",
       "      <th>0</th>\n",
       "      <td>892420643555336193</td>\n",
       "      <td>This is Phineas. He's a mystical boy. Only eve...</td>\n",
       "      <td>34369</td>\n",
       "      <td>7144</td>\n",
       "      <td>media</td>\n",
       "      <td>[86</td>\n",
       "      <td>NaN</td>\n",
       "      <td>NaN</td>\n",
       "      <td>2017-08-01 16:23:56 +0000</td>\n",
       "      <td>&lt;a href=\"http://twitter.com/download/iphone\" r...</td>\n",
       "      <td>...</td>\n",
       "      <td>1</td>\n",
       "      <td>orange</td>\n",
       "      <td>0.097049</td>\n",
       "      <td>False</td>\n",
       "      <td>bagel</td>\n",
       "      <td>0.085851</td>\n",
       "      <td>False</td>\n",
       "      <td>banana</td>\n",
       "      <td>0.076110</td>\n",
       "      <td>False</td>\n",
       "    </tr>\n",
       "    <tr>\n",
       "      <th>1</th>\n",
       "      <td>892177421306343426</td>\n",
       "      <td>This is Tilly. She's just checking pup on you....</td>\n",
       "      <td>NaN</td>\n",
       "      <td>NaN</td>\n",
       "      <td>https://t.co/aQFSeaCu9L</td>\n",
       "      <td>9096876</td>\n",
       "      <td>NaN</td>\n",
       "      <td>NaN</td>\n",
       "      <td>2017-08-01 00:17:27 +0000</td>\n",
       "      <td>&lt;a href=\"http://twitter.com/download/iphone\" r...</td>\n",
       "      <td>...</td>\n",
       "      <td>1</td>\n",
       "      <td>Chihuahua</td>\n",
       "      <td>0.323581</td>\n",
       "      <td>True</td>\n",
       "      <td>Pekinese</td>\n",
       "      <td>0.090647</td>\n",
       "      <td>True</td>\n",
       "      <td>papillon</td>\n",
       "      <td>0.068957</td>\n",
       "      <td>True</td>\n",
       "    </tr>\n",
       "    <tr>\n",
       "      <th>2</th>\n",
       "      <td>891815181378084864</td>\n",
       "      <td>This is Archie. He is a rare Norwegian Pouncin...</td>\n",
       "      <td>NaN</td>\n",
       "      <td>NaN</td>\n",
       "      <td>https://t.co/r0YlrsGCgy</td>\n",
       "      <td>9096876</td>\n",
       "      <td>NaN</td>\n",
       "      <td>NaN</td>\n",
       "      <td>2017-07-31 00:18:03 +0000</td>\n",
       "      <td>&lt;a href=\"http://twitter.com/download/iphone\" r...</td>\n",
       "      <td>...</td>\n",
       "      <td>1</td>\n",
       "      <td>Chihuahua</td>\n",
       "      <td>0.716012</td>\n",
       "      <td>True</td>\n",
       "      <td>malamute</td>\n",
       "      <td>0.078253</td>\n",
       "      <td>True</td>\n",
       "      <td>kelpie</td>\n",
       "      <td>0.031379</td>\n",
       "      <td>True</td>\n",
       "    </tr>\n",
       "    <tr>\n",
       "      <th>3</th>\n",
       "      <td>891689557279858688</td>\n",
       "      <td>This is Darla. She commenced a snooze mid meal...</td>\n",
       "      <td>37548</td>\n",
       "      <td>7347</td>\n",
       "      <td>media</td>\n",
       "      <td>[80</td>\n",
       "      <td>NaN</td>\n",
       "      <td>NaN</td>\n",
       "      <td>2017-07-30 15:58:51 +0000</td>\n",
       "      <td>&lt;a href=\"http://twitter.com/download/iphone\" r...</td>\n",
       "      <td>...</td>\n",
       "      <td>1</td>\n",
       "      <td>paper_towel</td>\n",
       "      <td>0.170278</td>\n",
       "      <td>False</td>\n",
       "      <td>Labrador_retriever</td>\n",
       "      <td>0.168086</td>\n",
       "      <td>True</td>\n",
       "      <td>spatula</td>\n",
       "      <td>0.040836</td>\n",
       "      <td>False</td>\n",
       "    </tr>\n",
       "    <tr>\n",
       "      <th>4</th>\n",
       "      <td>891327558926688256</td>\n",
       "      <td>This is Franklin. He would like you to stop ca...</td>\n",
       "      <td>NaN</td>\n",
       "      <td>NaN</td>\n",
       "      <td>https://t.co/0g0KMIVXZ3\"</td>\n",
       "      <td>http://links.weratedogs.com</td>\n",
       "      <td>NaN</td>\n",
       "      <td>NaN</td>\n",
       "      <td>2017-07-29 16:00:24 +0000</td>\n",
       "      <td>&lt;a href=\"http://twitter.com/download/iphone\" r...</td>\n",
       "      <td>...</td>\n",
       "      <td>2</td>\n",
       "      <td>basset</td>\n",
       "      <td>0.555712</td>\n",
       "      <td>True</td>\n",
       "      <td>English_springer</td>\n",
       "      <td>0.225770</td>\n",
       "      <td>True</td>\n",
       "      <td>German_short-haired_pointer</td>\n",
       "      <td>0.175219</td>\n",
       "      <td>True</td>\n",
       "    </tr>\n",
       "  </tbody>\n",
       "</table>\n",
       "<p>5 rows × 33 columns</p>\n",
       "</div>"
      ],
      "text/plain": [
       "             tweet_id                                        description  \\\n",
       "0  892420643555336193  This is Phineas. He's a mystical boy. Only eve...   \n",
       "1  892177421306343426  This is Tilly. She's just checking pup on you....   \n",
       "2  891815181378084864  This is Archie. He is a rare Norwegian Pouncin...   \n",
       "3  891689557279858688  This is Darla. She commenced a snooze mid meal...   \n",
       "4  891327558926688256  This is Franklin. He would like you to stop ca...   \n",
       "\n",
       "  favorite_count retweet_count                       url  \\\n",
       "0          34369          7144                     media   \n",
       "1            NaN           NaN   https://t.co/aQFSeaCu9L   \n",
       "2            NaN           NaN   https://t.co/r0YlrsGCgy   \n",
       "3          37548          7347                     media   \n",
       "4            NaN           NaN  https://t.co/0g0KMIVXZ3\"   \n",
       "\n",
       "                     followers  in_reply_to_status_id  in_reply_to_user_id  \\\n",
       "0                          [86                    NaN                  NaN   \n",
       "1                      9096876                    NaN                  NaN   \n",
       "2                      9096876                    NaN                  NaN   \n",
       "3                          [80                    NaN                  NaN   \n",
       "4  http://links.weratedogs.com                    NaN                  NaN   \n",
       "\n",
       "                   timestamp  \\\n",
       "0  2017-08-01 16:23:56 +0000   \n",
       "1  2017-08-01 00:17:27 +0000   \n",
       "2  2017-07-31 00:18:03 +0000   \n",
       "3  2017-07-30 15:58:51 +0000   \n",
       "4  2017-07-29 16:00:24 +0000   \n",
       "\n",
       "                                              source  ... img_num  \\\n",
       "0  <a href=\"http://twitter.com/download/iphone\" r...  ...       1   \n",
       "1  <a href=\"http://twitter.com/download/iphone\" r...  ...       1   \n",
       "2  <a href=\"http://twitter.com/download/iphone\" r...  ...       1   \n",
       "3  <a href=\"http://twitter.com/download/iphone\" r...  ...       1   \n",
       "4  <a href=\"http://twitter.com/download/iphone\" r...  ...       2   \n",
       "\n",
       "            p1   p1_conf p1_dog                  p2   p2_conf  p2_dog  \\\n",
       "0       orange  0.097049  False               bagel  0.085851   False   \n",
       "1    Chihuahua  0.323581   True            Pekinese  0.090647    True   \n",
       "2    Chihuahua  0.716012   True            malamute  0.078253    True   \n",
       "3  paper_towel  0.170278  False  Labrador_retriever  0.168086    True   \n",
       "4       basset  0.555712   True    English_springer  0.225770    True   \n",
       "\n",
       "                            p3   p3_conf p3_dog  \n",
       "0                       banana  0.076110  False  \n",
       "1                     papillon  0.068957   True  \n",
       "2                       kelpie  0.031379   True  \n",
       "3                      spatula  0.040836  False  \n",
       "4  German_short-haired_pointer  0.175219   True  \n",
       "\n",
       "[5 rows x 33 columns]"
      ]
     },
     "execution_count": 101,
     "metadata": {},
     "output_type": "execute_result"
    }
   ],
   "source": [
    "master_data.head(5)"
   ]
  },
  {
   "cell_type": "code",
   "execution_count": 112,
   "metadata": {},
   "outputs": [],
   "source": [
    "####dropping unwanted columns\n",
    "master_data.drop(['in_reply_to_status_id','in_reply_to_user_id', 'text'], axis = 1, inplace = True)"
   ]
  },
  {
   "cell_type": "code",
   "execution_count": 114,
   "metadata": {},
   "outputs": [],
   "source": [
    "master_data.to_csv('master_data.csv')"
   ]
  },
  {
   "cell_type": "code",
   "execution_count": 132,
   "metadata": {},
   "outputs": [
    {
     "name": "stdout",
     "output_type": "stream",
     "text": [
      "<class 'pandas.core.frame.DataFrame'>\n",
      "Int64Index: 1476 entries, 0 to 1475\n",
      "Data columns (total 31 columns):\n",
      " #   Column                      Non-Null Count  Dtype  \n",
      "---  ------                      --------------  -----  \n",
      " 0   tweet_id                    1476 non-null   int64  \n",
      " 1   description                 1476 non-null   object \n",
      " 2   favorite_count              1233 non-null   object \n",
      " 3   retweet_count               1233 non-null   object \n",
      " 4   url                         1476 non-null   object \n",
      " 5   followers                   1476 non-null   object \n",
      " 6   timestamp                   1476 non-null   object \n",
      " 7   source                      1476 non-null   object \n",
      " 8   retweeted_status_id         0 non-null      float64\n",
      " 9   retweeted_status_user_id    0 non-null      float64\n",
      " 10  retweeted_status_timestamp  0 non-null      object \n",
      " 11  expanded_urls               1476 non-null   object \n",
      " 12  rating_numerator            1476 non-null   int64  \n",
      " 13  rating_denominator          1476 non-null   int64  \n",
      " 14  name                        1476 non-null   object \n",
      " 15  doggo                       1476 non-null   object \n",
      " 16  floofer                     1476 non-null   object \n",
      " 17  pupper                      1476 non-null   object \n",
      " 18  puppo                       1476 non-null   object \n",
      " 19  jpg_url                     1476 non-null   object \n",
      " 20  img_num                     1476 non-null   int64  \n",
      " 21  p1                          1476 non-null   object \n",
      " 22  p1_conf                     1476 non-null   float64\n",
      " 23  p1_dog                      1476 non-null   bool   \n",
      " 24  p2                          1476 non-null   object \n",
      " 25  p2_conf                     1476 non-null   float64\n",
      " 26  p2_dog                      1476 non-null   bool   \n",
      " 27  p3                          1476 non-null   object \n",
      " 28  p3_conf                     1476 non-null   float64\n",
      " 29  p3_dog                      1476 non-null   bool   \n",
      " 30  dog_stages                  1476 non-null   object \n",
      "dtypes: bool(3), float64(5), int64(4), object(19)\n",
      "memory usage: 338.7+ KB\n"
     ]
    }
   ],
   "source": [
    "master_data.info()"
   ]
  },
  {
   "cell_type": "code",
   "execution_count": null,
   "metadata": {},
   "outputs": [],
   "source": []
  },
  {
   "cell_type": "markdown",
   "metadata": {},
   "source": [
    "#### Test"
   ]
  },
  {
   "cell_type": "code",
   "execution_count": null,
   "metadata": {},
   "outputs": [],
   "source": []
  },
  {
   "cell_type": "markdown",
   "metadata": {},
   "source": [
    "### Issue #5:\n",
    "#### Define:  Combine dog stages into one column"
   ]
  },
  {
   "cell_type": "markdown",
   "metadata": {},
   "source": [
    "#### Code"
   ]
  },
  {
   "cell_type": "code",
   "execution_count": 115,
   "metadata": {},
   "outputs": [],
   "source": [
    "master_data['dog_stages'] = master_data.doggo + master_data.floofer + master_data.pupper + master_data.puppo"
   ]
  },
  {
   "cell_type": "code",
   "execution_count": 131,
   "metadata": {},
   "outputs": [
    {
     "data": {
      "text/plain": [
       "tweet_id                      1263\n",
       "description                   1263\n",
       "favorite_count                1068\n",
       "retweet_count                 1068\n",
       "url                           1263\n",
       "followers                     1263\n",
       "timestamp                     1263\n",
       "source                        1263\n",
       "retweeted_status_id              0\n",
       "retweeted_status_user_id         0\n",
       "retweeted_status_timestamp       0\n",
       "expanded_urls                 1263\n",
       "rating_numerator              1263\n",
       "rating_denominator            1263\n",
       "name                          1263\n",
       "doggo                         1263\n",
       "floofer                       1263\n",
       "pupper                        1263\n",
       "puppo                         1263\n",
       "jpg_url                       1263\n",
       "img_num                       1263\n",
       "p1                            1263\n",
       "p1_conf                       1263\n",
       "p1_dog                        1263\n",
       "p2                            1263\n",
       "p2_conf                       1263\n",
       "p2_dog                        1263\n",
       "p3                            1263\n",
       "p3_conf                       1263\n",
       "p3_dog                        1263\n",
       "dog_stages                    1263\n",
       "dtype: int64"
      ]
     },
     "execution_count": 131,
     "metadata": {},
     "output_type": "execute_result"
    }
   ],
   "source": [
    "master_data.query('dog_stages == \"NoneNoneNoneNone\"').count()"
   ]
  },
  {
   "cell_type": "code",
   "execution_count": null,
   "metadata": {},
   "outputs": [],
   "source": []
  },
  {
   "cell_type": "code",
   "execution_count": null,
   "metadata": {},
   "outputs": [],
   "source": []
  },
  {
   "cell_type": "code",
   "execution_count": null,
   "metadata": {},
   "outputs": [],
   "source": []
  },
  {
   "cell_type": "markdown",
   "metadata": {},
   "source": [
    "#### Test"
   ]
  },
  {
   "cell_type": "code",
   "execution_count": null,
   "metadata": {},
   "outputs": [],
   "source": []
  },
  {
   "cell_type": "markdown",
   "metadata": {},
   "source": [
    "### Issue #5:\n",
    "#### Define:  There are erroneous data types assigned to the numerical columns"
   ]
  },
  {
   "cell_type": "markdown",
   "metadata": {},
   "source": [
    "#### Code"
   ]
  },
  {
   "cell_type": "code",
   "execution_count": null,
   "metadata": {},
   "outputs": [],
   "source": []
  },
  {
   "cell_type": "markdown",
   "metadata": {},
   "source": [
    "#### Test"
   ]
  },
  {
   "cell_type": "code",
   "execution_count": null,
   "metadata": {},
   "outputs": [],
   "source": []
  },
  {
   "cell_type": "markdown",
   "metadata": {},
   "source": [
    "### Issue #6:\n",
    "#### Define:  There are erroneous data types assigned to the numerical columns"
   ]
  },
  {
   "cell_type": "markdown",
   "metadata": {},
   "source": [
    "#### Code"
   ]
  },
  {
   "cell_type": "code",
   "execution_count": null,
   "metadata": {},
   "outputs": [],
   "source": []
  },
  {
   "cell_type": "markdown",
   "metadata": {},
   "source": [
    "#### Test"
   ]
  },
  {
   "cell_type": "code",
   "execution_count": null,
   "metadata": {},
   "outputs": [],
   "source": []
  },
  {
   "cell_type": "markdown",
   "metadata": {},
   "source": [
    "### Issue #7:\n",
    "#### Define:  There are erroneous data types assigned to the numerical columns"
   ]
  },
  {
   "cell_type": "markdown",
   "metadata": {},
   "source": [
    "#### Code"
   ]
  },
  {
   "cell_type": "code",
   "execution_count": null,
   "metadata": {},
   "outputs": [],
   "source": []
  },
  {
   "cell_type": "markdown",
   "metadata": {},
   "source": [
    "#### Test"
   ]
  },
  {
   "cell_type": "code",
   "execution_count": null,
   "metadata": {},
   "outputs": [],
   "source": []
  },
  {
   "cell_type": "markdown",
   "metadata": {},
   "source": [
    "### Issue #8:\n",
    "#### Define:  There are erroneous data types assigned to the numerical columns"
   ]
  },
  {
   "cell_type": "markdown",
   "metadata": {},
   "source": [
    "#### Code"
   ]
  },
  {
   "cell_type": "code",
   "execution_count": null,
   "metadata": {},
   "outputs": [],
   "source": []
  },
  {
   "cell_type": "markdown",
   "metadata": {},
   "source": [
    "#### Test"
   ]
  },
  {
   "cell_type": "code",
   "execution_count": null,
   "metadata": {},
   "outputs": [],
   "source": []
  },
  {
   "cell_type": "code",
   "execution_count": null,
   "metadata": {},
   "outputs": [],
   "source": []
  },
  {
   "cell_type": "markdown",
   "metadata": {},
   "source": [
    "## Storing Data\n",
    "Save gathered, assessed, and cleaned master dataset to a CSV file named \"twitter_archive_master.csv\"."
   ]
  },
  {
   "cell_type": "code",
   "execution_count": null,
   "metadata": {},
   "outputs": [],
   "source": []
  },
  {
   "cell_type": "code",
   "execution_count": null,
   "metadata": {},
   "outputs": [],
   "source": []
  },
  {
   "cell_type": "code",
   "execution_count": null,
   "metadata": {},
   "outputs": [],
   "source": []
  },
  {
   "cell_type": "code",
   "execution_count": null,
   "metadata": {},
   "outputs": [],
   "source": []
  },
  {
   "cell_type": "code",
   "execution_count": null,
   "metadata": {},
   "outputs": [],
   "source": []
  },
  {
   "cell_type": "code",
   "execution_count": null,
   "metadata": {},
   "outputs": [],
   "source": []
  },
  {
   "cell_type": "code",
   "execution_count": null,
   "metadata": {},
   "outputs": [],
   "source": []
  },
  {
   "cell_type": "markdown",
   "metadata": {},
   "source": [
    "## Analyzing and Visualizing Data\n",
    "In this section, analyze and visualize your wrangled data. You must produce at least **three (3) insights and one (1) visualization.**"
   ]
  },
  {
   "cell_type": "code",
   "execution_count": null,
   "metadata": {},
   "outputs": [],
   "source": []
  },
  {
   "cell_type": "code",
   "execution_count": null,
   "metadata": {},
   "outputs": [],
   "source": []
  },
  {
   "cell_type": "code",
   "execution_count": null,
   "metadata": {},
   "outputs": [],
   "source": []
  },
  {
   "cell_type": "markdown",
   "metadata": {},
   "source": [
    "### Insights:\n",
    "1.\n",
    "\n",
    "2.\n",
    "\n",
    "3."
   ]
  },
  {
   "cell_type": "markdown",
   "metadata": {},
   "source": [
    "### Visualization"
   ]
  },
  {
   "cell_type": "code",
   "execution_count": null,
   "metadata": {},
   "outputs": [],
   "source": []
  }
 ],
 "metadata": {
  "kernelspec": {
   "display_name": "Python 3",
   "language": "python",
   "name": "python3"
  },
  "language_info": {
   "codemirror_mode": {
    "name": "ipython",
    "version": 3
   },
   "file_extension": ".py",
   "mimetype": "text/x-python",
   "name": "python",
   "nbconvert_exporter": "python",
   "pygments_lexer": "ipython3",
   "version": "3.8.5"
  }
 },
 "nbformat": 4,
 "nbformat_minor": 4
}
